{
  "cells": [
    {
      "cell_type": "markdown",
      "metadata": {
        "id": "view-in-github",
        "colab_type": "text"
      },
      "source": [
        "<a href=\"https://colab.research.google.com/github/davidrtorres/Deep_Learning/blob/main/images_Data_Augmentation.ipynb\" target=\"_parent\"><img src=\"https://colab.research.google.com/assets/colab-badge.svg\" alt=\"Open In Colab\"/></a>"
      ]
    },
    {
      "cell_type": "markdown",
      "metadata": {
        "id": "39c3702f-d666-4df9-8947-a45c6535c8e6"
      },
      "source": [
        "### Data Augmentation\n",
        "This is an image binary classification problem using convolutional neural networks (CNN) to detect whether images of malarial cells are parasitized or healthy.  The dataset consists of 2 folders of Parasitized and Uninfected images. The Parasitized folder contains 13,799 images. The Unifected folder also contains 13,799 images.  \n",
        "\n",
        "I used the ImageDataGenerator so I needed to create train and validation sets from the dataset.  I used the split-folders library which resulted in creating train and validation with 80% and 20% of the dataset.  The ImageDataGenerator class allows the users to perform image augmentation while training the model.  Data augmentation allows you to generate new samples from existing training samples.  With data augmentation, from an image we can apply several transformations such as horizontal flip, rotation, scaling, contrast, zoom.  This also you to generate new samples of the image."
      ],
      "id": "39c3702f-d666-4df9-8947-a45c6535c8e6"
    },
    {
      "cell_type": "code",
      "execution_count": 1,
      "metadata": {
        "colab": {
          "base_uri": "https://localhost:8080/"
        },
        "id": "ALnCcsbB7XQV",
        "outputId": "a29d2179-62bb-4dd2-fc34-e2f2e41f3975"
      },
      "outputs": [
        {
          "output_type": "stream",
          "name": "stdout",
          "text": [
            "Mounted at /content/drive\n"
          ]
        }
      ],
      "source": [
        "from google.colab import drive\n",
        "drive.mount('/content/drive')"
      ],
      "id": "ALnCcsbB7XQV"
    },
    {
      "cell_type": "code",
      "execution_count": 2,
      "metadata": {
        "id": "1acfa501-b43b-4e46-a946-8cb5c1a418c6"
      },
      "outputs": [],
      "source": [
        "import matplotlib.pyplot as plt\n",
        "import numpy as np\n",
        "import cv2\n",
        "import os\n",
        "import PIL #Python image library\n",
        "import tensorflow as tf\n",
        "\n",
        "from keras.preprocessing.image import ImageDataGenerator, img_to_array, load_img\n",
        "from tensorflow import keras\n",
        "from tensorflow.keras import layers\n",
        "from tensorflow.keras.models import Sequential\n",
        "\n",
        "from keras.models import Sequential\n",
        "from keras.layers import Conv2D, MaxPooling2D\n",
        "from tensorflow.keras import models, layers\n",
        "from keras.layers import Activation, Dropout, Flatten, Dense\n",
        "from tensorflow.keras.models import Model, load_model\n",
        "from tensorflow.keras.layers import BatchNormalization"
      ],
      "id": "1acfa501-b43b-4e46-a946-8cb5c1a418c6"
    },
    {
      "cell_type": "code",
      "execution_count": 3,
      "metadata": {
        "colab": {
          "base_uri": "https://localhost:8080/"
        },
        "id": "NgphETZkAnCM",
        "outputId": "d02df208-25bc-4099-8edd-45350d19d215"
      },
      "outputs": [
        {
          "output_type": "stream",
          "name": "stdout",
          "text": [
            "Looking in indexes: https://pypi.org/simple, https://us-python.pkg.dev/colab-wheels/public/simple/\n",
            "Collecting split-folders\n",
            "  Downloading split_folders-0.5.1-py3-none-any.whl (8.4 kB)\n",
            "Installing collected packages: split-folders\n",
            "Successfully installed split-folders-0.5.1\n"
          ]
        }
      ],
      "source": [
        "pip install split-folders"
      ],
      "id": "NgphETZkAnCM"
    },
    {
      "cell_type": "code",
      "execution_count": 4,
      "metadata": {
        "id": "oCZ7E9RyA2kG"
      },
      "outputs": [],
      "source": [
        "import splitfolders"
      ],
      "id": "oCZ7E9RyA2kG"
    },
    {
      "cell_type": "markdown",
      "metadata": {
        "id": "PKyuyaSPnExo"
      },
      "source": [
        "### Split Dataset into Train and Validation Sets"
      ],
      "id": "PKyuyaSPnExo"
    },
    {
      "cell_type": "code",
      "execution_count": 5,
      "metadata": {
        "colab": {
          "base_uri": "https://localhost:8080/"
        },
        "id": "JGNSJm8BA78i",
        "outputId": "2c011d73-43d1-4dec-de40-d888cf8224b0"
      },
      "outputs": [
        {
          "output_type": "stream",
          "name": "stderr",
          "text": [
            "Copying files: 27560 files [3:21:01,  2.28 files/s]\n"
          ]
        }
      ],
      "source": [
        "#validation data is used as part of the training but only to validate after each epoch and report metrics after each epoch using vlidation data\n",
        "#test set doesn't get used as part of the training.  To test completely trained model on the test data\n",
        "\"\"\"\n",
        "input_folder = \"/path/to/input/folder\"\n",
        "output = \"/path/to/output/folder\" #where you want the split datasets saved. one will be created if it does not exist or none is set\n",
        "\n",
        "split_folders.ratio(input_folder, output=output, seed=42, ratio=(.8, .1, .1)) # ratio of split are in order of train/val/test. For train/val sets only do .75, .25 .\n",
        "\n",
        "\"\"\"\n",
        "input_folder = \"/content/drive/MyDrive/datasets/cell_images/\"\n",
        "\n",
        "splitfolders.ratio(input_folder, output=\"/content/drive/MyDrive/datasets/cell_images2\",seed=42, ratio=(.80,.20), group_prefix=None)"
      ],
      "id": "JGNSJm8BA78i"
    },
    {
      "cell_type": "markdown",
      "metadata": {
        "id": "u0a7h_9Xbdf8"
      },
      "source": [
        "### Create Convolutional Neural Network Model"
      ],
      "id": "u0a7h_9Xbdf8"
    },
    {
      "cell_type": "code",
      "execution_count": 6,
      "metadata": {
        "id": "pMgyoDYNA0CV"
      },
      "outputs": [],
      "source": [
        "BATCH_SIZE = 32\n",
        "SIZE = 150\n",
        "CHANNELS=3"
      ],
      "id": "pMgyoDYNA0CV"
    },
    {
      "cell_type": "code",
      "execution_count": 7,
      "metadata": {
        "colab": {
          "base_uri": "https://localhost:8080/"
        },
        "id": "XDk_4-KyAdHS",
        "outputId": "3ec18d6e-37a8-46b5-fcdd-3fdf4a2dd1d9"
      },
      "outputs": [
        {
          "output_type": "stream",
          "name": "stdout",
          "text": [
            "Model: \"sequential\"\n",
            "_________________________________________________________________\n",
            " Layer (type)                Output Shape              Param #   \n",
            "=================================================================\n",
            " conv2d (Conv2D)             (None, 148, 148, 32)      896       \n",
            "                                                                 \n",
            " activation (Activation)     (None, 148, 148, 32)      0         \n",
            "                                                                 \n",
            " max_pooling2d (MaxPooling2D  (None, 74, 74, 32)       0         \n",
            " )                                                               \n",
            "                                                                 \n",
            " batch_normalization (BatchN  (None, 74, 74, 32)       128       \n",
            " ormalization)                                                   \n",
            "                                                                 \n",
            " dropout (Dropout)           (None, 74, 74, 32)        0         \n",
            "                                                                 \n",
            " conv2d_1 (Conv2D)           (None, 72, 72, 32)        9248      \n",
            "                                                                 \n",
            " activation_1 (Activation)   (None, 72, 72, 32)        0         \n",
            "                                                                 \n",
            " max_pooling2d_1 (MaxPooling  (None, 36, 36, 32)       0         \n",
            " 2D)                                                             \n",
            "                                                                 \n",
            " dropout_1 (Dropout)         (None, 36, 36, 32)        0         \n",
            "                                                                 \n",
            " conv2d_2 (Conv2D)           (None, 34, 34, 64)        18496     \n",
            "                                                                 \n",
            " activation_2 (Activation)   (None, 34, 34, 64)        0         \n",
            "                                                                 \n",
            " max_pooling2d_2 (MaxPooling  (None, 17, 17, 64)       0         \n",
            " 2D)                                                             \n",
            "                                                                 \n",
            " batch_normalization_1 (Batc  (None, 17, 17, 64)       256       \n",
            " hNormalization)                                                 \n",
            "                                                                 \n",
            " dropout_2 (Dropout)         (None, 17, 17, 64)        0         \n",
            "                                                                 \n",
            " flatten (Flatten)           (None, 18496)             0         \n",
            "                                                                 \n",
            " dense (Dense)               (None, 256)               4735232   \n",
            "                                                                 \n",
            " batch_normalization_2 (Batc  (None, 256)              1024      \n",
            " hNormalization)                                                 \n",
            "                                                                 \n",
            " dropout_3 (Dropout)         (None, 256)               0         \n",
            "                                                                 \n",
            " dense_1 (Dense)             (None, 1)                 257       \n",
            "                                                                 \n",
            "=================================================================\n",
            "Total params: 4,765,537\n",
            "Trainable params: 4,764,833\n",
            "Non-trainable params: 704\n",
            "_________________________________________________________________\n"
          ]
        }
      ],
      "source": [
        "INPUT_SHAPE = (SIZE, SIZE, 3)   #change to (SIZE, SIZE, 3). Images input into network\n",
        "\n",
        "\n",
        "model = Sequential()\n",
        "model.add(Conv2D(32, (3, 3), input_shape=INPUT_SHAPE))\n",
        "model.add(Activation('relu'))\n",
        "model.add(MaxPooling2D(pool_size=(2, 2)))#puts a 2 x 2 matrix on top of previous image. In matrix pulling maximum #.\n",
        "model.add(BatchNormalization(axis=-1))\n",
        "model.add(Dropout(rate=0.2))#droput 20% of data radomnly, way of regularizing algorithm to avoid overfittin or minimize it.\n",
        "\n",
        "model.add(Conv2D(32, (3, 3))) #, kernel_initializer = 'he_uniform'\n",
        "model.add(Activation('relu'))\n",
        "model.add(MaxPooling2D(pool_size=(2, 2)))\n",
        "model.add(Dropout(rate=0.2))\n",
        "\n",
        "model.add(Conv2D(64, (3, 3))) #, kernel_initializer = 'he_uniform'\n",
        "model.add(Activation('relu'))\n",
        "model.add(MaxPooling2D(pool_size=(2, 2)))\n",
        "model.add(BatchNormalization(axis=-1))\n",
        "model.add(Dropout(rate=0.2))\n",
        "\n",
        "#flatten layer\n",
        "model.add(Flatten())\n",
        "#hidden layer\n",
        "model.add(Dense(256, activation='relu'))\n",
        "#model.add(Activation('relu'))\n",
        "model.add(BatchNormalization(axis=-1))\n",
        "model.add(Dropout(0.5))\n",
        "#output layer\n",
        "model.add(Dense(1, activation='sigmoid'))\n",
        "\n",
        "\n",
        "#loss function we're trying to minimize after every epoch\n",
        "model.compile(loss='binary_crossentropy',#categorical_crossentropy\n",
        "              optimizer='adam',            #also try rmsprop'\n",
        "              metrics=['accuracy'])\n",
        "\n",
        "\n",
        "model.summary()"
      ],
      "id": "XDk_4-KyAdHS"
    },
    {
      "cell_type": "code",
      "execution_count": 8,
      "metadata": {
        "id": "_QDCtMFXooaB"
      },
      "outputs": [],
      "source": [
        "#above defined the model\n",
        "#Next, fit the training data to the model\n",
        "#train a data generator using ImageDataGenerator\n",
        "#want to generate training data\n",
        "\n",
        "batch_size=16\n",
        "\n",
        "#training data generator\n",
        "#this defines how train_datagen is going to generate the augmented images \n",
        "train_datagen = ImageDataGenerator(\n",
        "  rescale = 1./255,#rescale inputs, inputs converting are unsigned integer 8 into floating points number\n",
        "  rotation_range=45,\n",
        "  shear_range=0.2,\n",
        "  zoom_range=0.2,  \n",
        "  horizontal_flip=True\n",
        ")\n",
        "\n",
        "#validation generator\n",
        "#not generating any augmented images with this\n",
        "#just rescaling\n",
        "validation_datagen = ImageDataGenerator(\n",
        "  rescale = 1./255) #rescale inputs, inputs converting are unsigned integer 8 into floating points number"
      ],
      "id": "_QDCtMFXooaB"
    },
    {
      "cell_type": "code",
      "execution_count": 9,
      "metadata": {
        "colab": {
          "base_uri": "https://localhost:8080/"
        },
        "id": "3gYZAtwzWYUf",
        "outputId": "7a4a5bd7-008a-4fd6-e89a-f930b0d048f3"
      },
      "outputs": [
        {
          "output_type": "stream",
          "name": "stdout",
          "text": [
            "Found 22046 images belonging to 2 classes.\n",
            "Found 5512 images belonging to 2 classes.\n"
          ]
        }
      ],
      "source": [
        "#this reads the data\n",
        "train_generator = train_datagen.flow_from_directory(\n",
        "  '/content/drive/MyDrive/datasets/cell_images2/train/',  \n",
        "  target_size=(150,150),\n",
        "  batch_size=batch_size,\n",
        "  class_mode='binary')  \n",
        "\n",
        "validation_generator = validation_datagen.flow_from_directory(\n",
        "  \"/content/drive/MyDrive/datasets/cell_images2/val/\",                                   \n",
        "  target_size=(150,150),\n",
        "  batch_size=batch_size,\n",
        "  class_mode='binary')  #we're using binary_cross_entropy, this is a classification problem"
      ],
      "id": "3gYZAtwzWYUf"
    },
    {
      "cell_type": "code",
      "execution_count": 10,
      "metadata": {
        "id": "zAYoX0c-ooeG"
      },
      "outputs": [],
      "source": [
        "#add checkpoints\n",
        "from keras.callbacks import ModelCheckpoint"
      ],
      "id": "zAYoX0c-ooeG"
    },
    {
      "cell_type": "code",
      "execution_count": 11,
      "metadata": {
        "id": "I30pFRs4ooiO"
      },
      "outputs": [],
      "source": [
        "#if validation accuracy gets better it'd going to save that model\n",
        "#\"/content/drive/MyDrive/datasets/weights_improvements-{epoch:02d}-{val_acc:.2f}.hdf5\"\n",
        "#only saves it when it gets improved\n",
        "filepath =\"/content/drive/MyDrive/datasets/saved_models.hdf5\"#save model after number many epochs\n",
        "checkpoint = ModelCheckpoint(filepath,monitor='val_accuracy', verbose=1,save_best_only=True, mode='max')\n",
        "callbacks_list = [checkpoint]"
      ],
      "id": "I30pFRs4ooiO"
    },
    {
      "cell_type": "markdown",
      "metadata": {
        "id": "lpW-S0tiq5uu"
      },
      "source": [
        "### Fit the Model"
      ],
      "id": "lpW-S0tiq5uu"
    },
    {
      "cell_type": "code",
      "execution_count": 23,
      "metadata": {
        "colab": {
          "base_uri": "https://localhost:8080/"
        },
        "id": "yxir6lzV--EO",
        "outputId": "5c2591cc-9757-493b-8edb-732a0ae98fae"
      },
      "outputs": [
        {
          "output_type": "stream",
          "name": "stdout",
          "text": [
            "Epoch 1/30\n"
          ]
        },
        {
          "output_type": "stream",
          "name": "stderr",
          "text": [
            "/usr/local/lib/python3.7/dist-packages/ipykernel_launcher.py:11: UserWarning: `Model.fit_generator` is deprecated and will be removed in a future version. Please use `Model.fit`, which supports generators.\n",
            "  # This is added back by InteractiveShellApp.init_path()\n"
          ]
        },
        {
          "output_type": "stream",
          "name": "stdout",
          "text": [
            "125/125 [==============================] - 25s 197ms/step - loss: 0.2194 - accuracy: 0.9235 - val_loss: 0.1625 - val_accuracy: 0.9450\n",
            "Epoch 2/30\n",
            "125/125 [==============================] - 24s 195ms/step - loss: 0.2073 - accuracy: 0.9305 - val_loss: 0.1842 - val_accuracy: 0.9438\n",
            "Epoch 3/30\n",
            "125/125 [==============================] - 24s 191ms/step - loss: 0.1931 - accuracy: 0.9370 - val_loss: 0.2004 - val_accuracy: 0.9325\n",
            "Epoch 4/30\n",
            "125/125 [==============================] - 24s 189ms/step - loss: 0.1963 - accuracy: 0.9355 - val_loss: 0.2073 - val_accuracy: 0.9388\n",
            "Epoch 5/30\n",
            "125/125 [==============================] - 23s 186ms/step - loss: 0.2133 - accuracy: 0.9290 - val_loss: 0.1943 - val_accuracy: 0.9262\n",
            "Epoch 6/30\n",
            "125/125 [==============================] - 24s 192ms/step - loss: 0.2058 - accuracy: 0.9270 - val_loss: 0.1936 - val_accuracy: 0.9312\n",
            "Epoch 7/30\n",
            "125/125 [==============================] - 24s 189ms/step - loss: 0.1996 - accuracy: 0.9360 - val_loss: 0.1702 - val_accuracy: 0.9362\n",
            "Epoch 8/30\n",
            "125/125 [==============================] - 24s 189ms/step - loss: 0.1978 - accuracy: 0.9370 - val_loss: 0.1365 - val_accuracy: 0.9525\n",
            "Epoch 9/30\n",
            "125/125 [==============================] - 23s 188ms/step - loss: 0.2069 - accuracy: 0.9275 - val_loss: 0.2090 - val_accuracy: 0.9388\n",
            "Epoch 10/30\n",
            "125/125 [==============================] - 23s 187ms/step - loss: 0.2051 - accuracy: 0.9325 - val_loss: 0.4209 - val_accuracy: 0.9025\n",
            "Epoch 11/30\n",
            "125/125 [==============================] - 24s 189ms/step - loss: 0.1816 - accuracy: 0.9369 - val_loss: 0.1566 - val_accuracy: 0.9400\n",
            "Epoch 12/30\n",
            "125/125 [==============================] - 23s 187ms/step - loss: 0.2048 - accuracy: 0.9355 - val_loss: 0.2662 - val_accuracy: 0.9013\n",
            "Epoch 13/30\n",
            "125/125 [==============================] - 24s 189ms/step - loss: 0.1846 - accuracy: 0.9380 - val_loss: 0.1166 - val_accuracy: 0.9613\n",
            "Epoch 14/30\n",
            "125/125 [==============================] - 24s 191ms/step - loss: 0.1828 - accuracy: 0.9365 - val_loss: 0.3365 - val_accuracy: 0.9087\n",
            "Epoch 15/30\n",
            "125/125 [==============================] - 24s 194ms/step - loss: 0.2123 - accuracy: 0.9275 - val_loss: 0.2090 - val_accuracy: 0.9400\n",
            "Epoch 16/30\n",
            "125/125 [==============================] - 24s 195ms/step - loss: 0.2027 - accuracy: 0.9290 - val_loss: 0.1524 - val_accuracy: 0.9500\n",
            "Epoch 17/30\n",
            "125/125 [==============================] - 24s 195ms/step - loss: 0.2091 - accuracy: 0.9360 - val_loss: 0.2014 - val_accuracy: 0.9500\n",
            "Epoch 18/30\n",
            "125/125 [==============================] - 24s 189ms/step - loss: 0.1968 - accuracy: 0.9305 - val_loss: 0.1734 - val_accuracy: 0.9463\n",
            "Epoch 19/30\n",
            "125/125 [==============================] - 24s 195ms/step - loss: 0.2099 - accuracy: 0.9330 - val_loss: 0.1237 - val_accuracy: 0.9625\n",
            "Epoch 20/30\n",
            "125/125 [==============================] - 24s 193ms/step - loss: 0.2224 - accuracy: 0.9265 - val_loss: 0.2341 - val_accuracy: 0.9187\n",
            "Epoch 21/30\n",
            "125/125 [==============================] - 24s 190ms/step - loss: 0.1950 - accuracy: 0.9265 - val_loss: 0.1661 - val_accuracy: 0.9475\n",
            "Epoch 22/30\n",
            "125/125 [==============================] - 24s 190ms/step - loss: 0.2154 - accuracy: 0.9235 - val_loss: 0.1725 - val_accuracy: 0.9438\n",
            "Epoch 23/30\n",
            "125/125 [==============================] - 24s 189ms/step - loss: 0.2211 - accuracy: 0.9275 - val_loss: 0.1451 - val_accuracy: 0.9475\n",
            "Epoch 24/30\n",
            "125/125 [==============================] - 24s 191ms/step - loss: 0.2029 - accuracy: 0.9320 - val_loss: 0.1305 - val_accuracy: 0.9575\n",
            "Epoch 25/30\n",
            "125/125 [==============================] - 24s 190ms/step - loss: 0.1836 - accuracy: 0.9435 - val_loss: 0.1420 - val_accuracy: 0.9488\n",
            "Epoch 26/30\n",
            "125/125 [==============================] - 24s 189ms/step - loss: 0.1811 - accuracy: 0.9410 - val_loss: 0.1497 - val_accuracy: 0.9425\n",
            "Epoch 27/30\n",
            "125/125 [==============================] - 24s 189ms/step - loss: 0.1954 - accuracy: 0.9380 - val_loss: 0.1952 - val_accuracy: 0.9400\n",
            "Epoch 28/30\n",
            "125/125 [==============================] - 24s 188ms/step - loss: 0.2231 - accuracy: 0.9285 - val_loss: 0.1679 - val_accuracy: 0.9438\n",
            "Epoch 29/30\n",
            "125/125 [==============================] - 24s 190ms/step - loss: 0.2103 - accuracy: 0.9350 - val_loss: 0.2269 - val_accuracy: 0.9187\n",
            "Epoch 30/30\n",
            "125/125 [==============================] - 24s 190ms/step - loss: 0.2031 - accuracy: 0.9335 - val_loss: 0.1637 - val_accuracy: 0.9475\n"
          ]
        }
      ],
      "source": [
        "from keras import callbacks\n",
        "#use generators to fit the model\n",
        "#we have augmentation so use fit generator\n",
        "#using data augmentation, the input file used for augmentation will never be passed into model.fit\n",
        "#the augmented image is going to be part of the fit\n",
        "history = model.fit_generator(\n",
        "  train_generator,   \n",
        "  steps_per_epoch= 2000 // batch_size,\n",
        "  epochs=30,\n",
        "  validation_data=validation_generator,\n",
        "  validation_steps= 800 // batch_size\n",
        "  #callbacks = callbacks_list\n",
        ")"
      ],
      "id": "yxir6lzV--EO"
    },
    {
      "cell_type": "code",
      "source": [
        "a = history.history\n",
        "print(a)"
      ],
      "metadata": {
        "colab": {
          "base_uri": "https://localhost:8080/"
        },
        "id": "E90sA9tbIpdF",
        "outputId": "597e58a5-340d-4d0b-d462-650c48b8b7c3"
      },
      "id": "E90sA9tbIpdF",
      "execution_count": 39,
      "outputs": [
        {
          "output_type": "stream",
          "name": "stdout",
          "text": [
            "{'loss': [0.21942809224128723, 0.20729707181453705, 0.1931491494178772, 0.19630222022533417, 0.21331307291984558, 0.20584194362163544, 0.19959785044193268, 0.19779041409492493, 0.20688273012638092, 0.20509345829486847, 0.18159356713294983, 0.20484071969985962, 0.18458068370819092, 0.18276195228099823, 0.21225008368492126, 0.20270611345767975, 0.20912304520606995, 0.19680239260196686, 0.2098885178565979, 0.22241045534610748, 0.19501174986362457, 0.21538013219833374, 0.22109468281269073, 0.20288924872875214, 0.18364861607551575, 0.18112915754318237, 0.19539639353752136, 0.22309666872024536, 0.21032343804836273, 0.2030661553144455], 'accuracy': [0.9235000014305115, 0.9304999709129333, 0.9369999766349792, 0.9355000257492065, 0.9290000200271606, 0.9269999861717224, 0.9359999895095825, 0.9369999766349792, 0.9275000095367432, 0.9325000047683716, 0.9369369149208069, 0.9355000257492065, 0.9380000233650208, 0.9365000128746033, 0.9275000095367432, 0.9290000200271606, 0.9359999895095825, 0.9304999709129333, 0.9330000281333923, 0.9265000224113464, 0.9265000224113464, 0.9235000014305115, 0.9275000095367432, 0.9319999814033508, 0.9434999823570251, 0.9409999847412109, 0.9380000233650208, 0.9284999966621399, 0.9350000023841858, 0.9334999918937683], 'val_loss': [0.16249650716781616, 0.18424396216869354, 0.20037536323070526, 0.20729424059391022, 0.19427992403507233, 0.19356507062911987, 0.17020931839942932, 0.13652409613132477, 0.20901817083358765, 0.4208706021308899, 0.15659572184085846, 0.26621249318122864, 0.11661402881145477, 0.33650627732276917, 0.20897170901298523, 0.15242721140384674, 0.2013898640871048, 0.17340099811553955, 0.12374038994312286, 0.23406369984149933, 0.16606692969799042, 0.17247119545936584, 0.1451246589422226, 0.13054011762142181, 0.14201027154922485, 0.149698406457901, 0.19516822695732117, 0.16789217293262482, 0.22693689167499542, 0.1636500209569931], 'val_accuracy': [0.9449999928474426, 0.9437500238418579, 0.9325000047683716, 0.9387500286102295, 0.9262499809265137, 0.9312499761581421, 0.9362499713897705, 0.9524999856948853, 0.9387500286102295, 0.9024999737739563, 0.9399999976158142, 0.9012500047683716, 0.9612500071525574, 0.9087499976158142, 0.9399999976158142, 0.949999988079071, 0.949999988079071, 0.9462500214576721, 0.9624999761581421, 0.918749988079071, 0.9474999904632568, 0.9437500238418579, 0.9474999904632568, 0.9574999809265137, 0.9487500190734863, 0.9424999952316284, 0.9399999976158142, 0.9437500238418579, 0.918749988079071, 0.9474999904632568]}\n"
          ]
        }
      ]
    },
    {
      "cell_type": "code",
      "source": [
        "#how is model performing on training dataset and validation dataset\n",
        "train_loss, train_acc = model.evaluate_generator(train_generator, steps=16)\n",
        "test_loss, test_acc = model.evaluate_generator(validation_generator, steps=16)\n",
        "print(\"Train: {}, Test:{}\".format(train_acc, test_acc))"
      ],
      "metadata": {
        "colab": {
          "base_uri": "https://localhost:8080/"
        },
        "id": "8yOO_lRcnzze",
        "outputId": "eaa47e78-dc7b-4e07-b4c0-e5f3a36de057"
      },
      "id": "8yOO_lRcnzze",
      "execution_count": 46,
      "outputs": [
        {
          "output_type": "stream",
          "name": "stderr",
          "text": [
            "/usr/local/lib/python3.7/dist-packages/ipykernel_launcher.py:1: UserWarning: `Model.evaluate_generator` is deprecated and will be removed in a future version. Please use `Model.evaluate`, which supports generators.\n",
            "  \"\"\"Entry point for launching an IPython kernel.\n",
            "/usr/local/lib/python3.7/dist-packages/ipykernel_launcher.py:2: UserWarning: `Model.evaluate_generator` is deprecated and will be removed in a future version. Please use `Model.evaluate`, which supports generators.\n",
            "  \n"
          ]
        },
        {
          "output_type": "stream",
          "name": "stdout",
          "text": [
            "Train: 0.94140625, Test:0.9296875\n"
          ]
        }
      ]
    },
    {
      "cell_type": "code",
      "source": [
        "#plot training history for visual of how model performed\n",
        "#test set isn't very stable\n",
        "#doesn't seem to be converging very well\n",
        "#which parameters to tune? If batch size too small not generalizing enough\n",
        "plt.plot(history.history['loss'], label='train')\n",
        "plt.plot(history.history['val_loss'], label='test')\n",
        "plt.legend()"
      ],
      "metadata": {
        "colab": {
          "base_uri": "https://localhost:8080/",
          "height": 282
        },
        "id": "08j_iMzjnzl7",
        "outputId": "ec1676c1-ed0d-4642-cb51-58cb4852039a"
      },
      "id": "08j_iMzjnzl7",
      "execution_count": 48,
      "outputs": [
        {
          "output_type": "execute_result",
          "data": {
            "text/plain": [
              "<matplotlib.legend.Legend at 0x7f713ce459d0>"
            ]
          },
          "metadata": {},
          "execution_count": 48
        },
        {
          "output_type": "display_data",
          "data": {
            "text/plain": [
              "<Figure size 432x288 with 1 Axes>"
            ],
            "image/png": "[encoded data removed]"
          },
          "metadata": {
            "needs_background": "light"
          }
        }
      ]
    },
    {
      "cell_type": "markdown",
      "source": [
        "### How to load saved Model and continue Training Process."
      ],
      "metadata": {
        "id": "kQ5pvmNcr6rk"
      },
      "id": "kQ5pvmNcr6rk"
    },
    {
      "cell_type": "code",
      "execution_count": 24,
      "metadata": {
        "id": "eemY7ANIMpUE"
      },
      "outputs": [],
      "source": [
        "model.save(\"/content/drive/MyDrive/datasets/malaria_augmented.h5\")"
      ],
      "id": "eemY7ANIMpUE"
    },
    {
      "cell_type": "code",
      "execution_count": 52,
      "metadata": {
        "id": "8BYbb9dJtn5w"
      },
      "outputs": [],
      "source": [
        "new_model = load_model(\"/content/drive/MyDrive/datasets/malaria_augmented.h5\")"
      ],
      "id": "8BYbb9dJtn5w"
    },
    {
      "cell_type": "code",
      "source": [
        "results = new_model.evaluate_generator(validation_generator, steps=16)\n",
        "print(\"Validation loss and Accuracy are: {}\".format(results))"
      ],
      "metadata": {
        "colab": {
          "base_uri": "https://localhost:8080/"
        },
        "id": "LDBTqS5DsqAU",
        "outputId": "2f3430c7-5157-47ca-9d67-93ecdb273969"
      },
      "id": "LDBTqS5DsqAU",
      "execution_count": 53,
      "outputs": [
        {
          "output_type": "stream",
          "name": "stderr",
          "text": [
            "/usr/local/lib/python3.7/dist-packages/ipykernel_launcher.py:1: UserWarning: `Model.evaluate_generator` is deprecated and will be removed in a future version. Please use `Model.evaluate`, which supports generators.\n",
            "  \"\"\"Entry point for launching an IPython kernel.\n"
          ]
        },
        {
          "output_type": "stream",
          "name": "stdout",
          "text": [
            "Validation loss and Accuracy are: [0.16617050766944885, 0.93359375]\n"
          ]
        }
      ]
    },
    {
      "cell_type": "code",
      "source": [
        "new_model.fit_generator(\n",
        "  train_generator,   \n",
        "  steps_per_epoch= 2000 // batch_size,\n",
        "  epochs=50,\n",
        "  validation_data=validation_generator,\n",
        "  validation_steps= 800 // batch_size\n",
        "  #callbacks = callbacks_list\n",
        ")"
      ],
      "metadata": {
        "colab": {
          "base_uri": "https://localhost:8080/"
        },
        "id": "FvCVec06r495",
        "outputId": "6e794e5b-60b4-4968-b4c6-dd08693a2340"
      },
      "id": "FvCVec06r495",
      "execution_count": 54,
      "outputs": [
        {
          "output_type": "stream",
          "name": "stdout",
          "text": [
            "Epoch 1/50\n"
          ]
        },
        {
          "output_type": "stream",
          "name": "stderr",
          "text": [
            "/usr/local/lib/python3.7/dist-packages/ipykernel_launcher.py:6: UserWarning: `Model.fit_generator` is deprecated and will be removed in a future version. Please use `Model.fit`, which supports generators.\n",
            "  \n"
          ]
        },
        {
          "output_type": "stream",
          "name": "stdout",
          "text": [
            "125/125 [==============================] - 25s 192ms/step - loss: 0.1870 - accuracy: 0.9375 - val_loss: 0.2143 - val_accuracy: 0.9187\n",
            "Epoch 2/50\n",
            "125/125 [==============================] - 24s 190ms/step - loss: 0.1984 - accuracy: 0.9340 - val_loss: 0.1590 - val_accuracy: 0.9388\n",
            "Epoch 3/50\n",
            "125/125 [==============================] - 24s 191ms/step - loss: 0.1929 - accuracy: 0.9314 - val_loss: 0.1650 - val_accuracy: 0.9350\n",
            "Epoch 4/50\n",
            "125/125 [==============================] - 23s 185ms/step - loss: 0.1751 - accuracy: 0.9389 - val_loss: 0.1894 - val_accuracy: 0.9413\n",
            "Epoch 5/50\n",
            "125/125 [==============================] - 23s 186ms/step - loss: 0.2094 - accuracy: 0.9225 - val_loss: 0.1659 - val_accuracy: 0.9350\n",
            "Epoch 6/50\n",
            "125/125 [==============================] - 23s 185ms/step - loss: 0.1883 - accuracy: 0.9385 - val_loss: 0.1640 - val_accuracy: 0.9388\n",
            "Epoch 7/50\n",
            "125/125 [==============================] - 23s 186ms/step - loss: 0.1826 - accuracy: 0.9415 - val_loss: 0.1102 - val_accuracy: 0.9588\n",
            "Epoch 8/50\n",
            "125/125 [==============================] - 23s 187ms/step - loss: 0.1751 - accuracy: 0.9405 - val_loss: 0.1651 - val_accuracy: 0.9388\n",
            "Epoch 9/50\n",
            "125/125 [==============================] - 23s 185ms/step - loss: 0.1706 - accuracy: 0.9450 - val_loss: 0.1403 - val_accuracy: 0.9513\n",
            "Epoch 10/50\n",
            "125/125 [==============================] - 23s 185ms/step - loss: 0.1799 - accuracy: 0.9375 - val_loss: 0.2089 - val_accuracy: 0.9275\n",
            "Epoch 11/50\n",
            "125/125 [==============================] - 24s 191ms/step - loss: 0.2118 - accuracy: 0.9300 - val_loss: 0.2230 - val_accuracy: 0.9413\n",
            "Epoch 12/50\n",
            "125/125 [==============================] - 24s 193ms/step - loss: 0.1725 - accuracy: 0.9390 - val_loss: 0.1460 - val_accuracy: 0.9538\n",
            "Epoch 13/50\n",
            "125/125 [==============================] - 29s 235ms/step - loss: 0.1916 - accuracy: 0.9380 - val_loss: 0.1525 - val_accuracy: 0.9475\n",
            "Epoch 14/50\n",
            "125/125 [==============================] - 30s 237ms/step - loss: 0.1678 - accuracy: 0.9450 - val_loss: 0.1319 - val_accuracy: 0.9500\n",
            "Epoch 15/50\n",
            "125/125 [==============================] - 28s 228ms/step - loss: 0.2099 - accuracy: 0.9320 - val_loss: 0.1653 - val_accuracy: 0.9463\n",
            "Epoch 16/50\n",
            "125/125 [==============================] - 24s 194ms/step - loss: 0.1808 - accuracy: 0.9405 - val_loss: 0.1748 - val_accuracy: 0.9438\n",
            "Epoch 17/50\n",
            "125/125 [==============================] - 24s 191ms/step - loss: 0.1894 - accuracy: 0.9464 - val_loss: 0.1720 - val_accuracy: 0.9475\n",
            "Epoch 18/50\n",
            "125/125 [==============================] - 24s 193ms/step - loss: 0.1667 - accuracy: 0.9394 - val_loss: 0.1326 - val_accuracy: 0.9538\n",
            "Epoch 19/50\n",
            "125/125 [==============================] - 24s 189ms/step - loss: 0.1732 - accuracy: 0.9385 - val_loss: 0.1382 - val_accuracy: 0.9488\n",
            "Epoch 20/50\n",
            "125/125 [==============================] - 24s 189ms/step - loss: 0.2020 - accuracy: 0.9360 - val_loss: 0.1619 - val_accuracy: 0.9475\n",
            "Epoch 21/50\n",
            "125/125 [==============================] - 23s 187ms/step - loss: 0.2224 - accuracy: 0.9255 - val_loss: 0.1349 - val_accuracy: 0.9475\n",
            "Epoch 22/50\n",
            "125/125 [==============================] - 24s 189ms/step - loss: 0.1677 - accuracy: 0.9445 - val_loss: 0.1623 - val_accuracy: 0.9500\n",
            "Epoch 23/50\n",
            "125/125 [==============================] - 24s 189ms/step - loss: 0.1855 - accuracy: 0.9410 - val_loss: 0.1161 - val_accuracy: 0.9575\n",
            "Epoch 24/50\n",
            "125/125 [==============================] - 23s 187ms/step - loss: 0.1732 - accuracy: 0.9420 - val_loss: 0.1585 - val_accuracy: 0.9425\n",
            "Epoch 25/50\n",
            "125/125 [==============================] - 23s 187ms/step - loss: 0.1851 - accuracy: 0.9430 - val_loss: 0.2180 - val_accuracy: 0.9287\n",
            "Epoch 26/50\n",
            "125/125 [==============================] - 24s 190ms/step - loss: 0.1990 - accuracy: 0.9315 - val_loss: 0.2743 - val_accuracy: 0.9362\n",
            "Epoch 27/50\n",
            "125/125 [==============================] - 23s 187ms/step - loss: 0.1724 - accuracy: 0.9380 - val_loss: 0.3342 - val_accuracy: 0.8950\n",
            "Epoch 28/50\n",
            "125/125 [==============================] - 24s 189ms/step - loss: 0.1671 - accuracy: 0.9430 - val_loss: 0.2635 - val_accuracy: 0.9200\n",
            "Epoch 29/50\n",
            "125/125 [==============================] - 23s 187ms/step - loss: 0.1772 - accuracy: 0.9450 - val_loss: 0.1688 - val_accuracy: 0.9438\n",
            "Epoch 30/50\n",
            "125/125 [==============================] - 23s 187ms/step - loss: 0.1615 - accuracy: 0.9460 - val_loss: 0.1327 - val_accuracy: 0.9513\n",
            "Epoch 31/50\n",
            "125/125 [==============================] - 23s 187ms/step - loss: 0.1676 - accuracy: 0.9410 - val_loss: 0.2495 - val_accuracy: 0.9513\n",
            "Epoch 32/50\n",
            "125/125 [==============================] - 23s 185ms/step - loss: 0.1838 - accuracy: 0.9355 - val_loss: 0.2138 - val_accuracy: 0.9225\n",
            "Epoch 33/50\n",
            "125/125 [==============================] - 23s 183ms/step - loss: 0.1691 - accuracy: 0.9475 - val_loss: 0.1295 - val_accuracy: 0.9525\n",
            "Epoch 34/50\n",
            "125/125 [==============================] - 23s 184ms/step - loss: 0.1660 - accuracy: 0.9430 - val_loss: 0.1562 - val_accuracy: 0.9438\n",
            "Epoch 35/50\n",
            "125/125 [==============================] - 23s 183ms/step - loss: 0.1838 - accuracy: 0.9425 - val_loss: 0.1530 - val_accuracy: 0.9550\n",
            "Epoch 36/50\n",
            "125/125 [==============================] - 23s 184ms/step - loss: 0.1778 - accuracy: 0.9380 - val_loss: 0.2683 - val_accuracy: 0.9000\n",
            "Epoch 37/50\n",
            "125/125 [==============================] - 23s 183ms/step - loss: 0.1600 - accuracy: 0.9430 - val_loss: 0.1670 - val_accuracy: 0.9413\n",
            "Epoch 38/50\n",
            "125/125 [==============================] - 23s 183ms/step - loss: 0.1940 - accuracy: 0.9380 - val_loss: 0.1248 - val_accuracy: 0.9613\n",
            "Epoch 39/50\n",
            "125/125 [==============================] - 24s 189ms/step - loss: 0.1634 - accuracy: 0.9490 - val_loss: 0.1999 - val_accuracy: 0.9300\n",
            "Epoch 40/50\n",
            "125/125 [==============================] - 24s 194ms/step - loss: 0.1661 - accuracy: 0.9480 - val_loss: 0.1607 - val_accuracy: 0.9438\n",
            "Epoch 41/50\n",
            "125/125 [==============================] - 24s 191ms/step - loss: 0.1499 - accuracy: 0.9530 - val_loss: 0.1938 - val_accuracy: 0.9400\n",
            "Epoch 42/50\n",
            "125/125 [==============================] - 24s 192ms/step - loss: 0.1816 - accuracy: 0.9440 - val_loss: 0.1482 - val_accuracy: 0.9500\n",
            "Epoch 43/50\n",
            "125/125 [==============================] - 24s 193ms/step - loss: 0.1843 - accuracy: 0.9370 - val_loss: 0.1437 - val_accuracy: 0.9563\n",
            "Epoch 44/50\n",
            "125/125 [==============================] - 24s 195ms/step - loss: 0.1703 - accuracy: 0.9510 - val_loss: 0.2177 - val_accuracy: 0.9350\n",
            "Epoch 45/50\n",
            "125/125 [==============================] - 24s 192ms/step - loss: 0.1732 - accuracy: 0.9455 - val_loss: 0.1403 - val_accuracy: 0.9525\n",
            "Epoch 46/50\n",
            "125/125 [==============================] - 24s 193ms/step - loss: 0.2005 - accuracy: 0.9340 - val_loss: 0.1851 - val_accuracy: 0.9375\n",
            "Epoch 47/50\n",
            "125/125 [==============================] - 24s 193ms/step - loss: 0.1774 - accuracy: 0.9370 - val_loss: 0.2239 - val_accuracy: 0.9388\n",
            "Epoch 48/50\n",
            "125/125 [==============================] - 24s 193ms/step - loss: 0.1814 - accuracy: 0.9410 - val_loss: 0.1559 - val_accuracy: 0.9538\n",
            "Epoch 49/50\n",
            "125/125 [==============================] - 24s 194ms/step - loss: 0.1760 - accuracy: 0.9470 - val_loss: 0.1738 - val_accuracy: 0.9400\n",
            "Epoch 50/50\n",
            "125/125 [==============================] - 24s 194ms/step - loss: 0.1824 - accuracy: 0.9465 - val_loss: 0.1886 - val_accuracy: 0.9513\n"
          ]
        },
        {
          "output_type": "execute_result",
          "data": {
            "text/plain": [
              "<keras.callbacks.History at 0x7f713cbaff50>"
            ]
          },
          "metadata": {},
          "execution_count": 54
        }
      ]
    },
    {
      "cell_type": "code",
      "source": [
        "new_model.save(\"/content/drive/MyDrive/datasets/malaria_augmented_updated.h5\")"
      ],
      "metadata": {
        "id": "qLOJYLnIr4yM"
      },
      "id": "qLOJYLnIr4yM",
      "execution_count": 55,
      "outputs": []
    },
    {
      "cell_type": "code",
      "source": [
        ""
      ],
      "metadata": {
        "id": "jwnXWEe_r4ki"
      },
      "id": "jwnXWEe_r4ki",
      "execution_count": null,
      "outputs": []
    },
    {
      "cell_type": "markdown",
      "metadata": {
        "id": "HLgP2ibIF1n-"
      },
      "source": [
        "### Make Prediction on Two Images\n",
        "Reading in 2 images one parasitized and the other uninfected.\n",
        "Checking if the model correctly classifies the two images."
      ],
      "id": "HLgP2ibIF1n-"
    },
    {
      "cell_type": "code",
      "execution_count": 26,
      "metadata": {
        "id": "LI1HoViZs81u"
      },
      "outputs": [],
      "source": [
        "img1 = load_img(\"/content/drive/MyDrive/datasets/cell_images2/val/Parasitized/C100P61ThinF_IMG_20150918_144104_cell_168.png\")\n",
        "img2 = load_img(\"/content/drive/MyDrive/datasets/cell_images2/val/Uninfected/C100P61ThinF_IMG_20150918_144104_cell_48.png\")"
      ],
      "id": "LI1HoViZs81u"
    },
    {
      "cell_type": "code",
      "execution_count": 27,
      "metadata": {
        "id": "LnnS8aojs9hH"
      },
      "outputs": [],
      "source": [
        "# x1 = img_to_array(img1)\n",
        "# x2 = img_to_array(img2)"
      ],
      "id": "LnnS8aojs9hH"
    },
    {
      "cell_type": "code",
      "execution_count": 28,
      "metadata": {
        "id": "X7VRBBl_DyFq"
      },
      "outputs": [],
      "source": [
        " x1 = img1.resize((150,150))\n",
        " x2 = img2.resize((150,150))"
      ],
      "id": "X7VRBBl_DyFq"
    },
    {
      "cell_type": "code",
      "execution_count": 29,
      "metadata": {
        "id": "BaONaVGTEev1"
      },
      "outputs": [],
      "source": [
        "x1 = img_to_array(x1)\n",
        "x2 = img_to_array(x2)"
      ],
      "id": "BaONaVGTEev1"
    },
    {
      "cell_type": "code",
      "execution_count": 30,
      "metadata": {
        "id": "0R1Jt8p1s945"
      },
      "outputs": [],
      "source": [
        "x1 = x1.reshape((1,) +x1.shape)\n",
        "x2 = x2.reshape((1,) + x2.shape)"
      ],
      "id": "0R1Jt8p1s945"
    },
    {
      "cell_type": "code",
      "execution_count": 56,
      "metadata": {
        "colab": {
          "base_uri": "https://localhost:8080/",
          "height": 286
        },
        "id": "5-tdAHuF4WEV",
        "outputId": "4c481f1e-80c1-4907-a02a-c6d5de4f7d2f"
      },
      "outputs": [
        {
          "output_type": "execute_result",
          "data": {
            "text/plain": [
              "<matplotlib.image.AxesImage at 0x7f713ce7b190>"
            ]
          },
          "metadata": {},
          "execution_count": 56
        },
        {
          "output_type": "display_data",
          "data": {
            "text/plain": [
              "<Figure size 432x288 with 1 Axes>"
            ],
            "image/png": "[encoded data removed]"
          },
          "metadata": {
            "needs_background": "light"
          }
        }
      ],
      "source": [
        "plt.imshow(img1)"
      ],
      "id": "5-tdAHuF4WEV"
    },
    {
      "cell_type": "code",
      "source": [
        "plt.imshow(img2)"
      ],
      "metadata": {
        "colab": {
          "base_uri": "https://localhost:8080/",
          "height": 286
        },
        "id": "vXRdtRCZvTMI",
        "outputId": "0894188e-db8d-49dc-87ac-668824e19472"
      },
      "id": "vXRdtRCZvTMI",
      "execution_count": 57,
      "outputs": [
        {
          "output_type": "execute_result",
          "data": {
            "text/plain": [
              "<matplotlib.image.AxesImage at 0x7f713ce41190>"
            ]
          },
          "metadata": {},
          "execution_count": 57
        },
        {
          "output_type": "display_data",
          "data": {
            "text/plain": [
              "<Figure size 432x288 with 1 Axes>"
            ],
            "image/png": "[encoded data removed]"
          },
          "metadata": {
            "needs_background": "light"
          }
        }
      ]
    },
    {
      "cell_type": "code",
      "execution_count": 32,
      "metadata": {
        "id": "ZNfu0RxYs-Oy"
      },
      "outputs": [],
      "source": [
        "X1 = model.predict(x1)\n",
        "X2 = model.predict(x2)"
      ],
      "id": "ZNfu0RxYs-Oy"
    },
    {
      "cell_type": "code",
      "execution_count": 33,
      "metadata": {
        "colab": {
          "base_uri": "https://localhost:8080/"
        },
        "id": "R84S0YQ2Et9h",
        "outputId": "e1b74450-030f-48d1-96bf-247aa8679d22"
      },
      "outputs": [
        {
          "output_type": "stream",
          "name": "stdout",
          "text": [
            "Prediction for parasitized is:  [[0.]] where 0 indicates parastizied and 1 indicates uninfected\n",
            "Prediction for uninfected is:  [[1.1066514e-20]] where 0 indicates parastizied and 1 indicates uninfected\n"
          ]
        }
      ],
      "source": [
        "print(\"Prediction for parasitized is: \", X1, \"where 0 indicates parastizied and 1 indicates uninfected\")\n",
        "print(\"Prediction for uninfected is: \", X2, \"where 0 indicates parastizied and 1 indicates uninfected\")"
      ],
      "id": "R84S0YQ2Et9h"
    }
  ],
  "metadata": {
    "accelerator": "TPU",
    "colab": {
      "collapsed_sections": [],
      "machine_shape": "hm",
      "name": "images_Data_Augmentation.ipynb",
      "provenance": [],
      "include_colab_link": true
    },
    "kernelspec": {
      "display_name": "Python 3",
      "language": "python",
      "name": "python3"
    },
    "language_info": {
      "codemirror_mode": {
        "name": "ipython",
        "version": 3
      },
      "file_extension": ".py",
      "mimetype": "text/x-python",
      "name": "python",
      "nbconvert_exporter": "python",
      "pygments_lexer": "ipython3",
      "version": "3.9.12"
    }
  },
  "nbformat": 4,
  "nbformat_minor": 5
}