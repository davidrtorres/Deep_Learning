{
  "nbformat": 4,
  "nbformat_minor": 0,
  "metadata": {
    "colab": {
      "name": "Image Classification/RFC.ipynb",
      "provenance": [],
      "collapsed_sections": [],
      "mount_file_id": "1HnMSSNRF20BdcXExbkXBezcSCmNNo47O",
      "authorship_tag": "ABX9TyNmGpDOEyImkCf1ebHA1PL3",
      "include_colab_link": true
    },
    "kernelspec": {
      "name": "python3",
      "display_name": "Python 3"
    },
    "language_info": {
      "name": "python"
    }
  },
  "cells": [
    {
      "cell_type": "markdown",
      "metadata": {
        "id": "view-in-github",
        "colab_type": "text"
      },
      "source": [
        "<a href=\"https://colab.research.google.com/github/davidrtorres/Deep_Learning/blob/main/Image_Classification_RFC.ipynb\" target=\"_parent\"><img src=\"https://colab.research.google.com/assets/colab-badge.svg\" alt=\"Open In Colab\"/></a>"
      ]
    },
    {
      "cell_type": "markdown",
      "source": [
        "### Using Machine Learning for Image Classification in Python\n",
        "In this notebook I'm going to build a Machine Learning model for image classification.  This is a binary classification problem.  I going to build models to predict whether an image is of a car or airplane.<br>\n",
        "What is the difference between image segmentation and image classification?  By segmentation I am referring to semantic segmentation.  Image segmentation refers to every pixel classification.  Image classification refers to the entire picture classified as something, i.e. is this an image of an infected or non-infected cell.  Here we're not dealing with pixel level information.  We're dealing with whole image level information, i.e., is this an airplane or a car.  The entire image is classifed into one or the categories.  \n",
        "\n",
        "I followed the Youtube Series https://www.youtube.com/watch?v=nK-2k_ENgEc&list=PLHae9ggVvqPgyRQQOtENr6hK0m1UquGaG&index=85 in prepaing this notebook."
      ],
      "metadata": {
        "id": "n6rl3BBIullY"
      }
    },
    {
      "cell_type": "code",
      "source": [
        "import matplotlib.pyplot as plt\n",
        "%matplotlib inline\n",
        "import pandas as pd\n",
        "import numpy as np\n",
        "import seaborn as sns\n",
        "import glob\n",
        "import cv2\n",
        "import os"
      ],
      "metadata": {
        "id": "N_1Tsq18BRRM"
      },
      "execution_count": 1,
      "outputs": []
    },
    {
      "cell_type": "markdown",
      "source": [
        "### Put Image Folders into Train, Validation and Test Sets\n",
        "The image folder consists of 2 subfolders for airplanes and cars.  The task for this section was how to take the subfolders and split then into train, validation and test sets.  I need train and validation sets so that labels can be created. "
      ],
      "metadata": {
        "id": "a4k4_-3RmLPD"
      }
    },
    {
      "cell_type": "code",
      "source": [
        "!pip install split-folders "
      ],
      "metadata": {
        "colab": {
          "base_uri": "https://localhost:8080/"
        },
        "id": "pUAFHEHZ1cpc",
        "outputId": "06c0330f-aceb-46c6-fea4-3473701e5f38"
      },
      "execution_count": 2,
      "outputs": [
        {
          "output_type": "stream",
          "name": "stdout",
          "text": [
            "Looking in indexes: https://pypi.org/simple, https://us-python.pkg.dev/colab-wheels/public/simple/\n",
            "Requirement already satisfied: split-folders in /usr/local/lib/python3.7/dist-packages (0.5.1)\n"
          ]
        }
      ]
    },
    {
      "cell_type": "code",
      "source": [
        "import splitfolders"
      ],
      "metadata": {
        "id": "K_jUjmB61Vqs"
      },
      "execution_count": 3,
      "outputs": []
    },
    {
      "cell_type": "markdown",
      "source": [
        "The train set is used to train the model and to update the weights.  The validation data is used as part of the training but only to validate after each iteration.  Test data is never used as part of the training process.\n",
        "\n",
        "https://www.youtube.com/watch?v=C6wbr1jJvVs"
      ],
      "metadata": {
        "id": "nny_oyGx-BOp"
      }
    },
    {
      "cell_type": "code",
      "execution_count": 4,
      "metadata": {
        "id": "UfE-BatDt-ff"
      },
      "outputs": [],
      "source": [
        "# input_folder = '/content/drive/MyDrive/datasets/air_car3/'\n",
        "# # #testing, (20)validation, (test)testing\n",
        "# splitfolders.ratio(input_folder, output='/content/drive/MyDrive/datasets/air_car3_folder/',seed=42, ratio=(.7,.3,.0),group_prefix=None) #ratio=(.7,.2,.1)"
      ]
    },
    {
      "cell_type": "code",
      "source": [
        "print(os.listdir('/content/drive/MyDrive/datasets/air_car2_folder/'))"
      ],
      "metadata": {
        "colab": {
          "base_uri": "https://localhost:8080/"
        },
        "id": "IVLlSnd7EmYK",
        "outputId": "60659e43-8c1b-4208-99a0-eb49ccb40ce7"
      },
      "execution_count": 5,
      "outputs": [
        {
          "output_type": "stream",
          "name": "stdout",
          "text": [
            "['train', 'val', 'test']\n"
          ]
        }
      ]
    },
    {
      "cell_type": "code",
      "source": [
        "# file = '/content/drive/MyDrive/datasets/cell_images_folder/train/'\n",
        "# for f in glob.glob(file + \"/*.JPG\"):\n",
        "#   print(f)"
      ],
      "metadata": {
        "id": "8u2arJqodWq2"
      },
      "execution_count": 6,
      "outputs": []
    },
    {
      "cell_type": "markdown",
      "source": [
        "### Read the Images\n",
        "The for loop iterates through every image in the train folder.  I ran the for loop on the train folder and the directory shows that there are 2 subfolders (airplane and car) in the train folder.  With the function .split() I created a label for each image based on the folder it's in. \n",
        "When you load the images they usually come in different sizes so I resized the images so they're all one size for processing purposes.  "
      ],
      "metadata": {
        "id": "x_kVbBsHyKNs"
      }
    },
    {
      "cell_type": "code",
      "source": [
        "SIZE = 128\n",
        "train_images = []\n",
        "train_labels=[]\n",
        "\n",
        "for directory_path in glob.glob(\"/content/drive/MyDrive/datasets/air_car3_folder/train/*\"):#\"/content/drive/MyDrive/datasets/air_car2_folder/train/*\"\n",
        "  #create label\n",
        "  label = directory_path.split(\"/\")[-1]\n",
        "  print(label)\n",
        "  #print(directory_path)\n",
        "  for img_path in glob.glob(os.path.join(directory_path, \"*.jpg\")):\n",
        "    #print(img_path)\n",
        "    #read image as color meaning 3 channels\n",
        "    img = cv2.imread(img_path, cv2.IMREAD_COLOR)\n",
        "    #resize images\n",
        "    img = cv2.resize(img, (SIZE,SIZE))\n",
        "    #append images\n",
        "    train_images.append(img)\n",
        "    train_labels.append(label)\n",
        "#convert list to numpy array\n",
        "train_images = np.array(train_images)\n",
        "train_labels  = np.array(train_labels)"
      ],
      "metadata": {
        "colab": {
          "base_uri": "https://localhost:8080/"
        },
        "id": "soxrx2irf77r",
        "outputId": "bcd7fd32-b655-4aec-e6a0-c238d7605bfd"
      },
      "execution_count": 7,
      "outputs": [
        {
          "output_type": "stream",
          "name": "stdout",
          "text": [
            "car\n",
            "airplane\n"
          ]
        }
      ]
    },
    {
      "cell_type": "code",
      "source": [
        "from google.colab.patches import cv2_imshow"
      ],
      "metadata": {
        "id": "2Dk9g_QUO5We"
      },
      "execution_count": 8,
      "outputs": []
    },
    {
      "cell_type": "code",
      "source": [
        "img = cv2.resize(train_images[3], (300,300))\n",
        "#plt.title('Image of Car')\n",
        "cv2_imshow(img)"
      ],
      "metadata": {
        "colab": {
          "base_uri": "https://localhost:8080/",
          "height": 317
        },
        "id": "lLlN31IOOJHM",
        "outputId": "cfff83d7-40b5-44bd-bd9f-dfffc429186b"
      },
      "execution_count": 9,
      "outputs": [
        {
          "output_type": "display_data",
          "data": {
            "text/plain": [
              "<PIL.Image.Image image mode=RGB size=300x300 at 0x7F09A2859A90>"
            ],
            "image/png": "[encoded data removed]"
          },
          "metadata": {}
        }
      ]
    },
    {
      "cell_type": "code",
      "source": [
        "train_images"
      ],
      "metadata": {
        "colab": {
          "base_uri": "https://localhost:8080/"
        },
        "id": "hVbfK4iEgoq3",
        "outputId": "a3c70ef8-1725-44ec-957f-2cebc1b29129"
      },
      "execution_count": 10,
      "outputs": [
        {
          "output_type": "execute_result",
          "data": {
            "text/plain": [
              "array([[[[252, 216, 176],\n",
              "         [252, 216, 176],\n",
              "         [252, 215, 176],\n",
              "         ...,\n",
              "         [249, 214, 180],\n",
              "         [249, 214, 180],\n",
              "         [249, 214, 180]],\n",
              "\n",
              "        [[252, 216, 177],\n",
              "         [252, 216, 177],\n",
              "         [252, 216, 177],\n",
              "         ...,\n",
              "         [249, 214, 180],\n",
              "         [249, 215, 181],\n",
              "         [248, 215, 181]],\n",
              "\n",
              "        [[253, 217, 180],\n",
              "         [253, 217, 180],\n",
              "         [253, 217, 180],\n",
              "         ...,\n",
              "         [248, 216, 181],\n",
              "         [249, 216, 181],\n",
              "         [247, 216, 181]],\n",
              "\n",
              "        ...,\n",
              "\n",
              "        [[164, 153, 142],\n",
              "         [165, 155, 145],\n",
              "         [161, 153, 143],\n",
              "         ...,\n",
              "         [146, 154, 159],\n",
              "         [145, 154, 158],\n",
              "         [145, 154, 157]],\n",
              "\n",
              "        [[163, 154, 144],\n",
              "         [161, 152, 142],\n",
              "         [158, 151, 140],\n",
              "         ...,\n",
              "         [145, 154, 158],\n",
              "         [145, 153, 158],\n",
              "         [145, 154, 158]],\n",
              "\n",
              "        [[164, 155, 145],\n",
              "         [157, 150, 140],\n",
              "         [157, 151, 140],\n",
              "         ...,\n",
              "         [144, 153, 157],\n",
              "         [143, 152, 156],\n",
              "         [142, 151, 155]]],\n",
              "\n",
              "\n",
              "       [[[ 10,  11,  15],\n",
              "         [ 10,  11,  15],\n",
              "         [ 10,  11,  14],\n",
              "         ...,\n",
              "         [ 46,  52,  57],\n",
              "         [ 45,  51,  56],\n",
              "         [ 44,  50,  55]],\n",
              "\n",
              "        [[ 10,  11,  15],\n",
              "         [ 10,  11,  15],\n",
              "         [ 10,  11,  14],\n",
              "         ...,\n",
              "         [ 46,  52,  57],\n",
              "         [ 45,  51,  56],\n",
              "         [ 44,  51,  56]],\n",
              "\n",
              "        [[ 10,  11,  15],\n",
              "         [ 10,  11,  15],\n",
              "         [ 10,  11,  14],\n",
              "         ...,\n",
              "         [ 46,  52,  57],\n",
              "         [ 45,  51,  56],\n",
              "         [ 45,  51,  56]],\n",
              "\n",
              "        ...,\n",
              "\n",
              "        [[ 47,  58,  62],\n",
              "         [ 45,  56,  60],\n",
              "         [ 44,  54,  59],\n",
              "         ...,\n",
              "         [ 52,  63,  67],\n",
              "         [ 52,  64,  68],\n",
              "         [ 53,  64,  68]],\n",
              "\n",
              "        [[ 48,  59,  63],\n",
              "         [ 45,  56,  60],\n",
              "         [ 44,  55,  59],\n",
              "         ...,\n",
              "         [ 53,  64,  68],\n",
              "         [ 53,  64,  68],\n",
              "         [ 53,  64,  68]],\n",
              "\n",
              "        [[ 47,  58,  62],\n",
              "         [ 45,  56,  61],\n",
              "         [ 44,  55,  59],\n",
              "         ...,\n",
              "         [ 53,  64,  68],\n",
              "         [ 53,  64,  68],\n",
              "         [ 53,  64,  68]]],\n",
              "\n",
              "\n",
              "       [[[ 28,  28,  28],\n",
              "         [ 28,  28,  28],\n",
              "         [ 28,  28,  28],\n",
              "         ...,\n",
              "         [ 29,  29,  29],\n",
              "         [ 29,  29,  29],\n",
              "         [ 29,  29,  29]],\n",
              "\n",
              "        [[ 28,  28,  28],\n",
              "         [ 28,  28,  28],\n",
              "         [ 28,  28,  28],\n",
              "         ...,\n",
              "         [ 30,  30,  30],\n",
              "         [ 30,  30,  30],\n",
              "         [ 30,  30,  30]],\n",
              "\n",
              "        [[ 29,  29,  29],\n",
              "         [ 29,  29,  29],\n",
              "         [ 29,  29,  29],\n",
              "         ...,\n",
              "         [ 30,  30,  30],\n",
              "         [ 30,  30,  30],\n",
              "         [ 30,  30,  30]],\n",
              "\n",
              "        ...,\n",
              "\n",
              "        [[ 91,  91,  91],\n",
              "         [ 92,  92,  92],\n",
              "         [ 92,  92,  92],\n",
              "         ...,\n",
              "         [ 91,  91,  91],\n",
              "         [ 92,  92,  92],\n",
              "         [ 92,  92,  92]],\n",
              "\n",
              "        [[ 92,  92,  92],\n",
              "         [ 93,  93,  93],\n",
              "         [ 93,  93,  93],\n",
              "         ...,\n",
              "         [ 93,  93,  93],\n",
              "         [ 93,  93,  93],\n",
              "         [ 94,  94,  94]],\n",
              "\n",
              "        [[ 93,  93,  93],\n",
              "         [ 93,  93,  93],\n",
              "         [ 94,  94,  94],\n",
              "         ...,\n",
              "         [ 93,  93,  93],\n",
              "         [ 93,  93,  93],\n",
              "         [ 94,  94,  94]]],\n",
              "\n",
              "\n",
              "       ...,\n",
              "\n",
              "\n",
              "       [[[190, 186, 158],\n",
              "         [195, 187, 164],\n",
              "         [195, 185, 168],\n",
              "         ...,\n",
              "         [239, 231, 214],\n",
              "         [240, 232, 215],\n",
              "         [242, 234, 217]],\n",
              "\n",
              "        [[192, 188, 162],\n",
              "         [193, 184, 164],\n",
              "         [197, 187, 171],\n",
              "         ...,\n",
              "         [239, 231, 214],\n",
              "         [240, 232, 215],\n",
              "         [241, 233, 216]],\n",
              "\n",
              "        [[190, 182, 159],\n",
              "         [208, 198, 180],\n",
              "         [193, 182, 170],\n",
              "         ...,\n",
              "         [239, 231, 214],\n",
              "         [239, 231, 214],\n",
              "         [240, 232, 215]],\n",
              "\n",
              "        ...,\n",
              "\n",
              "        [[  5,  32,  37],\n",
              "         [  6,  33,  39],\n",
              "         [  6,  35,  41],\n",
              "         ...,\n",
              "         [ 42, 128, 135],\n",
              "         [ 39, 125, 133],\n",
              "         [ 39, 124, 131]],\n",
              "\n",
              "        [[ 23,  49,  55],\n",
              "         [ 28,  54,  60],\n",
              "         [ 29,  57,  65],\n",
              "         ...,\n",
              "         [ 54, 122, 132],\n",
              "         [ 52, 120, 131],\n",
              "         [ 51, 118, 129]],\n",
              "\n",
              "        [[ 48,  74,  81],\n",
              "         [ 52,  78,  85],\n",
              "         [ 52,  79,  89],\n",
              "         ...,\n",
              "         [ 68, 113, 127],\n",
              "         [ 67, 112, 126],\n",
              "         [ 67, 111, 126]]],\n",
              "\n",
              "\n",
              "       [[[225, 250, 254],\n",
              "         [229, 249, 254],\n",
              "         [229, 248, 255],\n",
              "         ...,\n",
              "         [163, 195, 208],\n",
              "         [162, 194, 207],\n",
              "         [161, 194, 207]],\n",
              "\n",
              "        [[225, 250, 254],\n",
              "         [229, 249, 254],\n",
              "         [229, 248, 255],\n",
              "         ...,\n",
              "         [164, 196, 209],\n",
              "         [162, 194, 207],\n",
              "         [161, 194, 207]],\n",
              "\n",
              "        [[225, 250, 255],\n",
              "         [229, 249, 254],\n",
              "         [229, 248, 255],\n",
              "         ...,\n",
              "         [165, 196, 209],\n",
              "         [162, 195, 208],\n",
              "         [162, 194, 207]],\n",
              "\n",
              "        ...,\n",
              "\n",
              "        [[230, 249, 254],\n",
              "         [230, 249, 254],\n",
              "         [229, 249, 254],\n",
              "         ...,\n",
              "         [159, 188, 197],\n",
              "         [159, 188, 197],\n",
              "         [159, 188, 197]],\n",
              "\n",
              "        [[230, 249, 254],\n",
              "         [231, 249, 255],\n",
              "         [230, 249, 254],\n",
              "         ...,\n",
              "         [159, 189, 197],\n",
              "         [160, 189, 198],\n",
              "         [159, 189, 198]],\n",
              "\n",
              "        [[230, 248, 254],\n",
              "         [231, 249, 255],\n",
              "         [230, 248, 255],\n",
              "         ...,\n",
              "         [160, 191, 200],\n",
              "         [159, 190, 199],\n",
              "         [159, 190, 198]]],\n",
              "\n",
              "\n",
              "       [[[172, 185, 177],\n",
              "         [168, 174, 169],\n",
              "         [176, 177, 175],\n",
              "         ...,\n",
              "         [168, 172, 150],\n",
              "         [170, 175, 154],\n",
              "         [169, 174, 153]],\n",
              "\n",
              "        [[157, 170, 162],\n",
              "         [159, 166, 161],\n",
              "         [171, 174, 171],\n",
              "         ...,\n",
              "         [170, 173, 151],\n",
              "         [171, 175, 153],\n",
              "         [170, 174, 152]],\n",
              "\n",
              "        [[138, 151, 143],\n",
              "         [153, 161, 156],\n",
              "         [167, 171, 169],\n",
              "         ...,\n",
              "         [172, 175, 152],\n",
              "         [171, 174, 151],\n",
              "         [170, 174, 151]],\n",
              "\n",
              "        ...,\n",
              "\n",
              "        [[  4,   9,  20],\n",
              "         [ 15,  20,  27],\n",
              "         [ 65,  75,  77],\n",
              "         ...,\n",
              "         [  5,  34,  37],\n",
              "         [ 12,  44,  46],\n",
              "         [ 30,  62,  65]],\n",
              "\n",
              "        [[  6,  12,  23],\n",
              "         [ 17,  23,  30],\n",
              "         [ 64,  74,  77],\n",
              "         ...,\n",
              "         [ 27,  57,  61],\n",
              "         [ 32,  63,  66],\n",
              "         [ 55,  85,  89]],\n",
              "\n",
              "        [[  8,  15,  26],\n",
              "         [ 20,  26,  33],\n",
              "         [ 64,  74,  78],\n",
              "         ...,\n",
              "         [ 57,  86,  90],\n",
              "         [ 55,  86,  89],\n",
              "         [ 75, 104, 108]]]], dtype=uint8)"
            ]
          },
          "metadata": {},
          "execution_count": 10
        }
      ]
    },
    {
      "cell_type": "code",
      "source": [
        "train_labels"
      ],
      "metadata": {
        "colab": {
          "base_uri": "https://localhost:8080/"
        },
        "id": "Xpbs-qe_1Koj",
        "outputId": "59e4ebfe-caf5-4dc6-d422-22ada6359c64"
      },
      "execution_count": 11,
      "outputs": [
        {
          "output_type": "execute_result",
          "data": {
            "text/plain": [
              "array(['car', 'car', 'car', 'car', 'car', 'car', 'car', 'car', 'car',\n",
              "       'car', 'car', 'car', 'car', 'car', 'airplane', 'airplane',\n",
              "       'airplane', 'airplane', 'airplane', 'airplane', 'airplane',\n",
              "       'airplane', 'airplane', 'airplane', 'airplane', 'airplane',\n",
              "       'airplane', 'airplane'], dtype='<U8')"
            ]
          },
          "metadata": {},
          "execution_count": 11
        }
      ]
    },
    {
      "cell_type": "code",
      "source": [
        "print(train_images.shape)\n",
        "print(train_labels.shape)"
      ],
      "metadata": {
        "colab": {
          "base_uri": "https://localhost:8080/"
        },
        "id": "cuQc-sZwAlKM",
        "outputId": "343044e7-5f7c-46f6-8c6e-21ef872dd6f4"
      },
      "execution_count": 12,
      "outputs": [
        {
          "output_type": "stream",
          "name": "stdout",
          "text": [
            "(28, 128, 128, 3)\n",
            "(28,)\n"
          ]
        }
      ]
    },
    {
      "cell_type": "code",
      "source": [
        "test_images = []\n",
        "test_labels=[]\n",
        "\n",
        "for directory_path in glob.glob(\"/content/drive/MyDrive/datasets/air_car3_folder/val/*\"):#/content/drive/MyDrive/datasets/air_car2_folder/val/*\n",
        "  flower_label = directory_path.split(\"/\")[-1]\n",
        "  print(flower_label)\n",
        "  #print(directory_path)\n",
        "  for img_path in glob.glob(os.path.join(directory_path, \"*.jpg\")):\n",
        "    #print(img_path)\n",
        "    img = cv2.imread(img_path, cv2.IMREAD_COLOR)\n",
        "    img = cv2.resize(img, (SIZE,SIZE))\n",
        "\n",
        "    test_images.append(img)\n",
        "    test_labels.append(flower_label)\n",
        "\n",
        "test_images = np.array(test_images)\n",
        "test_labels  = np.array(test_labels)"
      ],
      "metadata": {
        "colab": {
          "base_uri": "https://localhost:8080/"
        },
        "id": "yXyf8i87AlCf",
        "outputId": "a3470c49-339d-418a-ae4b-6b0d324a19d9"
      },
      "execution_count": 13,
      "outputs": [
        {
          "output_type": "stream",
          "name": "stdout",
          "text": [
            "car\n",
            "airplane\n"
          ]
        }
      ]
    },
    {
      "cell_type": "code",
      "source": [
        "print(test_images.shape)\n",
        "print(test_labels.shape)"
      ],
      "metadata": {
        "colab": {
          "base_uri": "https://localhost:8080/"
        },
        "id": "IdlxFq_mAk4P",
        "outputId": "cf1fa06c-dfbd-4a9b-cec2-0a4ae9123024"
      },
      "execution_count": 14,
      "outputs": [
        {
          "output_type": "stream",
          "name": "stdout",
          "text": [
            "(12, 128, 128, 3)\n",
            "(12,)\n"
          ]
        }
      ]
    },
    {
      "cell_type": "code",
      "source": [
        "test_labels"
      ],
      "metadata": {
        "colab": {
          "base_uri": "https://localhost:8080/"
        },
        "id": "vDAgOocUGgIe",
        "outputId": "979deea5-6e7e-429b-8bff-a8852ef89467"
      },
      "execution_count": 15,
      "outputs": [
        {
          "output_type": "execute_result",
          "data": {
            "text/plain": [
              "array(['car', 'car', 'car', 'car', 'car', 'car', 'airplane', 'airplane',\n",
              "       'airplane', 'airplane', 'airplane', 'airplane'], dtype='<U8')"
            ]
          },
          "metadata": {},
          "execution_count": 15
        }
      ]
    },
    {
      "cell_type": "markdown",
      "source": [
        "### Preprocessing\n",
        "The label has the categories airplane and car which are objects and need to be converted to the numeric types 0 and 1.  For this task I used the label encoder. "
      ],
      "metadata": {
        "id": "s3P5MxuO1hqb"
      }
    },
    {
      "cell_type": "code",
      "source": [
        "from sklearn import preprocessing"
      ],
      "metadata": {
        "id": "DiakTZskITxu"
      },
      "execution_count": 16,
      "outputs": []
    },
    {
      "cell_type": "code",
      "source": [
        "le = preprocessing.LabelEncoder()\n",
        "le.fit(test_labels)\n",
        "test_labels_encoded = le.transform(test_labels)\n",
        "le.fit(train_labels)\n",
        "train_labels_encoded = le.transform(train_labels)"
      ],
      "metadata": {
        "id": "kEm_lC97Ican"
      },
      "execution_count": 17,
      "outputs": []
    },
    {
      "cell_type": "code",
      "source": [
        "train_labels_encoded"
      ],
      "metadata": {
        "colab": {
          "base_uri": "https://localhost:8080/"
        },
        "id": "BZR6-1cYJOcL",
        "outputId": "8ba2da77-91bf-43ea-be19-03a7690dde0e"
      },
      "execution_count": 18,
      "outputs": [
        {
          "output_type": "execute_result",
          "data": {
            "text/plain": [
              "array([1, 1, 1, 1, 1, 1, 1, 1, 1, 1, 1, 1, 1, 1, 0, 0, 0, 0, 0, 0, 0, 0,\n",
              "       0, 0, 0, 0, 0, 0])"
            ]
          },
          "metadata": {},
          "execution_count": 18
        }
      ]
    },
    {
      "cell_type": "markdown",
      "source": [
        "### Split the Data"
      ],
      "metadata": {
        "id": "L7uX92YIJWQ-"
      }
    },
    {
      "cell_type": "code",
      "source": [
        "from sklearn.model_selection import train_test_split"
      ],
      "metadata": {
        "id": "6R_BkK6GJQcm"
      },
      "execution_count": 19,
      "outputs": []
    },
    {
      "cell_type": "code",
      "source": [
        "X_train, y_train, X_test,y_test = train_images, train_labels_encoded, test_images, test_labels_encoded"
      ],
      "metadata": {
        "id": "x3kDx7wUJlLG"
      },
      "execution_count": 20,
      "outputs": []
    },
    {
      "cell_type": "markdown",
      "source": [
        "### Normal the Data\n",
        "I normalized the data so all the values would be between 0 and 1."
      ],
      "metadata": {
        "id": "hd1ce31yUFpw"
      }
    },
    {
      "cell_type": "code",
      "source": [
        "X_train, X_test = X_train / 255.0, X_test/255.0"
      ],
      "metadata": {
        "id": "V9HXkBNQ2JvM"
      },
      "execution_count": 21,
      "outputs": []
    },
    {
      "cell_type": "code",
      "source": [
        "print(X_train.shape)\n",
        "print(y_train.shape)\n",
        "print(X_test.shape)\n",
        "print(y_test.shape)"
      ],
      "metadata": {
        "colab": {
          "base_uri": "https://localhost:8080/"
        },
        "id": "j4qLPfdhLMDX",
        "outputId": "25de1e7e-1eec-4ab7-b9cb-a98ea3200747"
      },
      "execution_count": 22,
      "outputs": [
        {
          "output_type": "stream",
          "name": "stdout",
          "text": [
            "(28, 128, 128, 3)\n",
            "(28,)\n",
            "(12, 128, 128, 3)\n",
            "(12,)\n"
          ]
        }
      ]
    },
    {
      "cell_type": "markdown",
      "source": [
        "### Feature Extraction\n",
        "I'm using Gabor filters for feature extraction.  The function feature_extraction enables me to go through each image and apply filter and operations.  First, I added the pixels values of the images into a dataframe.  \n",
        "Next, I used Gabor filters to extract features. The Gabor filter function generates a kernel. The kernel is then applied to each image and responses/features are generated and extracted from the image.  The responses are then added to the dataframe df which contains the pixel values. We will extract features from the images by applying filters to them.  The dataframe will then be used as input for the machine learning algorithm for training purposes.<br>\n"
      ],
      "metadata": {
        "id": "KqtTeKQal5lQ"
      }
    },
    {
      "cell_type": "code",
      "source": [
        "from skimage.filters import roberts,sobel, scharr, prewitt"
      ],
      "metadata": {
        "id": "vARwtdFPM0Vb"
      },
      "execution_count": 23,
      "outputs": []
    },
    {
      "cell_type": "code",
      "source": [
        "def feature_extractor(dataset):\n",
        "    X_train = dataset\n",
        "    image_dataset = pd.DataFrame()\n",
        "    for image in range(X_train.shape[0]):\n",
        "\n",
        "        df = pd.DataFrame()\n",
        "\n",
        "        input_img = X_train[image,:,:,:]\n",
        "        img = input_img\n",
        "\n",
        "        pixel_values = img.reshape(-1)\n",
        "        df['Pixel_Value'] = pixel_values\n",
        "        #Generate Gabor filters\n",
        "        num=1\n",
        "        kernels = []\n",
        "        for theta in range(2):   #Define number of thetas. Here only 2 theta values 0 and 1/4 . pi \n",
        "            theta = theta / 4. * np.pi\n",
        "            for sigma in (1, 3):  #Sigma with values of 1 and 3\n",
        "                lamda =  np.pi /4   #Range of wavelengths\n",
        "                gamma = 0.5   #Gamma values of 0.05 and 0.5\n",
        "                           \n",
        "                gabor_label = 'Gabor' + str(num)  #Label Gabor columns as Gabor1, Gabor2, etc.\n",
        "                #print(gabor_label)\n",
        "                #kernal size\n",
        "                ksize=9\n",
        "                #generate a Gabor kernal with each parameter \n",
        "                kernel = cv2.getGaborKernel((ksize, ksize), sigma, theta, lamda, gamma, 0, ktype=cv2.CV_32F)    \n",
        "                kernels.append(kernel)\n",
        "                #apply kernal to image/filter the image and add values to a new column\n",
        "                #when you get kernal apply it to image2\n",
        "                #the filtered image is 2D \n",
        "                fimg = cv2.filter2D(img, cv2.CV_8UC3, kernel)\n",
        "                #reshape filtered image/fimg to 1D\n",
        "                filtered_img = fimg.reshape(-1)\n",
        "                #add new column to dataframe\n",
        "                df[gabor_label] = filtered_img  #Labels columns as Gabor1, Gabor2, etc.\n",
        "                #print(gabor_label, ': theta=', theta, ': sigma=', sigma, ': lamda=', lamda, ': gamma=', gamma)\n",
        "                num += 1  #Increment for gabor column label\n",
        "\n",
        "        # edges = cv2.Canny(img, 100,200) #minimum and max value\n",
        "        # edges1 = edges.reshape(-1)\n",
        "        # df['Canny_Edge'] = edges1\n",
        "        # edge_roberts = roberts(img) #minimum and max value\n",
        "        # edge_roberts1 = edge_roberts.reshape(-1)\n",
        "        # df['Roberts'] = edge_roberts1\n",
        "\n",
        "        edge_sobel = sobel(img) #minimum and max value\n",
        "        edge_sobel1 = edge_sobel.reshape(-1)\n",
        "        df['Sobel'] = edge_sobel1\n",
        "\n",
        "        edge_scharr = scharr(img) #minimum and max value\n",
        "        edge_scharr1 = edge_scharr.reshape(-1)\n",
        "        df['Scharr'] = edge_scharr1 \n",
        "\n",
        "        image_dataset = image_dataset.append(df)\n",
        "    return image_dataset\n",
        " "
      ],
      "metadata": {
        "id": "T7XphVQaLZtG"
      },
      "execution_count": 24,
      "outputs": []
    },
    {
      "cell_type": "markdown",
      "source": [
        "With this function I'm going to extract images from the training set."
      ],
      "metadata": {
        "id": "XMjdo7yvaS6L"
      }
    },
    {
      "cell_type": "code",
      "source": [
        "image_features = feature_extractor(X_train)"
      ],
      "metadata": {
        "id": "bO_BPuB4OWbm"
      },
      "execution_count": 25,
      "outputs": []
    },
    {
      "cell_type": "markdown",
      "source": [
        "The image_features dataframe consists of 1,376,256 rows/pixel values and 5 columns."
      ],
      "metadata": {
        "id": "WkuJIEagamMP"
      }
    },
    {
      "cell_type": "code",
      "source": [
        "image_features.shape"
      ],
      "metadata": {
        "colab": {
          "base_uri": "https://localhost:8080/"
        },
        "id": "SHm5qhbpahKC",
        "outputId": "b585aa2d-d38c-4142-f38c-e02116f34da1"
      },
      "execution_count": 26,
      "outputs": [
        {
          "output_type": "execute_result",
          "data": {
            "text/plain": [
              "(1376256, 7)"
            ]
          },
          "metadata": {},
          "execution_count": 26
        }
      ]
    },
    {
      "cell_type": "code",
      "source": [
        "n_features = image_features.shape[1]\n",
        "image_features = np.expand_dims(image_features, axis=0)\n",
        "X_for_RF = np.reshape(image_features, (X_train.shape[0],-1))"
      ],
      "metadata": {
        "id": "WrJnZoRyTK9a"
      },
      "execution_count": 27,
      "outputs": []
    },
    {
      "cell_type": "code",
      "source": [
        "from sklearn.ensemble import RandomForestClassifier"
      ],
      "metadata": {
        "id": "1jaTcckMTNI9"
      },
      "execution_count": 28,
      "outputs": []
    },
    {
      "cell_type": "markdown",
      "source": [
        "## Models\n",
        "### Random Forest Classifier"
      ],
      "metadata": {
        "id": "domXMNlHUac_"
      }
    },
    {
      "cell_type": "code",
      "source": [
        "rf_model = RandomForestClassifier(n_estimators=300, random_state=42)\n",
        "rf_model.fit(X_for_RF, y_train)"
      ],
      "metadata": {
        "id": "FtiVHn71UntD",
        "colab": {
          "base_uri": "https://localhost:8080/"
        },
        "outputId": "670daef6-04ee-41eb-e21c-99cf945df25f"
      },
      "execution_count": 29,
      "outputs": [
        {
          "output_type": "execute_result",
          "data": {
            "text/plain": [
              "RandomForestClassifier(n_estimators=300, random_state=42)"
            ]
          },
          "metadata": {},
          "execution_count": 29
        }
      ]
    },
    {
      "cell_type": "code",
      "source": [
        "#train prediction\n",
        "train_features = feature_extractor(X_train)\n",
        "train_features = np.expand_dims(train_features, axis=0)\n",
        "train_for_RF = np.reshape(train_features, (X_train.shape[0],-1))"
      ],
      "metadata": {
        "id": "PIIKN3qUFeiI"
      },
      "execution_count": 30,
      "outputs": []
    },
    {
      "cell_type": "code",
      "source": [
        "#mine prediction\n",
        "train_prediction = rf_model.predict(train_for_RF)\n",
        "train_prediction = le.inverse_transform(train_prediction)"
      ],
      "metadata": {
        "id": "YzpFM6XJFtJ5"
      },
      "execution_count": 31,
      "outputs": []
    },
    {
      "cell_type": "code",
      "source": [
        "test_features = feature_extractor(X_test)\n",
        "test_features = np.expand_dims(test_features, axis=0)\n",
        "test_for_RF = np.reshape(test_features, (X_test.shape[0],-1))"
      ],
      "metadata": {
        "id": "IGpS_W3AWgHt"
      },
      "execution_count": 32,
      "outputs": []
    },
    {
      "cell_type": "code",
      "source": [
        "test_prediction = rf_model.predict(test_for_RF)\n",
        "test_prediction = le.inverse_transform(test_prediction)"
      ],
      "metadata": {
        "id": "t350RZjDXV8Y"
      },
      "execution_count": 33,
      "outputs": []
    },
    {
      "cell_type": "markdown",
      "source": [
        "#### Support Vector Machine "
      ],
      "metadata": {
        "id": "_H1YAquL15Dk"
      }
    },
    {
      "cell_type": "code",
      "source": [
        "#from sklearn import svm\n",
        "from sklearn.svm import LinearSVC"
      ],
      "metadata": {
        "id": "sJMzkSOU14vQ"
      },
      "execution_count": 34,
      "outputs": []
    },
    {
      "cell_type": "code",
      "source": [
        "n_features = image_features.shape[1]\n",
        "image_features = np.expand_dims(image_features, axis=0)\n",
        "X_for_svm = np.reshape(image_features, (X_train.shape[0],-1))"
      ],
      "metadata": {
        "id": "-z8Vl7eM_wV0"
      },
      "execution_count": 35,
      "outputs": []
    },
    {
      "cell_type": "code",
      "source": [
        "\n",
        "\n",
        "model_svm = LinearSVC(max_iter=400)\n",
        "model_svm.fit(X_for_svm, y_train)\n",
        "\n",
        "# svm_model = svm.SVC(decision_function_shape='ovo')\n",
        "# svm_model.fit(X_for_svm, y_train)\n",
        "#prediction_svm = model_svm.predict(X_test)\n",
        "# print(\"Train Accuracy: \", metrics.accuracy_score(y_train, y_train_pred)) \n",
        "# #make a prediction\n",
        "\n",
        "#how good was model at making prediction? Accuracy of prediction \n",
        "#print('Test Accuracy: ',metrics.accuracy_score(y_test, prediction_svm))"
      ],
      "metadata": {
        "colab": {
          "base_uri": "https://localhost:8080/"
        },
        "id": "TjgdtMOR2FJQ",
        "outputId": "9a24c83a-3ea7-45ff-f0df-a0cb007203b2"
      },
      "execution_count": 36,
      "outputs": [
        {
          "output_type": "execute_result",
          "data": {
            "text/plain": [
              "LinearSVC(max_iter=400)"
            ]
          },
          "metadata": {},
          "execution_count": 36
        }
      ]
    },
    {
      "cell_type": "code",
      "source": [
        ""
      ],
      "metadata": {
        "id": "egg_zWNk8Ek8"
      },
      "execution_count": 36,
      "outputs": []
    },
    {
      "cell_type": "code",
      "source": [
        "test_features_svm = feature_extractor(X_test)\n",
        "test_features_svm = np.expand_dims(test_features_svm, axis=0)\n",
        "test_for_svm = np.reshape(test_features_svm, (X_test.shape[0],-1))"
      ],
      "metadata": {
        "id": "3uoIBe8R2fKm"
      },
      "execution_count": 37,
      "outputs": []
    },
    {
      "cell_type": "code",
      "source": [
        "test_prediction_svm = model_svm.predict(test_for_svm)\n",
        "test_prediction_svm = le.inverse_transform(test_prediction_svm)"
      ],
      "metadata": {
        "id": "YzDw3PCv2fAn"
      },
      "execution_count": 38,
      "outputs": []
    },
    {
      "cell_type": "markdown",
      "source": [
        "### Metrics"
      ],
      "metadata": {
        "id": "lQXYTFmC866q"
      }
    },
    {
      "cell_type": "code",
      "source": [
        "from sklearn import metrics"
      ],
      "metadata": {
        "id": "pHh4JvB1Xsm9"
      },
      "execution_count": 39,
      "outputs": []
    },
    {
      "cell_type": "code",
      "source": [
        "acc = metrics.accuracy_score(train_labels, train_prediction)\n",
        "test_acc = metrics.accuracy_score(test_labels, test_prediction)\n",
        "print('Accuracy for rf_model')\n",
        "print('Train Accuracy: {:.3f}'.format(acc))\n",
        "print('RFC Test Accuracy: {:.3f}'.format(test_acc))"
      ],
      "metadata": {
        "id": "CQqwzlZuXwr_",
        "colab": {
          "base_uri": "https://localhost:8080/"
        },
        "outputId": "4ab0fd1a-98fd-4bd8-f583-aebcd01d85ef"
      },
      "execution_count": 40,
      "outputs": [
        {
          "output_type": "stream",
          "name": "stdout",
          "text": [
            "Accuracy for rf_model\n",
            "Train Accuracy: 1.000\n",
            "RFC Test Accuracy: 0.917\n"
          ]
        }
      ]
    },
    {
      "cell_type": "code",
      "source": [
        "test_acc_svm = metrics.accuracy_score(test_labels, test_prediction_svm)\n",
        "print('Accuracy for svm_model')\n",
        "#print('Train Accuracy: {:.3f}'.format(acc))\n",
        "print('SVM Test Accuracy: {:.3f}'.format(test_acc_svm))"
      ],
      "metadata": {
        "colab": {
          "base_uri": "https://localhost:8080/"
        },
        "id": "uS-kst6P28RV",
        "outputId": "da87c728-e29f-4150-b14a-42b6507657ed"
      },
      "execution_count": 41,
      "outputs": [
        {
          "output_type": "stream",
          "name": "stdout",
          "text": [
            "Accuracy for svm_model\n",
            "SVM Test Accuracy: 0.917\n"
          ]
        }
      ]
    },
    {
      "cell_type": "markdown",
      "source": [
        "#### Confusion Matrix"
      ],
      "metadata": {
        "id": "QXMsElUpHKuc"
      }
    },
    {
      "cell_type": "code",
      "source": [
        "from sklearn.metrics import confusion_matrix"
      ],
      "metadata": {
        "id": "x6TjIsnQ7qk1"
      },
      "execution_count": 42,
      "outputs": []
    },
    {
      "cell_type": "code",
      "source": [
        "cm = confusion_matrix(test_labels, test_prediction)"
      ],
      "metadata": {
        "id": "4JTcWmIx7zRH"
      },
      "execution_count": 43,
      "outputs": []
    },
    {
      "cell_type": "code",
      "source": [
        "fig,ax = plt.subplots(figsize=(6,6))\n",
        "sns.set(font_scale=1.6)\n",
        "sns.heatmap(cm, annot=True, ax=ax)"
      ],
      "metadata": {
        "colab": {
          "base_uri": "https://localhost:8080/",
          "height": 398
        },
        "id": "Qlhwuco57-Wo",
        "outputId": "2ff522f6-ef1a-4e4d-935f-56135d7d129b"
      },
      "execution_count": 44,
      "outputs": [
        {
          "output_type": "execute_result",
          "data": {
            "text/plain": [
              "<matplotlib.axes._subplots.AxesSubplot at 0x7f09976a50d0>"
            ]
          },
          "metadata": {},
          "execution_count": 44
        },
        {
          "output_type": "display_data",
          "data": {
            "text/plain": [
              "<Figure size 432x432 with 2 Axes>"
            ],
            "image/png": "[encoded data removed]"
          },
          "metadata": {
            "needs_background": "light"
          }
        }
      ]
    },
    {
      "cell_type": "markdown",
      "source": [
        "#### Classification Report"
      ],
      "metadata": {
        "id": "xFp92rIOiFQZ"
      }
    },
    {
      "cell_type": "code",
      "source": [
        "from sklearn.metrics import confusion_matrix, classification_report\n",
        "print(classification_report(test_labels, test_prediction))"
      ],
      "metadata": {
        "colab": {
          "base_uri": "https://localhost:8080/"
        },
        "id": "vNrc7Mk5iEoG",
        "outputId": "d5636e03-0899-4401-b509-b88d4c250042"
      },
      "execution_count": 45,
      "outputs": [
        {
          "output_type": "stream",
          "name": "stdout",
          "text": [
            "              precision    recall  f1-score   support\n",
            "\n",
            "    airplane       0.86      1.00      0.92         6\n",
            "         car       1.00      0.83      0.91         6\n",
            "\n",
            "    accuracy                           0.92        12\n",
            "   macro avg       0.93      0.92      0.92        12\n",
            "weighted avg       0.93      0.92      0.92        12\n",
            "\n"
          ]
        }
      ]
    },
    {
      "cell_type": "markdown",
      "source": [
        "### Check Results with Random Images\n",
        "Check the results on test images to see where it was correct and where it failed.<br>\n",
        "Want to generate a random number between 0 and the number of images in train set.  Then show the image."
      ],
      "metadata": {
        "id": "9J-BLhBEcEk1"
      }
    },
    {
      "cell_type": "code",
      "source": [
        "import random"
      ],
      "metadata": {
        "id": "BGh_4mM-8HyG"
      },
      "execution_count": 46,
      "outputs": []
    },
    {
      "cell_type": "code",
      "source": [
        "n = random.randint(0, X_test.shape[0]-1)\n",
        "img = X_test[n]\n",
        "plt.imshow(img)"
      ],
      "metadata": {
        "colab": {
          "base_uri": "https://localhost:8080/",
          "height": 299
        },
        "id": "Tur9h5SQcm8X",
        "outputId": "b8c0a34a-2c06-432c-9a7a-2c08110d2acc"
      },
      "execution_count": 47,
      "outputs": [
        {
          "output_type": "execute_result",
          "data": {
            "text/plain": [
              "<matplotlib.image.AxesImage at 0x7f0994dcb410>"
            ]
          },
          "metadata": {},
          "execution_count": 47
        },
        {
          "output_type": "display_data",
          "data": {
            "text/plain": [
              "<Figure size 432x288 with 1 Axes>"
            ],
            "image/png": "[encoded data removed]"
          },
          "metadata": {}
        }
      ]
    },
    {
      "cell_type": "code",
      "source": [
        "input_img = np.expand_dims(img, axis=0)\n",
        "input_img_features = feature_extractor(input_img)\n",
        "input_img_features = np.expand_dims(input_img_features, axis=0)\n",
        "input_img_for_RF = np.reshape(input_img_features, (input_img.shape[0],-1)) \n",
        "#predict\n",
        "img_prediction = rf_model.predict(input_img_for_RF)\n",
        "img_prediction = le.inverse_transform(img_prediction)\n",
        "print('The prediction for this image is: ',img_prediction)\n",
        "print('Actual Label for this image is: ', test_labels[n])"
      ],
      "metadata": {
        "colab": {
          "base_uri": "https://localhost:8080/"
        },
        "id": "gK46xrV2c82x",
        "outputId": "46db8da4-61d9-4cf8-a87c-8b1d1169c475"
      },
      "execution_count": 48,
      "outputs": [
        {
          "output_type": "stream",
          "name": "stdout",
          "text": [
            "The prediction for this image is:  ['airplane']\n",
            "Actual Label for this image is:  airplane\n"
          ]
        }
      ]
    },
    {
      "cell_type": "markdown",
      "source": [
        "### Findings\n",
        "I originally only used 15 images.  I created a Random Forest Classifier and on the test set got an accuracy score of 75%.  I increased the dataset to 28 images.  With the Random Forest Classifier the accuracy increased to 91%.  I also created an SVM model and I got the same accuracy score of 91% "
      ],
      "metadata": {
        "id": "PTRNytOkEbhd"
      }
    },
    {
      "cell_type": "code",
      "source": [
        ""
      ],
      "metadata": {
        "id": "e0GTOGgwGZNe"
      },
      "execution_count": 48,
      "outputs": []
    }
  ]
}