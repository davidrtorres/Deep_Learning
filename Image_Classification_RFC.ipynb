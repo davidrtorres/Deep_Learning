{
  "nbformat": 4,
  "nbformat_minor": 0,
  "metadata": {
    "colab": {
      "name": "Image Classification/RFC.ipynb",
      "provenance": [],
      "collapsed_sections": [],
      "mount_file_id": "1HnMSSNRF20BdcXExbkXBezcSCmNNo47O",
      "authorship_tag": "ABX9TyPwpNXax1ItPLVxbiWQTV4z",
      "include_colab_link": true
    },
    "kernelspec": {
      "name": "python3",
      "display_name": "Python 3"
    },
    "language_info": {
      "name": "python"
    }
  },
  "cells": [
    {
      "cell_type": "markdown",
      "metadata": {
        "id": "view-in-github",
        "colab_type": "text"
      },
      "source": [
        "<a href=\"https://colab.research.google.com/github/davidrtorres/Deep_Learning/blob/main/Image_Classification_RFC.ipynb\" target=\"_parent\"><img src=\"https://colab.research.google.com/assets/colab-badge.svg\" alt=\"Open In Colab\"/></a>"
      ]
    },
    {
      "cell_type": "markdown",
      "source": [
        "### Using Machine Learning for Image Classification\n",
        "In this notebook I'm going to build a Machine Learning model for image classification.  What is the difference between image segmentation and image classification?  By segmentation I am referring to semantic segmentation.  Image segmentation refers to every pixel classification.  Image classification refers to the entire picture classified as something, i.e. if you're working with images of infected cells or non-infected cells.  Here we're not dealing with pixel level information.  We're dealing with whole image level information, i.e., is this a dog or cat.  The entire image is classifed into one or the categories.  The label in image classification is not at the pixel level but at the image level.  There are binary classification or multi-classification problems, i.e., is this an image of a barn, airplan or cat.\n",
        "\n",
        "I followed the Youtube Series https://www.youtube.com/watch?v=nK-2k_ENgEc&list=PLHae9ggVvqPgyRQQOtENr6hK0m1UquGaG&index=85 in prepaing this notebook."
      ],
      "metadata": {
        "id": "n6rl3BBIullY"
      }
    },
    {
      "cell_type": "code",
      "source": [
        "import matplotlib.pyplot as plt\n",
        "%matplotlib inline\n",
        "import pandas as pd\n",
        "import numpy as np\n",
        "import seaborn as sns\n",
        "import glob\n",
        "import cv2\n",
        "import os"
      ],
      "metadata": {
        "id": "N_1Tsq18BRRM"
      },
      "execution_count": null,
      "outputs": []
    },
    {
      "cell_type": "markdown",
      "source": [
        "### Put Image Folders into Train, Validation and Test Sets\n",
        "The image folder consists of 2 subfolders for airplanes and cars.  The task for this section was how to take the subfolders and split then into train, validation and test sets.  I need train and validation sets so that labels can be created. "
      ],
      "metadata": {
        "id": "a4k4_-3RmLPD"
      }
    },
    {
      "cell_type": "code",
      "source": [
        "!pip install split-folders "
      ],
      "metadata": {
        "colab": {
          "base_uri": "https://localhost:8080/"
        },
        "id": "pUAFHEHZ1cpc",
        "outputId": "1893f101-0368-4082-d849-3d6530c0c9fb"
      },
      "execution_count": null,
      "outputs": [
        {
          "output_type": "stream",
          "name": "stdout",
          "text": [
            "Looking in indexes: https://pypi.org/simple, https://us-python.pkg.dev/colab-wheels/public/simple/\n",
            "Requirement already satisfied: split-folders in /usr/local/lib/python3.7/dist-packages (0.5.1)\n"
          ]
        }
      ]
    },
    {
      "cell_type": "code",
      "source": [
        "import splitfolders"
      ],
      "metadata": {
        "id": "K_jUjmB61Vqs"
      },
      "execution_count": null,
      "outputs": []
    },
    {
      "cell_type": "markdown",
      "source": [
        "The train set is used to train the model and to update the weights.  The validation data is used as part of the training but only to validate after each iteration.  Test data is never used as part of the training process.\n",
        "\n",
        "https://www.youtube.com/watch?v=C6wbr1jJvVs"
      ],
      "metadata": {
        "id": "nny_oyGx-BOp"
      }
    },
    {
      "cell_type": "code",
      "execution_count": null,
      "metadata": {
        "id": "UfE-BatDt-ff"
      },
      "outputs": [],
      "source": [
        "# input_folder = '/content/drive/MyDrive/datasets/air_car2/'\n",
        "# # #testing, (20)validation, (test)testing\n",
        "# splitfolders.ratio(input_folder, output='/content/drive/MyDrive/datasets/air_car2_folder/',seed=42, ratio=(.7,.3),group_prefix=None) #ratio=(.7,.2,.1)"
      ]
    },
    {
      "cell_type": "code",
      "source": [
        "print(os.listdir('/content/drive/MyDrive/datasets/air_car2_folder/'))"
      ],
      "metadata": {
        "colab": {
          "base_uri": "https://localhost:8080/"
        },
        "id": "IVLlSnd7EmYK",
        "outputId": "cf07189b-1bd9-43c5-de2f-2c304396ced3"
      },
      "execution_count": null,
      "outputs": [
        {
          "output_type": "stream",
          "name": "stdout",
          "text": [
            "['train', 'val', 'test']\n"
          ]
        }
      ]
    },
    {
      "cell_type": "code",
      "source": [
        "# file = '/content/drive/MyDrive/datasets/cell_images_folder/train/'\n",
        "# for f in glob.glob(file + \"/*.JPG\"):\n",
        "#   print(f)"
      ],
      "metadata": {
        "id": "8u2arJqodWq2"
      },
      "execution_count": null,
      "outputs": []
    },
    {
      "cell_type": "markdown",
      "source": [
        "### Read the Images\n",
        "The for loops allows me to iterate through every image in the train folder.  I ran the for loop on the train folder and the directory shows that there are 2 subfolders (airplane and car) in the train folder.  With function .split() I created a label for each image based on the folder it's in. \n",
        "When you load the images they usually come in different sizes so I need to resize the images for processing purposes.  "
      ],
      "metadata": {
        "id": "x_kVbBsHyKNs"
      }
    },
    {
      "cell_type": "code",
      "source": [
        "SIZE = 128\n",
        "train_images = []\n",
        "train_labels=[]\n",
        "\n",
        "for directory_path in glob.glob(\"/content/drive/MyDrive/datasets/air_car2_folder/train/*\"):\n",
        "  #create label\n",
        "  label = directory_path.split(\"/\")[-1]\n",
        "  print(label)\n",
        "  #print(directory_path)\n",
        "  for img_path in glob.glob(os.path.join(directory_path, \"*.jpg\")):\n",
        "    #print(img_path)\n",
        "    #read image as color meaning 3 channels\n",
        "    img = cv2.imread(img_path, cv2.IMREAD_COLOR)\n",
        "    #resize images\n",
        "    img = cv2.resize(img, (SIZE,SIZE))\n",
        "    #append images\n",
        "    train_images.append(img)\n",
        "    train_labels.append(label)\n",
        "#convert list to numpy array\n",
        "train_images = np.array(train_images)\n",
        "train_labels  = np.array(train_labels)"
      ],
      "metadata": {
        "colab": {
          "base_uri": "https://localhost:8080/"
        },
        "id": "soxrx2irf77r",
        "outputId": "99e2ca92-62ad-43ee-fe03-c113f997154e"
      },
      "execution_count": null,
      "outputs": [
        {
          "output_type": "stream",
          "name": "stdout",
          "text": [
            "airplane\n",
            "car\n"
          ]
        }
      ]
    },
    {
      "cell_type": "code",
      "source": [
        "train_images"
      ],
      "metadata": {
        "colab": {
          "base_uri": "https://localhost:8080/"
        },
        "id": "hVbfK4iEgoq3",
        "outputId": "a60970c2-1125-4e1f-91ae-4cb159848a83"
      },
      "execution_count": null,
      "outputs": [
        {
          "output_type": "execute_result",
          "data": {
            "text/plain": [
              "array([[[[241, 255, 255],\n",
              "         [177, 213, 207],\n",
              "         [166, 214, 205],\n",
              "         ...,\n",
              "         [191, 229, 211],\n",
              "         [193, 229, 213],\n",
              "         [194, 229, 216]],\n",
              "\n",
              "        [[241, 255, 255],\n",
              "         [177, 213, 207],\n",
              "         [166, 214, 205],\n",
              "         ...,\n",
              "         [191, 229, 211],\n",
              "         [192, 228, 212],\n",
              "         [193, 228, 215]],\n",
              "\n",
              "        [[240, 255, 255],\n",
              "         [176, 212, 206],\n",
              "         [165, 213, 204],\n",
              "         ...,\n",
              "         [189, 228, 212],\n",
              "         [190, 226, 212],\n",
              "         [191, 227, 215]],\n",
              "\n",
              "        ...,\n",
              "\n",
              "        [[247, 250, 253],\n",
              "         [  4,   7,  23],\n",
              "         [  1,   2,  23],\n",
              "         ...,\n",
              "         [ 10,  30,  34],\n",
              "         [ 14,  39,  43],\n",
              "         [ 12,  41,  42]],\n",
              "\n",
              "        [[249, 251, 255],\n",
              "         [ 10,  11,  29],\n",
              "         [  8,   8,  32],\n",
              "         ...,\n",
              "         [ 16,  37,  42],\n",
              "         [ 22,  49,  53],\n",
              "         [ 18,  48,  49]],\n",
              "\n",
              "        [[251, 253, 255],\n",
              "         [ 21,  21,  39],\n",
              "         [ 21,  20,  45],\n",
              "         ...,\n",
              "         [ 13,  37,  41],\n",
              "         [ 21,  48,  52],\n",
              "         [ 16,  47,  47]]],\n",
              "\n",
              "\n",
              "       [[[211, 225, 244],\n",
              "         [212, 225, 247],\n",
              "         [211, 224, 246],\n",
              "         ...,\n",
              "         [154, 174, 201],\n",
              "         [157, 176, 203],\n",
              "         [160, 177, 204]],\n",
              "\n",
              "        [[210, 224, 243],\n",
              "         [212, 225, 247],\n",
              "         [211, 225, 247],\n",
              "         ...,\n",
              "         [155, 174, 201],\n",
              "         [157, 176, 203],\n",
              "         [160, 176, 203]],\n",
              "\n",
              "        [[210, 224, 243],\n",
              "         [212, 225, 247],\n",
              "         [211, 224, 247],\n",
              "         ...,\n",
              "         [156, 175, 202],\n",
              "         [158, 176, 203],\n",
              "         [160, 175, 203]],\n",
              "\n",
              "        ...,\n",
              "\n",
              "        [[189, 210, 232],\n",
              "         [192, 210, 233],\n",
              "         [195, 209, 235],\n",
              "         ...,\n",
              "         [146, 170, 194],\n",
              "         [143, 167, 191],\n",
              "         [144, 168, 194]],\n",
              "\n",
              "        [[190, 210, 232],\n",
              "         [192, 210, 233],\n",
              "         [195, 209, 235],\n",
              "         ...,\n",
              "         [146, 170, 194],\n",
              "         [143, 167, 191],\n",
              "         [145, 168, 194]],\n",
              "\n",
              "        [[191, 209, 232],\n",
              "         [192, 210, 233],\n",
              "         [195, 210, 236],\n",
              "         ...,\n",
              "         [146, 170, 194],\n",
              "         [145, 168, 194],\n",
              "         [145, 168, 194]]],\n",
              "\n",
              "\n",
              "       [[[165, 154, 123],\n",
              "         [170, 151, 119],\n",
              "         [171, 150, 119],\n",
              "         ...,\n",
              "         [130, 110,  93],\n",
              "         [130, 110,  93],\n",
              "         [127, 110,  91]],\n",
              "\n",
              "        [[167, 155, 124],\n",
              "         [171, 151, 119],\n",
              "         [172, 150, 119],\n",
              "         ...,\n",
              "         [131, 111,  94],\n",
              "         [129, 109,  92],\n",
              "         [127, 108,  90]],\n",
              "\n",
              "        [[168, 155, 124],\n",
              "         [172, 151, 118],\n",
              "         [174, 150, 119],\n",
              "         ...,\n",
              "         [132, 112,  95],\n",
              "         [128, 108,  92],\n",
              "         [127, 108,  90]],\n",
              "\n",
              "        ...,\n",
              "\n",
              "        [[ 65, 146, 178],\n",
              "         [ 62, 159, 193],\n",
              "         [ 56, 147, 186],\n",
              "         ...,\n",
              "         [ 43, 123, 164],\n",
              "         [ 28, 110, 150],\n",
              "         [ 35, 119, 160]],\n",
              "\n",
              "        [[ 73, 154, 186],\n",
              "         [ 70, 166, 200],\n",
              "         [ 54, 145, 184],\n",
              "         ...,\n",
              "         [ 39, 111, 149],\n",
              "         [ 29, 103, 142],\n",
              "         [ 31, 107, 147]],\n",
              "\n",
              "        [[ 79, 159, 192],\n",
              "         [ 67, 164, 198],\n",
              "         [ 57, 148, 187],\n",
              "         ...,\n",
              "         [ 27,  95, 132],\n",
              "         [ 27,  97, 134],\n",
              "         [ 17,  88, 129]]],\n",
              "\n",
              "\n",
              "       ...,\n",
              "\n",
              "\n",
              "       [[[ 20,  26,  25],\n",
              "         [ 21,  27,  26],\n",
              "         [ 23,  29,  28],\n",
              "         ...,\n",
              "         [160, 168, 171],\n",
              "         [204, 213, 216],\n",
              "         [203, 212, 215]],\n",
              "\n",
              "        [[ 28,  33,  32],\n",
              "         [ 28,  33,  32],\n",
              "         [ 28,  33,  32],\n",
              "         ...,\n",
              "         [137, 145, 148],\n",
              "         [188, 197, 200],\n",
              "         [214, 223, 226]],\n",
              "\n",
              "        [[ 37,  40,  40],\n",
              "         [ 36,  40,  40],\n",
              "         [ 36,  40,  39],\n",
              "         ...,\n",
              "         [111, 119, 122],\n",
              "         [162, 171, 174],\n",
              "         [215, 224, 227]],\n",
              "\n",
              "        ...,\n",
              "\n",
              "        [[144, 145, 145],\n",
              "         [140, 141, 141],\n",
              "         [135, 136, 136],\n",
              "         ...,\n",
              "         [155, 158, 161],\n",
              "         [162, 164, 167],\n",
              "         [165, 167, 170]],\n",
              "\n",
              "        [[147, 147, 147],\n",
              "         [144, 144, 144],\n",
              "         [140, 140, 140],\n",
              "         ...,\n",
              "         [152, 155, 159],\n",
              "         [159, 162, 166],\n",
              "         [162, 165, 169]],\n",
              "\n",
              "        [[149, 149, 149],\n",
              "         [146, 146, 146],\n",
              "         [143, 143, 143],\n",
              "         ...,\n",
              "         [151, 154, 158],\n",
              "         [157, 161, 165],\n",
              "         [161, 164, 168]]],\n",
              "\n",
              "\n",
              "       [[[ 40,  51,  48],\n",
              "         [ 40,  52,  47],\n",
              "         [ 40,  53,  47],\n",
              "         ...,\n",
              "         [ 40,  58,  55],\n",
              "         [ 42,  60,  56],\n",
              "         [ 44,  61,  58]],\n",
              "\n",
              "        [[ 39,  50,  47],\n",
              "         [ 40,  52,  47],\n",
              "         [ 41,  54,  48],\n",
              "         ...,\n",
              "         [ 33,  51,  48],\n",
              "         [ 34,  51,  48],\n",
              "         [ 35,  52,  49]],\n",
              "\n",
              "        [[ 38,  49,  45],\n",
              "         [ 39,  51,  45],\n",
              "         [ 40,  54,  46],\n",
              "         ...,\n",
              "         [ 32,  49,  45],\n",
              "         [ 31,  48,  44],\n",
              "         [ 32,  48,  44]],\n",
              "\n",
              "        ...,\n",
              "\n",
              "        [[136, 124, 112],\n",
              "         [135, 123, 111],\n",
              "         [134, 122, 110],\n",
              "         ...,\n",
              "         [151, 135, 118],\n",
              "         [151, 135, 118],\n",
              "         [151, 135, 118]],\n",
              "\n",
              "        [[136, 124, 112],\n",
              "         [134, 122, 110],\n",
              "         [133, 122, 110],\n",
              "         ...,\n",
              "         [153, 137, 119],\n",
              "         [152, 136, 119],\n",
              "         [152, 136, 119]],\n",
              "\n",
              "        [[135, 123, 111],\n",
              "         [134, 122, 110],\n",
              "         [133, 122, 110],\n",
              "         ...,\n",
              "         [154, 138, 121],\n",
              "         [152, 136, 120],\n",
              "         [152, 136, 119]]],\n",
              "\n",
              "\n",
              "       [[[212, 226, 232],\n",
              "         [209, 223, 229],\n",
              "         [209, 222, 227],\n",
              "         ...,\n",
              "         [ 91,  97,  96],\n",
              "         [ 84,  90,  89],\n",
              "         [ 85,  91,  90]],\n",
              "\n",
              "        [[209, 223, 229],\n",
              "         [207, 222, 226],\n",
              "         [206, 220, 224],\n",
              "         ...,\n",
              "         [ 91,  97,  96],\n",
              "         [ 88,  94,  93],\n",
              "         [ 87,  93,  92]],\n",
              "\n",
              "        [[208, 221, 226],\n",
              "         [207, 220, 224],\n",
              "         [206, 219, 223],\n",
              "         ...,\n",
              "         [ 91,  97,  96],\n",
              "         [ 89,  95,  94],\n",
              "         [ 87,  93,  92]],\n",
              "\n",
              "        ...,\n",
              "\n",
              "        [[124, 135, 138],\n",
              "         [120, 132, 135],\n",
              "         [118, 130, 132],\n",
              "         ...,\n",
              "         [122, 136, 139],\n",
              "         [119, 134, 137],\n",
              "         [113, 128, 131]],\n",
              "\n",
              "        [[117, 128, 132],\n",
              "         [114, 125, 128],\n",
              "         [113, 125, 128],\n",
              "         ...,\n",
              "         [122, 135, 139],\n",
              "         [118, 134, 137],\n",
              "         [114, 129, 132]],\n",
              "\n",
              "        [[101, 112, 116],\n",
              "         [103, 114, 118],\n",
              "         [107, 119, 122],\n",
              "         ...,\n",
              "         [120, 134, 137],\n",
              "         [118, 133, 136],\n",
              "         [117, 132, 135]]]], dtype=uint8)"
            ]
          },
          "metadata": {},
          "execution_count": 8
        }
      ]
    },
    {
      "cell_type": "code",
      "source": [
        "train_labels"
      ],
      "metadata": {
        "colab": {
          "base_uri": "https://localhost:8080/"
        },
        "id": "Xpbs-qe_1Koj",
        "outputId": "a099f20b-4575-4e58-d71b-e7bb095cda66"
      },
      "execution_count": null,
      "outputs": [
        {
          "output_type": "execute_result",
          "data": {
            "text/plain": [
              "array(['airplane', 'airplane', 'airplane', 'airplane', 'airplane',\n",
              "       'airplane', 'airplane', 'airplane', 'airplane', 'car', 'car',\n",
              "       'car', 'car', 'car', 'car', 'car', 'car'], dtype='<U8')"
            ]
          },
          "metadata": {},
          "execution_count": 9
        }
      ]
    },
    {
      "cell_type": "code",
      "source": [
        "print(train_images.shape)\n",
        "print(train_labels.shape)"
      ],
      "metadata": {
        "colab": {
          "base_uri": "https://localhost:8080/"
        },
        "id": "cuQc-sZwAlKM",
        "outputId": "cc0507a7-9fa2-4757-dc6f-a789205c8037"
      },
      "execution_count": null,
      "outputs": [
        {
          "output_type": "stream",
          "name": "stdout",
          "text": [
            "(17, 128, 128, 3)\n",
            "(17,)\n"
          ]
        }
      ]
    },
    {
      "cell_type": "code",
      "source": [
        "test_images = []\n",
        "test_labels=[]\n",
        "\n",
        "for directory_path in glob.glob(\"/content/drive/MyDrive/datasets/air_car2_folder/val/*\"):\n",
        "  flower_label = directory_path.split(\"/\")[-1]\n",
        "  print(flower_label)\n",
        "  #print(directory_path)\n",
        "  for img_path in glob.glob(os.path.join(directory_path, \"*.jpg\")):\n",
        "    #print(img_path)\n",
        "    img = cv2.imread(img_path, cv2.IMREAD_COLOR)\n",
        "    img = cv2.resize(img, (SIZE,SIZE))\n",
        "\n",
        "    test_images.append(img)\n",
        "    test_labels.append(flower_label)\n",
        "\n",
        "test_images = np.array(test_images)\n",
        "test_labels  = np.array(test_labels)"
      ],
      "metadata": {
        "colab": {
          "base_uri": "https://localhost:8080/"
        },
        "id": "yXyf8i87AlCf",
        "outputId": "f7106fff-85c7-4fd5-c66e-107df76d0687"
      },
      "execution_count": null,
      "outputs": [
        {
          "output_type": "stream",
          "name": "stdout",
          "text": [
            "airplane\n",
            "car\n"
          ]
        }
      ]
    },
    {
      "cell_type": "code",
      "source": [
        "print(test_images.shape)\n",
        "print(test_labels.shape)"
      ],
      "metadata": {
        "colab": {
          "base_uri": "https://localhost:8080/"
        },
        "id": "IdlxFq_mAk4P",
        "outputId": "3e125f0a-86e3-4d00-8a33-16adb45c6f5d"
      },
      "execution_count": null,
      "outputs": [
        {
          "output_type": "stream",
          "name": "stdout",
          "text": [
            "(8, 128, 128, 3)\n",
            "(8,)\n"
          ]
        }
      ]
    },
    {
      "cell_type": "code",
      "source": [
        "test_labels"
      ],
      "metadata": {
        "colab": {
          "base_uri": "https://localhost:8080/"
        },
        "id": "vDAgOocUGgIe",
        "outputId": "6e72bc8b-af5a-40ba-f0f4-234e31a1cf38"
      },
      "execution_count": null,
      "outputs": [
        {
          "output_type": "execute_result",
          "data": {
            "text/plain": [
              "array(['airplane', 'airplane', 'airplane', 'airplane', 'car', 'car',\n",
              "       'car', 'car'], dtype='<U8')"
            ]
          },
          "metadata": {},
          "execution_count": 13
        }
      ]
    },
    {
      "cell_type": "markdown",
      "source": [
        "### Preprocessing\n",
        "The label has the categories airplane and cr which need to be converted to 0 and 1. "
      ],
      "metadata": {
        "id": "s3P5MxuO1hqb"
      }
    },
    {
      "cell_type": "code",
      "source": [
        "from sklearn import preprocessing"
      ],
      "metadata": {
        "id": "DiakTZskITxu"
      },
      "execution_count": null,
      "outputs": []
    },
    {
      "cell_type": "code",
      "source": [
        "le = preprocessing.LabelEncoder()\n",
        "le.fit(test_labels)\n",
        "test_labels_encoded = le.transform(test_labels)\n",
        "le.fit(train_labels)\n",
        "train_labels_encoded = le.transform(train_labels)"
      ],
      "metadata": {
        "id": "kEm_lC97Ican"
      },
      "execution_count": null,
      "outputs": []
    },
    {
      "cell_type": "code",
      "source": [
        "train_labels_encoded"
      ],
      "metadata": {
        "colab": {
          "base_uri": "https://localhost:8080/"
        },
        "id": "BZR6-1cYJOcL",
        "outputId": "847592f4-59c3-497e-cc46-44fe0e8f8ebf"
      },
      "execution_count": null,
      "outputs": [
        {
          "output_type": "execute_result",
          "data": {
            "text/plain": [
              "array([0, 0, 0, 0, 0, 0, 0, 0, 0, 1, 1, 1, 1, 1, 1, 1, 1])"
            ]
          },
          "metadata": {},
          "execution_count": 16
        }
      ]
    },
    {
      "cell_type": "markdown",
      "source": [
        "### Split the Data"
      ],
      "metadata": {
        "id": "L7uX92YIJWQ-"
      }
    },
    {
      "cell_type": "code",
      "source": [
        "from sklearn.model_selection import train_test_split"
      ],
      "metadata": {
        "id": "6R_BkK6GJQcm"
      },
      "execution_count": null,
      "outputs": []
    },
    {
      "cell_type": "code",
      "source": [
        "X_train, y_train, X_test,y_test = train_images, train_labels_encoded, test_images, test_labels_encoded"
      ],
      "metadata": {
        "id": "x3kDx7wUJlLG"
      },
      "execution_count": null,
      "outputs": []
    },
    {
      "cell_type": "code",
      "source": [
        "#X_train, X_test = X_train / 255.0, X_test/255.0"
      ],
      "metadata": {
        "id": "V9HXkBNQ2JvM"
      },
      "execution_count": null,
      "outputs": []
    },
    {
      "cell_type": "code",
      "source": [
        "print(X_train.shape)\n",
        "print(y_train.shape)\n",
        "print(X_test.shape)\n",
        "print(y_test.shape)"
      ],
      "metadata": {
        "colab": {
          "base_uri": "https://localhost:8080/"
        },
        "id": "j4qLPfdhLMDX",
        "outputId": "d8cbabba-ffe1-434a-b737-36356a3031c2"
      },
      "execution_count": null,
      "outputs": [
        {
          "output_type": "stream",
          "name": "stdout",
          "text": [
            "(17, 128, 128, 3)\n",
            "(17,)\n",
            "(8, 128, 128, 3)\n",
            "(8,)\n"
          ]
        }
      ]
    },
    {
      "cell_type": "markdown",
      "source": [
        "### Feature Extracting\n",
        "The function enables you to go through each image and apply several filters.  We can then capture the responses and append them to a Pandas dataframe.  I will do this for both the training and testing images. We will extract features from the images by applying filters to them.  The extracted images or filtered images you can extract filters are features I'll use as input to the Random Forest Classifier I'm going to build. <br>\n",
        "Pixel values are the first feature added to the dataframe."
      ],
      "metadata": {
        "id": "KqtTeKQal5lQ"
      }
    },
    {
      "cell_type": "code",
      "source": [
        "from skimage.filters import roberts,sobel, scharr, prewitt"
      ],
      "metadata": {
        "id": "vARwtdFPM0Vb"
      },
      "execution_count": null,
      "outputs": []
    },
    {
      "cell_type": "code",
      "source": [
        "def feature_extractor(dataset):\n",
        "    X_train = dataset\n",
        "    image_dataset = pd.DataFrame()\n",
        "    for image in range(X_train.shape[0]):\n",
        "\n",
        "        df = pd.DataFrame()\n",
        "\n",
        "        input_img = X_train[image,:,:,:]\n",
        "        img = input_img\n",
        "\n",
        "        pixel_values = img.reshape(-1)\n",
        "        df['Pixel_Value'] = pixel_values\n",
        "        #Generate Gabor filters\n",
        "        num=1\n",
        "        kernels = []\n",
        "        for theta in range(2):   #Define number of thetas. Here only 2 theta values 0 and 1/4 . pi \n",
        "            theta = theta / 4. * np.pi\n",
        "            for sigma in (1, 3):  #Sigma with values of 1 and 3\n",
        "                lamda =  np.pi /4   #Range of wavelengths\n",
        "                gamma = 0.5   #Gamma values of 0.05 and 0.5\n",
        "                           \n",
        "                gabor_label = 'Gabor' + str(num)  #Label Gabor columns as Gabor1, Gabor2, etc.\n",
        "                #print(gabor_label)\n",
        "                #kernal size\n",
        "                ksize=9\n",
        "                #generate a Gabor kernal with each parameter \n",
        "                kernel = cv2.getGaborKernel((ksize, ksize), sigma, theta, lamda, gamma, 0, ktype=cv2.CV_32F)    \n",
        "                kernels.append(kernel)\n",
        "                #apply kernal to image/filter the image and add values to a new column\n",
        "                #when you get kernal apply it to image2\n",
        "                #the filtered image is 2D \n",
        "                fimg = cv2.filter2D(img, cv2.CV_8UC3, kernel)\n",
        "                #reshape filtered image/fimg to 1D\n",
        "                filtered_img = fimg.reshape(-1)\n",
        "                #add new column to dataframe\n",
        "                df[gabor_label] = filtered_img  #Labels columns as Gabor1, Gabor2, etc.\n",
        "                print(gabor_label, ': theta=', theta, ': sigma=', sigma, ': lamda=', lamda, ': gamma=', gamma)\n",
        "                num += 1  #Increment for gabor column label\n",
        "                \n",
        "\n",
        "        #Other filter responses\n",
        "        # edges = cv2.Canny(img, 100,200) #minimum and max value\n",
        "        # edges1 = edges.reshape(-1)\n",
        "        # df['Canny_Edge'] = edges1\n",
        "\n",
        "        # edge_sobel = sobel(img) #minimum and max value\n",
        "        # edge_sobel1 = sobel.reshape(-1)\n",
        "        # df['Sobel'] = edge_sobel1\n",
        "\n",
        "        image_dataset = image_dataset.append(df)\n",
        "    return image_dataset\n",
        " "
      ],
      "metadata": {
        "id": "T7XphVQaLZtG"
      },
      "execution_count": null,
      "outputs": []
    },
    {
      "cell_type": "code",
      "source": [
        "image_features = feature_extractor(X_train)"
      ],
      "metadata": {
        "id": "bO_BPuB4OWbm",
        "colab": {
          "base_uri": "https://localhost:8080/"
        },
        "outputId": "e0c2e0ab-7bc0-4c91-d5a5-641e75582e3c"
      },
      "execution_count": null,
      "outputs": [
        {
          "output_type": "stream",
          "name": "stdout",
          "text": [
            "Gabor1 : theta= 0.0 : sigma= 1 : lamda= 0.7853981633974483 : gamma= 0.5\n",
            "Gabor2 : theta= 0.0 : sigma= 3 : lamda= 0.7853981633974483 : gamma= 0.5\n",
            "Gabor3 : theta= 0.7853981633974483 : sigma= 1 : lamda= 0.7853981633974483 : gamma= 0.5\n",
            "Gabor4 : theta= 0.7853981633974483 : sigma= 3 : lamda= 0.7853981633974483 : gamma= 0.5\n",
            "Gabor1 : theta= 0.0 : sigma= 1 : lamda= 0.7853981633974483 : gamma= 0.5\n",
            "Gabor2 : theta= 0.0 : sigma= 3 : lamda= 0.7853981633974483 : gamma= 0.5\n",
            "Gabor3 : theta= 0.7853981633974483 : sigma= 1 : lamda= 0.7853981633974483 : gamma= 0.5\n",
            "Gabor4 : theta= 0.7853981633974483 : sigma= 3 : lamda= 0.7853981633974483 : gamma= 0.5\n",
            "Gabor1 : theta= 0.0 : sigma= 1 : lamda= 0.7853981633974483 : gamma= 0.5\n",
            "Gabor2 : theta= 0.0 : sigma= 3 : lamda= 0.7853981633974483 : gamma= 0.5\n",
            "Gabor3 : theta= 0.7853981633974483 : sigma= 1 : lamda= 0.7853981633974483 : gamma= 0.5\n",
            "Gabor4 : theta= 0.7853981633974483 : sigma= 3 : lamda= 0.7853981633974483 : gamma= 0.5\n",
            "Gabor1 : theta= 0.0 : sigma= 1 : lamda= 0.7853981633974483 : gamma= 0.5\n",
            "Gabor2 : theta= 0.0 : sigma= 3 : lamda= 0.7853981633974483 : gamma= 0.5\n",
            "Gabor3 : theta= 0.7853981633974483 : sigma= 1 : lamda= 0.7853981633974483 : gamma= 0.5\n",
            "Gabor4 : theta= 0.7853981633974483 : sigma= 3 : lamda= 0.7853981633974483 : gamma= 0.5\n",
            "Gabor1 : theta= 0.0 : sigma= 1 : lamda= 0.7853981633974483 : gamma= 0.5\n",
            "Gabor2 : theta= 0.0 : sigma= 3 : lamda= 0.7853981633974483 : gamma= 0.5\n",
            "Gabor3 : theta= 0.7853981633974483 : sigma= 1 : lamda= 0.7853981633974483 : gamma= 0.5\n",
            "Gabor4 : theta= 0.7853981633974483 : sigma= 3 : lamda= 0.7853981633974483 : gamma= 0.5\n",
            "Gabor1 : theta= 0.0 : sigma= 1 : lamda= 0.7853981633974483 : gamma= 0.5\n",
            "Gabor2 : theta= 0.0 : sigma= 3 : lamda= 0.7853981633974483 : gamma= 0.5\n",
            "Gabor3 : theta= 0.7853981633974483 : sigma= 1 : lamda= 0.7853981633974483 : gamma= 0.5\n",
            "Gabor4 : theta= 0.7853981633974483 : sigma= 3 : lamda= 0.7853981633974483 : gamma= 0.5\n",
            "Gabor1 : theta= 0.0 : sigma= 1 : lamda= 0.7853981633974483 : gamma= 0.5\n",
            "Gabor2 : theta= 0.0 : sigma= 3 : lamda= 0.7853981633974483 : gamma= 0.5\n",
            "Gabor3 : theta= 0.7853981633974483 : sigma= 1 : lamda= 0.7853981633974483 : gamma= 0.5\n",
            "Gabor4 : theta= 0.7853981633974483 : sigma= 3 : lamda= 0.7853981633974483 : gamma= 0.5\n",
            "Gabor1 : theta= 0.0 : sigma= 1 : lamda= 0.7853981633974483 : gamma= 0.5\n",
            "Gabor2 : theta= 0.0 : sigma= 3 : lamda= 0.7853981633974483 : gamma= 0.5\n",
            "Gabor3 : theta= 0.7853981633974483 : sigma= 1 : lamda= 0.7853981633974483 : gamma= 0.5\n",
            "Gabor4 : theta= 0.7853981633974483 : sigma= 3 : lamda= 0.7853981633974483 : gamma= 0.5\n",
            "Gabor1 : theta= 0.0 : sigma= 1 : lamda= 0.7853981633974483 : gamma= 0.5\n",
            "Gabor2 : theta= 0.0 : sigma= 3 : lamda= 0.7853981633974483 : gamma= 0.5\n",
            "Gabor3 : theta= 0.7853981633974483 : sigma= 1 : lamda= 0.7853981633974483 : gamma= 0.5\n",
            "Gabor4 : theta= 0.7853981633974483 : sigma= 3 : lamda= 0.7853981633974483 : gamma= 0.5\n",
            "Gabor1 : theta= 0.0 : sigma= 1 : lamda= 0.7853981633974483 : gamma= 0.5\n",
            "Gabor2 : theta= 0.0 : sigma= 3 : lamda= 0.7853981633974483 : gamma= 0.5\n",
            "Gabor3 : theta= 0.7853981633974483 : sigma= 1 : lamda= 0.7853981633974483 : gamma= 0.5\n",
            "Gabor4 : theta= 0.7853981633974483 : sigma= 3 : lamda= 0.7853981633974483 : gamma= 0.5\n",
            "Gabor1 : theta= 0.0 : sigma= 1 : lamda= 0.7853981633974483 : gamma= 0.5\n",
            "Gabor2 : theta= 0.0 : sigma= 3 : lamda= 0.7853981633974483 : gamma= 0.5\n",
            "Gabor3 : theta= 0.7853981633974483 : sigma= 1 : lamda= 0.7853981633974483 : gamma= 0.5\n",
            "Gabor4 : theta= 0.7853981633974483 : sigma= 3 : lamda= 0.7853981633974483 : gamma= 0.5\n",
            "Gabor1 : theta= 0.0 : sigma= 1 : lamda= 0.7853981633974483 : gamma= 0.5\n",
            "Gabor2 : theta= 0.0 : sigma= 3 : lamda= 0.7853981633974483 : gamma= 0.5\n",
            "Gabor3 : theta= 0.7853981633974483 : sigma= 1 : lamda= 0.7853981633974483 : gamma= 0.5\n",
            "Gabor4 : theta= 0.7853981633974483 : sigma= 3 : lamda= 0.7853981633974483 : gamma= 0.5\n",
            "Gabor1 : theta= 0.0 : sigma= 1 : lamda= 0.7853981633974483 : gamma= 0.5\n",
            "Gabor2 : theta= 0.0 : sigma= 3 : lamda= 0.7853981633974483 : gamma= 0.5\n",
            "Gabor3 : theta= 0.7853981633974483 : sigma= 1 : lamda= 0.7853981633974483 : gamma= 0.5\n",
            "Gabor4 : theta= 0.7853981633974483 : sigma= 3 : lamda= 0.7853981633974483 : gamma= 0.5\n",
            "Gabor1 : theta= 0.0 : sigma= 1 : lamda= 0.7853981633974483 : gamma= 0.5\n",
            "Gabor2 : theta= 0.0 : sigma= 3 : lamda= 0.7853981633974483 : gamma= 0.5\n",
            "Gabor3 : theta= 0.7853981633974483 : sigma= 1 : lamda= 0.7853981633974483 : gamma= 0.5\n",
            "Gabor4 : theta= 0.7853981633974483 : sigma= 3 : lamda= 0.7853981633974483 : gamma= 0.5\n",
            "Gabor1 : theta= 0.0 : sigma= 1 : lamda= 0.7853981633974483 : gamma= 0.5\n",
            "Gabor2 : theta= 0.0 : sigma= 3 : lamda= 0.7853981633974483 : gamma= 0.5\n",
            "Gabor3 : theta= 0.7853981633974483 : sigma= 1 : lamda= 0.7853981633974483 : gamma= 0.5\n",
            "Gabor4 : theta= 0.7853981633974483 : sigma= 3 : lamda= 0.7853981633974483 : gamma= 0.5\n",
            "Gabor1 : theta= 0.0 : sigma= 1 : lamda= 0.7853981633974483 : gamma= 0.5\n",
            "Gabor2 : theta= 0.0 : sigma= 3 : lamda= 0.7853981633974483 : gamma= 0.5\n",
            "Gabor3 : theta= 0.7853981633974483 : sigma= 1 : lamda= 0.7853981633974483 : gamma= 0.5\n",
            "Gabor4 : theta= 0.7853981633974483 : sigma= 3 : lamda= 0.7853981633974483 : gamma= 0.5\n",
            "Gabor1 : theta= 0.0 : sigma= 1 : lamda= 0.7853981633974483 : gamma= 0.5\n",
            "Gabor2 : theta= 0.0 : sigma= 3 : lamda= 0.7853981633974483 : gamma= 0.5\n",
            "Gabor3 : theta= 0.7853981633974483 : sigma= 1 : lamda= 0.7853981633974483 : gamma= 0.5\n",
            "Gabor4 : theta= 0.7853981633974483 : sigma= 3 : lamda= 0.7853981633974483 : gamma= 0.5\n"
          ]
        }
      ]
    },
    {
      "cell_type": "code",
      "source": [
        "n_features = image_features.shape[1]\n",
        "image_features = np.expand_dims(image_features, axis=0)\n",
        "X_for_RF = np.reshape(image_features, (X_train.shape[0],-1))"
      ],
      "metadata": {
        "id": "WrJnZoRyTK9a"
      },
      "execution_count": null,
      "outputs": []
    },
    {
      "cell_type": "code",
      "source": [
        "from sklearn.ensemble import RandomForestClassifier"
      ],
      "metadata": {
        "id": "1jaTcckMTNI9"
      },
      "execution_count": null,
      "outputs": []
    },
    {
      "cell_type": "code",
      "source": [
        "rf_model = RandomForestClassifier(n_estimators=100, random_state=42)\n",
        "rf_model.fit(X_for_RF, y_train)"
      ],
      "metadata": {
        "id": "FtiVHn71UntD",
        "colab": {
          "base_uri": "https://localhost:8080/"
        },
        "outputId": "12f8cf0d-165c-4040-fab6-bf2d13332a4b"
      },
      "execution_count": null,
      "outputs": [
        {
          "output_type": "execute_result",
          "data": {
            "text/plain": [
              "RandomForestClassifier(random_state=42)"
            ]
          },
          "metadata": {},
          "execution_count": 26
        }
      ]
    },
    {
      "cell_type": "code",
      "source": [
        "test_features = feature_extractor(X_test)\n",
        "test_features = np.expand_dims(test_features, axis=0)\n",
        "test_for_RF = np.reshape(test_features, (X_test.shape[0],-1))"
      ],
      "metadata": {
        "id": "IGpS_W3AWgHt",
        "colab": {
          "base_uri": "https://localhost:8080/"
        },
        "outputId": "748c12d3-5089-407e-ea8e-8f8e936889c8"
      },
      "execution_count": null,
      "outputs": [
        {
          "output_type": "stream",
          "name": "stdout",
          "text": [
            "Gabor1 : theta= 0.0 : sigma= 1 : lamda= 0.7853981633974483 : gamma= 0.5\n",
            "Gabor2 : theta= 0.0 : sigma= 3 : lamda= 0.7853981633974483 : gamma= 0.5\n",
            "Gabor3 : theta= 0.7853981633974483 : sigma= 1 : lamda= 0.7853981633974483 : gamma= 0.5\n",
            "Gabor4 : theta= 0.7853981633974483 : sigma= 3 : lamda= 0.7853981633974483 : gamma= 0.5\n",
            "Gabor1 : theta= 0.0 : sigma= 1 : lamda= 0.7853981633974483 : gamma= 0.5\n",
            "Gabor2 : theta= 0.0 : sigma= 3 : lamda= 0.7853981633974483 : gamma= 0.5\n",
            "Gabor3 : theta= 0.7853981633974483 : sigma= 1 : lamda= 0.7853981633974483 : gamma= 0.5\n",
            "Gabor4 : theta= 0.7853981633974483 : sigma= 3 : lamda= 0.7853981633974483 : gamma= 0.5\n",
            "Gabor1 : theta= 0.0 : sigma= 1 : lamda= 0.7853981633974483 : gamma= 0.5\n",
            "Gabor2 : theta= 0.0 : sigma= 3 : lamda= 0.7853981633974483 : gamma= 0.5\n",
            "Gabor3 : theta= 0.7853981633974483 : sigma= 1 : lamda= 0.7853981633974483 : gamma= 0.5\n",
            "Gabor4 : theta= 0.7853981633974483 : sigma= 3 : lamda= 0.7853981633974483 : gamma= 0.5\n",
            "Gabor1 : theta= 0.0 : sigma= 1 : lamda= 0.7853981633974483 : gamma= 0.5\n",
            "Gabor2 : theta= 0.0 : sigma= 3 : lamda= 0.7853981633974483 : gamma= 0.5\n",
            "Gabor3 : theta= 0.7853981633974483 : sigma= 1 : lamda= 0.7853981633974483 : gamma= 0.5\n",
            "Gabor4 : theta= 0.7853981633974483 : sigma= 3 : lamda= 0.7853981633974483 : gamma= 0.5\n",
            "Gabor1 : theta= 0.0 : sigma= 1 : lamda= 0.7853981633974483 : gamma= 0.5\n",
            "Gabor2 : theta= 0.0 : sigma= 3 : lamda= 0.7853981633974483 : gamma= 0.5\n",
            "Gabor3 : theta= 0.7853981633974483 : sigma= 1 : lamda= 0.7853981633974483 : gamma= 0.5\n",
            "Gabor4 : theta= 0.7853981633974483 : sigma= 3 : lamda= 0.7853981633974483 : gamma= 0.5\n",
            "Gabor1 : theta= 0.0 : sigma= 1 : lamda= 0.7853981633974483 : gamma= 0.5\n",
            "Gabor2 : theta= 0.0 : sigma= 3 : lamda= 0.7853981633974483 : gamma= 0.5\n",
            "Gabor3 : theta= 0.7853981633974483 : sigma= 1 : lamda= 0.7853981633974483 : gamma= 0.5\n",
            "Gabor4 : theta= 0.7853981633974483 : sigma= 3 : lamda= 0.7853981633974483 : gamma= 0.5\n",
            "Gabor1 : theta= 0.0 : sigma= 1 : lamda= 0.7853981633974483 : gamma= 0.5\n",
            "Gabor2 : theta= 0.0 : sigma= 3 : lamda= 0.7853981633974483 : gamma= 0.5\n",
            "Gabor3 : theta= 0.7853981633974483 : sigma= 1 : lamda= 0.7853981633974483 : gamma= 0.5\n",
            "Gabor4 : theta= 0.7853981633974483 : sigma= 3 : lamda= 0.7853981633974483 : gamma= 0.5\n",
            "Gabor1 : theta= 0.0 : sigma= 1 : lamda= 0.7853981633974483 : gamma= 0.5\n",
            "Gabor2 : theta= 0.0 : sigma= 3 : lamda= 0.7853981633974483 : gamma= 0.5\n",
            "Gabor3 : theta= 0.7853981633974483 : sigma= 1 : lamda= 0.7853981633974483 : gamma= 0.5\n",
            "Gabor4 : theta= 0.7853981633974483 : sigma= 3 : lamda= 0.7853981633974483 : gamma= 0.5\n"
          ]
        }
      ]
    },
    {
      "cell_type": "code",
      "source": [
        "test_prediction = rf_model.predict(test_for_RF)\n",
        "test_prediction = le.inverse_transform(test_prediction)"
      ],
      "metadata": {
        "id": "t350RZjDXV8Y"
      },
      "execution_count": null,
      "outputs": []
    },
    {
      "cell_type": "markdown",
      "source": [
        "### Metrics"
      ],
      "metadata": {
        "id": "lQXYTFmC866q"
      }
    },
    {
      "cell_type": "code",
      "source": [
        "from sklearn import metrics"
      ],
      "metadata": {
        "id": "pHh4JvB1Xsm9"
      },
      "execution_count": null,
      "outputs": []
    },
    {
      "cell_type": "code",
      "source": [
        "print('Accuracy:', metrics.accuracy_score(test_labels, test_prediction))"
      ],
      "metadata": {
        "id": "CQqwzlZuXwr_",
        "colab": {
          "base_uri": "https://localhost:8080/"
        },
        "outputId": "16dafbe9-60fc-42da-a342-fa4439418431"
      },
      "execution_count": null,
      "outputs": [
        {
          "output_type": "stream",
          "name": "stdout",
          "text": [
            "Accuracy: 0.75\n"
          ]
        }
      ]
    },
    {
      "cell_type": "code",
      "source": [
        "from sklearn.metrics import confusion_matrix"
      ],
      "metadata": {
        "id": "x6TjIsnQ7qk1"
      },
      "execution_count": null,
      "outputs": []
    },
    {
      "cell_type": "code",
      "source": [
        "cm = confusion_matrix(test_labels, test_prediction)"
      ],
      "metadata": {
        "id": "4JTcWmIx7zRH"
      },
      "execution_count": null,
      "outputs": []
    },
    {
      "cell_type": "code",
      "source": [
        "fig,ax = plt.subplots(figsize=(6,6))\n",
        "sns.set(font_scale=1.6)\n",
        "sns.heatmap(cm, annot=True, ax=ax)"
      ],
      "metadata": {
        "colab": {
          "base_uri": "https://localhost:8080/",
          "height": 398
        },
        "id": "Qlhwuco57-Wo",
        "outputId": "744bbd87-39ee-46a7-c52e-f3813738347f"
      },
      "execution_count": null,
      "outputs": [
        {
          "output_type": "execute_result",
          "data": {
            "text/plain": [
              "<matplotlib.axes._subplots.AxesSubplot at 0x7fa4f7ef45d0>"
            ]
          },
          "metadata": {},
          "execution_count": 33
        },
        {
          "output_type": "display_data",
          "data": {
            "text/plain": [
              "<Figure size 432x432 with 2 Axes>"
            ],
            "image/png": "[encoded data removed]"
          },
          "metadata": {
            "needs_background": "light"
          }
        }
      ]
    },
    {
      "cell_type": "code",
      "source": [
        ""
      ],
      "metadata": {
        "id": "BGh_4mM-8HyG"
      },
      "execution_count": null,
      "outputs": []
    }
  ]
}