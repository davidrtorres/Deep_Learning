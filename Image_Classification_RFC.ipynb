{
  "nbformat": 4,
  "nbformat_minor": 0,
  "metadata": {
    "colab": {
      "name": "Image Classification/RFC.ipynb",
      "provenance": [],
      "collapsed_sections": [],
      "mount_file_id": "1HnMSSNRF20BdcXExbkXBezcSCmNNo47O",
      "authorship_tag": "ABX9TyNb39RK/1SS6GXL5QuRoMdK",
      "include_colab_link": true
    },
    "kernelspec": {
      "name": "python3",
      "display_name": "Python 3"
    },
    "language_info": {
      "name": "python"
    }
  },
  "cells": [
    {
      "cell_type": "markdown",
      "metadata": {
        "id": "view-in-github",
        "colab_type": "text"
      },
      "source": [
        "<a href=\"https://colab.research.google.com/github/davidrtorres/Deep_Learning/blob/main/Image_Classification_RFC.ipynb\" target=\"_parent\"><img src=\"https://colab.research.google.com/assets/colab-badge.svg\" alt=\"Open In Colab\"/></a>"
      ]
    },
    {
      "cell_type": "markdown",
      "source": [
        "### Using Machine Learning for Image Classification in Python\n",
        "In this notebook I'm going to build a Machine Learning model for image classification.  This is a binary classification problem.  What is the difference between image segmentation and image classification?  By segmentation I am referring to semantic segmentation.  Image segmentation refers to every pixel classification.  Image classification refers to the entire picture classified as something, i.e. is this an image of an infected or non-infected cell.  Here we're not dealing with pixel level information.  We're dealing with whole image level information, i.e., is this an airplane or a car.  The entire image is classifed into one or the categories.  \n",
        "\n",
        "I followed the Youtube Series https://www.youtube.com/watch?v=nK-2k_ENgEc&list=PLHae9ggVvqPgyRQQOtENr6hK0m1UquGaG&index=85 in prepaing this notebook."
      ],
      "metadata": {
        "id": "n6rl3BBIullY"
      }
    },
    {
      "cell_type": "code",
      "source": [
        "import matplotlib.pyplot as plt\n",
        "%matplotlib inline\n",
        "import pandas as pd\n",
        "import numpy as np\n",
        "import seaborn as sns\n",
        "import glob\n",
        "import cv2\n",
        "import os"
      ],
      "metadata": {
        "id": "N_1Tsq18BRRM"
      },
      "execution_count": 1,
      "outputs": []
    },
    {
      "cell_type": "markdown",
      "source": [
        "### Put Image Folders into Train, Validation and Test Sets\n",
        "The image folder consists of 2 subfolders for airplanes and cars.  The task for this section was how to take the subfolders and split then into train, validation and test sets.  I need train and validation sets so that labels can be created. "
      ],
      "metadata": {
        "id": "a4k4_-3RmLPD"
      }
    },
    {
      "cell_type": "code",
      "source": [
        "!pip install split-folders "
      ],
      "metadata": {
        "colab": {
          "base_uri": "https://localhost:8080/"
        },
        "id": "pUAFHEHZ1cpc",
        "outputId": "364ba597-02bb-4ee9-ec74-325997d6baa7"
      },
      "execution_count": 2,
      "outputs": [
        {
          "output_type": "stream",
          "name": "stdout",
          "text": [
            "Looking in indexes: https://pypi.org/simple, https://us-python.pkg.dev/colab-wheels/public/simple/\n",
            "Requirement already satisfied: split-folders in /usr/local/lib/python3.7/dist-packages (0.5.1)\n"
          ]
        }
      ]
    },
    {
      "cell_type": "code",
      "source": [
        "import splitfolders"
      ],
      "metadata": {
        "id": "K_jUjmB61Vqs"
      },
      "execution_count": 3,
      "outputs": []
    },
    {
      "cell_type": "markdown",
      "source": [
        "The train set is used to train the model and to update the weights.  The validation data is used as part of the training but only to validate after each iteration.  Test data is never used as part of the training process.\n",
        "\n",
        "https://www.youtube.com/watch?v=C6wbr1jJvVs"
      ],
      "metadata": {
        "id": "nny_oyGx-BOp"
      }
    },
    {
      "cell_type": "code",
      "execution_count": 4,
      "metadata": {
        "id": "UfE-BatDt-ff"
      },
      "outputs": [],
      "source": [
        "# input_folder = '/content/drive/MyDrive/datasets/air_car3/'\n",
        "# # #testing, (20)validation, (test)testing\n",
        "# splitfolders.ratio(input_folder, output='/content/drive/MyDrive/datasets/air_car3_folder/',seed=42, ratio=(.7,.3,.0),group_prefix=None) #ratio=(.7,.2,.1)"
      ]
    },
    {
      "cell_type": "code",
      "source": [
        "print(os.listdir('/content/drive/MyDrive/datasets/air_car2_folder/'))"
      ],
      "metadata": {
        "colab": {
          "base_uri": "https://localhost:8080/"
        },
        "id": "IVLlSnd7EmYK",
        "outputId": "db6f6c4c-bc66-4991-dfbf-c1481502cde1"
      },
      "execution_count": 5,
      "outputs": [
        {
          "output_type": "stream",
          "name": "stdout",
          "text": [
            "['train', 'val', 'test']\n"
          ]
        }
      ]
    },
    {
      "cell_type": "code",
      "source": [
        "# file = '/content/drive/MyDrive/datasets/cell_images_folder/train/'\n",
        "# for f in glob.glob(file + \"/*.JPG\"):\n",
        "#   print(f)"
      ],
      "metadata": {
        "id": "8u2arJqodWq2"
      },
      "execution_count": 6,
      "outputs": []
    },
    {
      "cell_type": "markdown",
      "source": [
        "### Read the Images\n",
        "The for loop iterates through every image in the train folder.  I ran the for loop on the train folder and the directory shows that there are 2 subfolders (airplane and car) in the train folder.  With the function .split() I created a label for each image based on the folder it's in. \n",
        "When you load the images they usually come in different sizes so I resized the images so they're all one size for processing purposes.  "
      ],
      "metadata": {
        "id": "x_kVbBsHyKNs"
      }
    },
    {
      "cell_type": "code",
      "source": [
        "SIZE = 128\n",
        "train_images = []\n",
        "train_labels=[]\n",
        "\n",
        "for directory_path in glob.glob(\"/content/drive/MyDrive/datasets/air_car3_folder/train/*\"):#\"/content/drive/MyDrive/datasets/air_car2_folder/train/*\"\n",
        "  #create label\n",
        "  label = directory_path.split(\"/\")[-1]\n",
        "  print(label)\n",
        "  #print(directory_path)\n",
        "  for img_path in glob.glob(os.path.join(directory_path, \"*.jpg\")):\n",
        "    #print(img_path)\n",
        "    #read image as color meaning 3 channels\n",
        "    img = cv2.imread(img_path, cv2.IMREAD_COLOR)\n",
        "    #resize images\n",
        "    img = cv2.resize(img, (SIZE,SIZE))\n",
        "    #append images\n",
        "    train_images.append(img)\n",
        "    train_labels.append(label)\n",
        "#convert list to numpy array\n",
        "train_images = np.array(train_images)\n",
        "train_labels  = np.array(train_labels)"
      ],
      "metadata": {
        "colab": {
          "base_uri": "https://localhost:8080/"
        },
        "id": "soxrx2irf77r",
        "outputId": "c65da2f7-6ee1-467b-97c0-1e5198d80cb1"
      },
      "execution_count": 7,
      "outputs": [
        {
          "output_type": "stream",
          "name": "stdout",
          "text": [
            "car\n",
            "airplane\n"
          ]
        }
      ]
    },
    {
      "cell_type": "code",
      "source": [
        "from google.colab.patches import cv2_imshow"
      ],
      "metadata": {
        "id": "2Dk9g_QUO5We"
      },
      "execution_count": 8,
      "outputs": []
    },
    {
      "cell_type": "code",
      "source": [
        "img = cv2.resize(train_images[3], (300,300))\n",
        "#plt.title('Image of Car')\n",
        "cv2_imshow(img)"
      ],
      "metadata": {
        "colab": {
          "base_uri": "https://localhost:8080/",
          "height": 317
        },
        "id": "lLlN31IOOJHM",
        "outputId": "5946b2e4-d55e-4457-d265-774ace6608cc"
      },
      "execution_count": 9,
      "outputs": [
        {
          "output_type": "display_data",
          "data": {
            "text/plain": [
              "<PIL.Image.Image image mode=RGB size=300x300 at 0x7F6F7C080A50>"
            ],
            "image/png": "[encoded data removed]"
          },
          "metadata": {}
        }
      ]
    },
    {
      "cell_type": "code",
      "source": [
        "train_images"
      ],
      "metadata": {
        "colab": {
          "base_uri": "https://localhost:8080/"
        },
        "id": "hVbfK4iEgoq3",
        "outputId": "2f28b4c3-ca9a-4c35-a0ec-867ebf9193bd"
      },
      "execution_count": 10,
      "outputs": [
        {
          "output_type": "execute_result",
          "data": {
            "text/plain": [
              "array([[[[228, 226, 226],\n",
              "         [228, 226, 226],\n",
              "         [228, 226, 226],\n",
              "         ...,\n",
              "         [232, 229, 230],\n",
              "         [218, 215, 217],\n",
              "         [197, 194, 196]],\n",
              "\n",
              "        [[228, 226, 226],\n",
              "         [228, 226, 226],\n",
              "         [228, 226, 226],\n",
              "         ...,\n",
              "         [229, 226, 228],\n",
              "         [218, 215, 217],\n",
              "         [204, 201, 203]],\n",
              "\n",
              "        [[228, 226, 226],\n",
              "         [228, 226, 226],\n",
              "         [228, 226, 226],\n",
              "         ...,\n",
              "         [228, 225, 227],\n",
              "         [218, 215, 217],\n",
              "         [207, 204, 206]],\n",
              "\n",
              "        ...,\n",
              "\n",
              "        [[ 99, 106, 126],\n",
              "         [104, 111, 131],\n",
              "         [104, 112, 132],\n",
              "         ...,\n",
              "         [119, 129, 147],\n",
              "         [116, 126, 144],\n",
              "         [110, 120, 138]],\n",
              "\n",
              "        [[102, 109, 129],\n",
              "         [104, 110, 130],\n",
              "         [103, 111, 131],\n",
              "         ...,\n",
              "         [121, 131, 149],\n",
              "         [121, 131, 149],\n",
              "         [112, 122, 140]],\n",
              "\n",
              "        [[109, 116, 136],\n",
              "         [106, 113, 133],\n",
              "         [104, 112, 132],\n",
              "         ...,\n",
              "         [120, 129, 148],\n",
              "         [121, 131, 149],\n",
              "         [112, 122, 140]]],\n",
              "\n",
              "\n",
              "       [[[ 28,  28,  28],\n",
              "         [ 28,  28,  28],\n",
              "         [ 28,  28,  28],\n",
              "         ...,\n",
              "         [ 29,  29,  29],\n",
              "         [ 29,  29,  29],\n",
              "         [ 29,  29,  29]],\n",
              "\n",
              "        [[ 28,  28,  28],\n",
              "         [ 28,  28,  28],\n",
              "         [ 28,  28,  28],\n",
              "         ...,\n",
              "         [ 30,  30,  30],\n",
              "         [ 30,  30,  30],\n",
              "         [ 30,  30,  30]],\n",
              "\n",
              "        [[ 29,  29,  29],\n",
              "         [ 29,  29,  29],\n",
              "         [ 29,  29,  29],\n",
              "         ...,\n",
              "         [ 30,  30,  30],\n",
              "         [ 30,  30,  30],\n",
              "         [ 30,  30,  30]],\n",
              "\n",
              "        ...,\n",
              "\n",
              "        [[ 91,  91,  91],\n",
              "         [ 92,  92,  92],\n",
              "         [ 92,  92,  92],\n",
              "         ...,\n",
              "         [ 91,  91,  91],\n",
              "         [ 92,  92,  92],\n",
              "         [ 92,  92,  92]],\n",
              "\n",
              "        [[ 92,  92,  92],\n",
              "         [ 93,  93,  93],\n",
              "         [ 93,  93,  93],\n",
              "         ...,\n",
              "         [ 93,  93,  93],\n",
              "         [ 93,  93,  93],\n",
              "         [ 94,  94,  94]],\n",
              "\n",
              "        [[ 93,  93,  93],\n",
              "         [ 93,  93,  93],\n",
              "         [ 94,  94,  94],\n",
              "         ...,\n",
              "         [ 93,  93,  93],\n",
              "         [ 93,  93,  93],\n",
              "         [ 94,  94,  94]]],\n",
              "\n",
              "\n",
              "       [[[105, 111, 118],\n",
              "         [106, 112, 119],\n",
              "         [106, 113, 121],\n",
              "         ...,\n",
              "         [161, 175, 187],\n",
              "         [161, 175, 187],\n",
              "         [160, 174, 186]],\n",
              "\n",
              "        [[121, 128, 136],\n",
              "         [123, 130, 138],\n",
              "         [125, 132, 141],\n",
              "         ...,\n",
              "         [161, 174, 187],\n",
              "         [160, 173, 186],\n",
              "         [159, 173, 185]],\n",
              "\n",
              "        [[133, 141, 150],\n",
              "         [135, 143, 153],\n",
              "         [137, 144, 156],\n",
              "         ...,\n",
              "         [161, 173, 188],\n",
              "         [161, 172, 187],\n",
              "         [160, 172, 185]],\n",
              "\n",
              "        ...,\n",
              "\n",
              "        [[ 83,  85,  95],\n",
              "         [ 83,  85,  95],\n",
              "         [ 84,  86,  96],\n",
              "         ...,\n",
              "         [ 96,  94, 104],\n",
              "         [ 96,  94, 105],\n",
              "         [ 96,  95, 105]],\n",
              "\n",
              "        [[ 82,  84,  94],\n",
              "         [ 83,  85,  95],\n",
              "         [ 84,  86,  96],\n",
              "         ...,\n",
              "         [ 96,  95, 105],\n",
              "         [ 96,  95, 105],\n",
              "         [ 96,  95, 105]],\n",
              "\n",
              "        [[ 81,  83,  93],\n",
              "         [ 84,  86,  95],\n",
              "         [ 86,  88,  98],\n",
              "         ...,\n",
              "         [ 96,  95, 105],\n",
              "         [ 96,  95, 105],\n",
              "         [ 97,  96, 106]]],\n",
              "\n",
              "\n",
              "       ...,\n",
              "\n",
              "\n",
              "       [[[190, 186, 158],\n",
              "         [195, 187, 164],\n",
              "         [195, 185, 168],\n",
              "         ...,\n",
              "         [239, 231, 214],\n",
              "         [240, 232, 215],\n",
              "         [242, 234, 217]],\n",
              "\n",
              "        [[192, 188, 162],\n",
              "         [193, 184, 164],\n",
              "         [197, 187, 171],\n",
              "         ...,\n",
              "         [239, 231, 214],\n",
              "         [240, 232, 215],\n",
              "         [241, 233, 216]],\n",
              "\n",
              "        [[190, 182, 159],\n",
              "         [208, 198, 180],\n",
              "         [193, 182, 170],\n",
              "         ...,\n",
              "         [239, 231, 214],\n",
              "         [239, 231, 214],\n",
              "         [240, 232, 215]],\n",
              "\n",
              "        ...,\n",
              "\n",
              "        [[  5,  32,  37],\n",
              "         [  6,  33,  39],\n",
              "         [  6,  35,  41],\n",
              "         ...,\n",
              "         [ 42, 128, 135],\n",
              "         [ 39, 125, 133],\n",
              "         [ 39, 124, 131]],\n",
              "\n",
              "        [[ 23,  49,  55],\n",
              "         [ 28,  54,  60],\n",
              "         [ 29,  57,  65],\n",
              "         ...,\n",
              "         [ 54, 122, 132],\n",
              "         [ 52, 120, 131],\n",
              "         [ 51, 118, 129]],\n",
              "\n",
              "        [[ 48,  74,  81],\n",
              "         [ 52,  78,  85],\n",
              "         [ 52,  79,  89],\n",
              "         ...,\n",
              "         [ 68, 113, 127],\n",
              "         [ 67, 112, 126],\n",
              "         [ 67, 111, 126]]],\n",
              "\n",
              "\n",
              "       [[[225, 250, 254],\n",
              "         [229, 249, 254],\n",
              "         [229, 248, 255],\n",
              "         ...,\n",
              "         [163, 195, 208],\n",
              "         [162, 194, 207],\n",
              "         [161, 194, 207]],\n",
              "\n",
              "        [[225, 250, 254],\n",
              "         [229, 249, 254],\n",
              "         [229, 248, 255],\n",
              "         ...,\n",
              "         [164, 196, 209],\n",
              "         [162, 194, 207],\n",
              "         [161, 194, 207]],\n",
              "\n",
              "        [[225, 250, 255],\n",
              "         [229, 249, 254],\n",
              "         [229, 248, 255],\n",
              "         ...,\n",
              "         [165, 196, 209],\n",
              "         [162, 195, 208],\n",
              "         [162, 194, 207]],\n",
              "\n",
              "        ...,\n",
              "\n",
              "        [[230, 249, 254],\n",
              "         [230, 249, 254],\n",
              "         [229, 249, 254],\n",
              "         ...,\n",
              "         [159, 188, 197],\n",
              "         [159, 188, 197],\n",
              "         [159, 188, 197]],\n",
              "\n",
              "        [[230, 249, 254],\n",
              "         [231, 249, 255],\n",
              "         [230, 249, 254],\n",
              "         ...,\n",
              "         [159, 189, 197],\n",
              "         [160, 189, 198],\n",
              "         [159, 189, 198]],\n",
              "\n",
              "        [[230, 248, 254],\n",
              "         [231, 249, 255],\n",
              "         [230, 248, 255],\n",
              "         ...,\n",
              "         [160, 191, 200],\n",
              "         [159, 190, 199],\n",
              "         [159, 190, 198]]],\n",
              "\n",
              "\n",
              "       [[[172, 185, 177],\n",
              "         [168, 174, 169],\n",
              "         [176, 177, 175],\n",
              "         ...,\n",
              "         [168, 172, 150],\n",
              "         [170, 175, 154],\n",
              "         [169, 174, 153]],\n",
              "\n",
              "        [[157, 170, 162],\n",
              "         [159, 166, 161],\n",
              "         [171, 174, 171],\n",
              "         ...,\n",
              "         [170, 173, 151],\n",
              "         [171, 175, 153],\n",
              "         [170, 174, 152]],\n",
              "\n",
              "        [[138, 151, 143],\n",
              "         [153, 161, 156],\n",
              "         [167, 171, 169],\n",
              "         ...,\n",
              "         [172, 175, 152],\n",
              "         [171, 174, 151],\n",
              "         [170, 174, 151]],\n",
              "\n",
              "        ...,\n",
              "\n",
              "        [[  4,   9,  20],\n",
              "         [ 15,  20,  27],\n",
              "         [ 65,  75,  77],\n",
              "         ...,\n",
              "         [  5,  34,  37],\n",
              "         [ 12,  44,  46],\n",
              "         [ 30,  62,  65]],\n",
              "\n",
              "        [[  6,  12,  23],\n",
              "         [ 17,  23,  30],\n",
              "         [ 64,  74,  77],\n",
              "         ...,\n",
              "         [ 27,  57,  61],\n",
              "         [ 32,  63,  66],\n",
              "         [ 55,  85,  89]],\n",
              "\n",
              "        [[  8,  15,  26],\n",
              "         [ 20,  26,  33],\n",
              "         [ 64,  74,  78],\n",
              "         ...,\n",
              "         [ 57,  86,  90],\n",
              "         [ 55,  86,  89],\n",
              "         [ 75, 104, 108]]]], dtype=uint8)"
            ]
          },
          "metadata": {},
          "execution_count": 10
        }
      ]
    },
    {
      "cell_type": "code",
      "source": [
        "train_labels"
      ],
      "metadata": {
        "colab": {
          "base_uri": "https://localhost:8080/"
        },
        "id": "Xpbs-qe_1Koj",
        "outputId": "4579d05d-51b9-4816-fd25-fabeafe61d84"
      },
      "execution_count": 11,
      "outputs": [
        {
          "output_type": "execute_result",
          "data": {
            "text/plain": [
              "array(['car', 'car', 'car', 'car', 'car', 'car', 'car', 'car', 'car',\n",
              "       'car', 'car', 'car', 'car', 'car', 'airplane', 'airplane',\n",
              "       'airplane', 'airplane', 'airplane', 'airplane', 'airplane',\n",
              "       'airplane', 'airplane', 'airplane', 'airplane', 'airplane',\n",
              "       'airplane', 'airplane'], dtype='<U8')"
            ]
          },
          "metadata": {},
          "execution_count": 11
        }
      ]
    },
    {
      "cell_type": "code",
      "source": [
        "print(train_images.shape)\n",
        "print(train_labels.shape)"
      ],
      "metadata": {
        "colab": {
          "base_uri": "https://localhost:8080/"
        },
        "id": "cuQc-sZwAlKM",
        "outputId": "14d3c1f3-cbd5-4a33-ab23-4cda4f2f8fd7"
      },
      "execution_count": 12,
      "outputs": [
        {
          "output_type": "stream",
          "name": "stdout",
          "text": [
            "(28, 128, 128, 3)\n",
            "(28,)\n"
          ]
        }
      ]
    },
    {
      "cell_type": "code",
      "source": [
        "test_images = []\n",
        "test_labels=[]\n",
        "\n",
        "for directory_path in glob.glob(\"/content/drive/MyDrive/datasets/air_car3_folder/val/*\"):#/content/drive/MyDrive/datasets/air_car2_folder/val/*\n",
        "  flower_label = directory_path.split(\"/\")[-1]\n",
        "  print(flower_label)\n",
        "  #print(directory_path)\n",
        "  for img_path in glob.glob(os.path.join(directory_path, \"*.jpg\")):\n",
        "    #print(img_path)\n",
        "    img = cv2.imread(img_path, cv2.IMREAD_COLOR)\n",
        "    img = cv2.resize(img, (SIZE,SIZE))\n",
        "\n",
        "    test_images.append(img)\n",
        "    test_labels.append(flower_label)\n",
        "\n",
        "test_images = np.array(test_images)\n",
        "test_labels  = np.array(test_labels)"
      ],
      "metadata": {
        "colab": {
          "base_uri": "https://localhost:8080/"
        },
        "id": "yXyf8i87AlCf",
        "outputId": "a00074c9-c9b5-4e7f-aff2-c1de6ea3031f"
      },
      "execution_count": 13,
      "outputs": [
        {
          "output_type": "stream",
          "name": "stdout",
          "text": [
            "car\n",
            "airplane\n"
          ]
        }
      ]
    },
    {
      "cell_type": "code",
      "source": [
        "print(test_images.shape)\n",
        "print(test_labels.shape)"
      ],
      "metadata": {
        "colab": {
          "base_uri": "https://localhost:8080/"
        },
        "id": "IdlxFq_mAk4P",
        "outputId": "4d6ba0f2-d2f7-4d24-b5d7-993a892e47a3"
      },
      "execution_count": 14,
      "outputs": [
        {
          "output_type": "stream",
          "name": "stdout",
          "text": [
            "(12, 128, 128, 3)\n",
            "(12,)\n"
          ]
        }
      ]
    },
    {
      "cell_type": "code",
      "source": [
        "test_labels"
      ],
      "metadata": {
        "colab": {
          "base_uri": "https://localhost:8080/"
        },
        "id": "vDAgOocUGgIe",
        "outputId": "64bb69ae-6eff-4b22-c0f6-217eb1285da7"
      },
      "execution_count": 15,
      "outputs": [
        {
          "output_type": "execute_result",
          "data": {
            "text/plain": [
              "array(['car', 'car', 'car', 'car', 'car', 'car', 'airplane', 'airplane',\n",
              "       'airplane', 'airplane', 'airplane', 'airplane'], dtype='<U8')"
            ]
          },
          "metadata": {},
          "execution_count": 15
        }
      ]
    },
    {
      "cell_type": "markdown",
      "source": [
        "### Preprocessing\n",
        "The label has the categories airplane and car which are objects and need to be converted to the numeric types 0 and 1.  For this task I used the label encoder. "
      ],
      "metadata": {
        "id": "s3P5MxuO1hqb"
      }
    },
    {
      "cell_type": "code",
      "source": [
        "from sklearn import preprocessing"
      ],
      "metadata": {
        "id": "DiakTZskITxu"
      },
      "execution_count": 16,
      "outputs": []
    },
    {
      "cell_type": "code",
      "source": [
        "le = preprocessing.LabelEncoder()\n",
        "le.fit(test_labels)\n",
        "test_labels_encoded = le.transform(test_labels)\n",
        "le.fit(train_labels)\n",
        "train_labels_encoded = le.transform(train_labels)"
      ],
      "metadata": {
        "id": "kEm_lC97Ican"
      },
      "execution_count": 17,
      "outputs": []
    },
    {
      "cell_type": "code",
      "source": [
        "train_labels_encoded"
      ],
      "metadata": {
        "colab": {
          "base_uri": "https://localhost:8080/"
        },
        "id": "BZR6-1cYJOcL",
        "outputId": "c13fc6c0-1174-467d-8177-a66fefbfcab2"
      },
      "execution_count": 18,
      "outputs": [
        {
          "output_type": "execute_result",
          "data": {
            "text/plain": [
              "array([1, 1, 1, 1, 1, 1, 1, 1, 1, 1, 1, 1, 1, 1, 0, 0, 0, 0, 0, 0, 0, 0,\n",
              "       0, 0, 0, 0, 0, 0])"
            ]
          },
          "metadata": {},
          "execution_count": 18
        }
      ]
    },
    {
      "cell_type": "markdown",
      "source": [
        "### Split the Data"
      ],
      "metadata": {
        "id": "L7uX92YIJWQ-"
      }
    },
    {
      "cell_type": "code",
      "source": [
        "from sklearn.model_selection import train_test_split"
      ],
      "metadata": {
        "id": "6R_BkK6GJQcm"
      },
      "execution_count": 19,
      "outputs": []
    },
    {
      "cell_type": "code",
      "source": [
        "X_train, y_train, X_test,y_test = train_images, train_labels_encoded, test_images, test_labels_encoded"
      ],
      "metadata": {
        "id": "x3kDx7wUJlLG"
      },
      "execution_count": 20,
      "outputs": []
    },
    {
      "cell_type": "markdown",
      "source": [
        "### Normal the Data\n",
        "I normalized the data so all the values would be between 0 and 1."
      ],
      "metadata": {
        "id": "hd1ce31yUFpw"
      }
    },
    {
      "cell_type": "code",
      "source": [
        "X_train, X_test = X_train / 255.0, X_test/255.0"
      ],
      "metadata": {
        "id": "V9HXkBNQ2JvM"
      },
      "execution_count": 21,
      "outputs": []
    },
    {
      "cell_type": "code",
      "source": [
        "print(X_train.shape)\n",
        "print(y_train.shape)\n",
        "print(X_test.shape)\n",
        "print(y_test.shape)"
      ],
      "metadata": {
        "colab": {
          "base_uri": "https://localhost:8080/"
        },
        "id": "j4qLPfdhLMDX",
        "outputId": "1c07b91a-146b-48e8-877e-da63481e25f1"
      },
      "execution_count": 22,
      "outputs": [
        {
          "output_type": "stream",
          "name": "stdout",
          "text": [
            "(28, 128, 128, 3)\n",
            "(28,)\n",
            "(12, 128, 128, 3)\n",
            "(12,)\n"
          ]
        }
      ]
    },
    {
      "cell_type": "markdown",
      "source": [
        "### Feature Extraction\n",
        "I'm using Gabor filters for feature extraction.  The function feature_extraction enables me to go through each image and apply filter and operations.  First, I added the pixels values of the images into a dataframe.  \n",
        "Next, I used Gabor filters to extract features. The Gabor filter function generates a kernel. The kernel is then applied to each image and responses/features are generated and extracted from the image.  The responses are then added to the dataframe df which contains the pixel values. We will extract features from the images by applying filters to them.  The dataframe will then be used as input for the machine learning algorithm for training purposes.<br>\n"
      ],
      "metadata": {
        "id": "KqtTeKQal5lQ"
      }
    },
    {
      "cell_type": "code",
      "source": [
        "from skimage.filters import roberts,sobel, scharr, prewitt"
      ],
      "metadata": {
        "id": "vARwtdFPM0Vb"
      },
      "execution_count": 23,
      "outputs": []
    },
    {
      "cell_type": "code",
      "source": [
        "def feature_extractor(dataset):\n",
        "    X_train = dataset\n",
        "    image_dataset = pd.DataFrame()\n",
        "    for image in range(X_train.shape[0]):\n",
        "\n",
        "        df = pd.DataFrame()\n",
        "\n",
        "        input_img = X_train[image,:,:,:]\n",
        "        img = input_img\n",
        "\n",
        "        pixel_values = img.reshape(-1)\n",
        "        df['Pixel_Value'] = pixel_values\n",
        "        #Generate Gabor filters\n",
        "        num=1\n",
        "        kernels = []\n",
        "        for theta in range(2):   #Define number of thetas. Here only 2 theta values 0 and 1/4 . pi \n",
        "            theta = theta / 4. * np.pi\n",
        "            for sigma in (1, 3):  #Sigma with values of 1 and 3\n",
        "                lamda =  np.pi /4   #Range of wavelengths\n",
        "                gamma = 0.5   #Gamma values of 0.05 and 0.5\n",
        "                           \n",
        "                gabor_label = 'Gabor' + str(num)  #Label Gabor columns as Gabor1, Gabor2, etc.\n",
        "                #print(gabor_label)\n",
        "                #kernal size\n",
        "                ksize=9\n",
        "                #generate a Gabor kernal with each parameter \n",
        "                kernel = cv2.getGaborKernel((ksize, ksize), sigma, theta, lamda, gamma, 0, ktype=cv2.CV_32F)    \n",
        "                kernels.append(kernel)\n",
        "                #apply kernal to image/filter the image and add values to a new column\n",
        "                #when you get kernal apply it to image2\n",
        "                #the filtered image is 2D \n",
        "                fimg = cv2.filter2D(img, cv2.CV_8UC3, kernel)\n",
        "                #reshape filtered image/fimg to 1D\n",
        "                filtered_img = fimg.reshape(-1)\n",
        "                #add new column to dataframe\n",
        "                df[gabor_label] = filtered_img  #Labels columns as Gabor1, Gabor2, etc.\n",
        "                #print(gabor_label, ': theta=', theta, ': sigma=', sigma, ': lamda=', lamda, ': gamma=', gamma)\n",
        "                \n",
        "                num += 1  #Increment for gabor column label\n",
        "                \n",
        "\n",
        "        image_dataset = image_dataset.append(df)\n",
        "    return image_dataset\n",
        " "
      ],
      "metadata": {
        "id": "T7XphVQaLZtG"
      },
      "execution_count": 24,
      "outputs": []
    },
    {
      "cell_type": "markdown",
      "source": [
        "With this function I'm going to extract images from the training set."
      ],
      "metadata": {
        "id": "XMjdo7yvaS6L"
      }
    },
    {
      "cell_type": "code",
      "source": [
        "image_features = feature_extractor(X_train)"
      ],
      "metadata": {
        "id": "bO_BPuB4OWbm"
      },
      "execution_count": 25,
      "outputs": []
    },
    {
      "cell_type": "markdown",
      "source": [
        "The image_features dataframe consists of 1,376,256 rows/pixel values and 5 columns."
      ],
      "metadata": {
        "id": "WkuJIEagamMP"
      }
    },
    {
      "cell_type": "code",
      "source": [
        "image_features.shape"
      ],
      "metadata": {
        "colab": {
          "base_uri": "https://localhost:8080/"
        },
        "id": "SHm5qhbpahKC",
        "outputId": "94084c79-1970-48b0-dc74-e01a8464d997"
      },
      "execution_count": 26,
      "outputs": [
        {
          "output_type": "execute_result",
          "data": {
            "text/plain": [
              "(1376256, 5)"
            ]
          },
          "metadata": {},
          "execution_count": 26
        }
      ]
    },
    {
      "cell_type": "code",
      "source": [
        "n_features = image_features.shape[1]\n",
        "image_features = np.expand_dims(image_features, axis=0)\n",
        "X_for_RF = np.reshape(image_features, (X_train.shape[0],-1))"
      ],
      "metadata": {
        "id": "WrJnZoRyTK9a"
      },
      "execution_count": 27,
      "outputs": []
    },
    {
      "cell_type": "code",
      "source": [
        "from sklearn.ensemble import RandomForestClassifier"
      ],
      "metadata": {
        "id": "1jaTcckMTNI9"
      },
      "execution_count": 28,
      "outputs": []
    },
    {
      "cell_type": "markdown",
      "source": [
        "## Models\n",
        "### Random Forest Classifier"
      ],
      "metadata": {
        "id": "domXMNlHUac_"
      }
    },
    {
      "cell_type": "code",
      "source": [
        "rf_model = RandomForestClassifier(n_estimators=100, random_state=42)\n",
        "rf_model.fit(X_for_RF, y_train)"
      ],
      "metadata": {
        "id": "FtiVHn71UntD",
        "colab": {
          "base_uri": "https://localhost:8080/"
        },
        "outputId": "6a6d789c-41ab-4898-b186-4a90dbcfb8f3"
      },
      "execution_count": 29,
      "outputs": [
        {
          "output_type": "execute_result",
          "data": {
            "text/plain": [
              "RandomForestClassifier(random_state=42)"
            ]
          },
          "metadata": {},
          "execution_count": 29
        }
      ]
    },
    {
      "cell_type": "code",
      "source": [
        "#train prediction\n",
        "train_features = feature_extractor(X_train)\n",
        "train_features = np.expand_dims(train_features, axis=0)\n",
        "train_for_RF = np.reshape(train_features, (X_train.shape[0],-1))"
      ],
      "metadata": {
        "id": "PIIKN3qUFeiI"
      },
      "execution_count": 30,
      "outputs": []
    },
    {
      "cell_type": "code",
      "source": [
        "#mine prediction\n",
        "train_prediction = rf_model.predict(train_for_RF)\n",
        "train_prediction = le.inverse_transform(train_prediction)"
      ],
      "metadata": {
        "id": "YzpFM6XJFtJ5"
      },
      "execution_count": 31,
      "outputs": []
    },
    {
      "cell_type": "code",
      "source": [
        "test_features = feature_extractor(X_test)\n",
        "test_features = np.expand_dims(test_features, axis=0)\n",
        "test_for_RF = np.reshape(test_features, (X_test.shape[0],-1))"
      ],
      "metadata": {
        "id": "IGpS_W3AWgHt"
      },
      "execution_count": 32,
      "outputs": []
    },
    {
      "cell_type": "code",
      "source": [
        "test_prediction = rf_model.predict(test_for_RF)\n",
        "test_prediction = le.inverse_transform(test_prediction)"
      ],
      "metadata": {
        "id": "t350RZjDXV8Y"
      },
      "execution_count": 33,
      "outputs": []
    },
    {
      "cell_type": "markdown",
      "source": [
        "### Metrics"
      ],
      "metadata": {
        "id": "lQXYTFmC866q"
      }
    },
    {
      "cell_type": "code",
      "source": [
        "from sklearn import metrics"
      ],
      "metadata": {
        "id": "pHh4JvB1Xsm9"
      },
      "execution_count": 34,
      "outputs": []
    },
    {
      "cell_type": "code",
      "source": [
        "acc = metrics.accuracy_score(train_labels, train_prediction)\n",
        "test_acc = metrics.accuracy_score(test_labels, test_prediction)\n",
        "print('Accuracy for rf_model')\n",
        "print('Train Accuracy: {:.3f}'.format(acc))\n",
        "print('Test Accuracy: {:.3f}'.format(test_acc))"
      ],
      "metadata": {
        "id": "CQqwzlZuXwr_",
        "colab": {
          "base_uri": "https://localhost:8080/"
        },
        "outputId": "2ae1c96d-ed92-49c1-b93f-65e18655f935"
      },
      "execution_count": 35,
      "outputs": [
        {
          "output_type": "stream",
          "name": "stdout",
          "text": [
            "Accuracy for rf_model\n",
            "Train Accuracy: 1.000\n",
            "Test Accuracy: 0.917\n"
          ]
        }
      ]
    },
    {
      "cell_type": "markdown",
      "source": [
        "#### Confusion Matrix"
      ],
      "metadata": {
        "id": "QXMsElUpHKuc"
      }
    },
    {
      "cell_type": "code",
      "source": [
        "from sklearn.metrics import confusion_matrix"
      ],
      "metadata": {
        "id": "x6TjIsnQ7qk1"
      },
      "execution_count": 36,
      "outputs": []
    },
    {
      "cell_type": "code",
      "source": [
        "cm = confusion_matrix(test_labels, test_prediction)"
      ],
      "metadata": {
        "id": "4JTcWmIx7zRH"
      },
      "execution_count": 37,
      "outputs": []
    },
    {
      "cell_type": "code",
      "source": [
        "fig,ax = plt.subplots(figsize=(6,6))\n",
        "sns.set(font_scale=1.6)\n",
        "sns.heatmap(cm, annot=True, ax=ax)"
      ],
      "metadata": {
        "colab": {
          "base_uri": "https://localhost:8080/",
          "height": 398
        },
        "id": "Qlhwuco57-Wo",
        "outputId": "5dfd70bd-6fdb-44e7-8b34-f74906e1c31c"
      },
      "execution_count": 38,
      "outputs": [
        {
          "output_type": "execute_result",
          "data": {
            "text/plain": [
              "<matplotlib.axes._subplots.AxesSubplot at 0x7f6f79eb7c10>"
            ]
          },
          "metadata": {},
          "execution_count": 38
        },
        {
          "output_type": "display_data",
          "data": {
            "text/plain": [
              "<Figure size 432x432 with 2 Axes>"
            ],
            "image/png": "[encoded data removed]"
          },
          "metadata": {
            "needs_background": "light"
          }
        }
      ]
    },
    {
      "cell_type": "markdown",
      "source": [
        "#### Classification Report"
      ],
      "metadata": {
        "id": "xFp92rIOiFQZ"
      }
    },
    {
      "cell_type": "code",
      "source": [
        "from sklearn.metrics import confusion_matrix, classification_report\n",
        "print(classification_report(test_labels, test_prediction))"
      ],
      "metadata": {
        "colab": {
          "base_uri": "https://localhost:8080/"
        },
        "id": "vNrc7Mk5iEoG",
        "outputId": "4a277542-5874-4a8d-ee32-f5d92c3cbf49"
      },
      "execution_count": 39,
      "outputs": [
        {
          "output_type": "stream",
          "name": "stdout",
          "text": [
            "              precision    recall  f1-score   support\n",
            "\n",
            "    airplane       0.86      1.00      0.92         6\n",
            "         car       1.00      0.83      0.91         6\n",
            "\n",
            "    accuracy                           0.92        12\n",
            "   macro avg       0.93      0.92      0.92        12\n",
            "weighted avg       0.93      0.92      0.92        12\n",
            "\n"
          ]
        }
      ]
    },
    {
      "cell_type": "markdown",
      "source": [
        "### Check Results with Random Images\n",
        "Check the results on test images to see where it was correct and where it failed.<br>\n",
        "Want to generate a random number between 0 and the number of images in train set.  Then show the image."
      ],
      "metadata": {
        "id": "9J-BLhBEcEk1"
      }
    },
    {
      "cell_type": "code",
      "source": [
        "import random"
      ],
      "metadata": {
        "id": "BGh_4mM-8HyG"
      },
      "execution_count": 40,
      "outputs": []
    },
    {
      "cell_type": "code",
      "source": [
        "n = random.randint(0, X_test.shape[0]-1)\n",
        "img = X_test[n]\n",
        "plt.imshow(img)"
      ],
      "metadata": {
        "colab": {
          "base_uri": "https://localhost:8080/",
          "height": 299
        },
        "id": "Tur9h5SQcm8X",
        "outputId": "13d46bbe-16f5-4849-fb0e-c4dedebff525"
      },
      "execution_count": 41,
      "outputs": [
        {
          "output_type": "execute_result",
          "data": {
            "text/plain": [
              "<matplotlib.image.AxesImage at 0x7f6f6e0fdd50>"
            ]
          },
          "metadata": {},
          "execution_count": 41
        },
        {
          "output_type": "display_data",
          "data": {
            "text/plain": [
              "<Figure size 432x288 with 1 Axes>"
            ],
            "image/png": "[encoded data removed]"
          },
          "metadata": {}
        }
      ]
    },
    {
      "cell_type": "code",
      "source": [
        "input_img = np.expand_dims(img, axis=0)\n",
        "input_img_features = feature_extractor(input_img)\n",
        "input_img_features = np.expand_dims(input_img_features, axis=0)\n",
        "input_img_for_RF = np.reshape(input_img_features, (input_img.shape[0],-1)) \n",
        "#predict\n",
        "img_prediction = rf_model.predict(input_img_for_RF)\n",
        "img_prediction = le.inverse_transform(img_prediction)\n",
        "print('The prediction for this image is: ',img_prediction)\n",
        "print('Actual Label for this image is: ', test_labels[n])"
      ],
      "metadata": {
        "colab": {
          "base_uri": "https://localhost:8080/"
        },
        "id": "gK46xrV2c82x",
        "outputId": "65032d18-b942-4a45-e893-955ac8d16dc8"
      },
      "execution_count": 42,
      "outputs": [
        {
          "output_type": "stream",
          "name": "stdout",
          "text": [
            "The prediction for this image is:  ['airplane']\n",
            "Actual Label for this image is:  airplane\n"
          ]
        }
      ]
    }
  ]
}