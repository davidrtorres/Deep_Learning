{
 "cells": [
  {
   "cell_type": "markdown",
   "id": "39c3702f-d666-4df9-8947-a45c6535c8e6",
   "metadata": {},
   "source": [
    "### Data Augmentation\n",
    "From existing training samples you try to generate new samples.  From iage of a flower can apply several transformations like such as horizontal flip, rotation, scaling, contrast, zoom.  Doing this will generate new samples.  Can make 4 new samples out of 1.\n",
    "\n",
    "We will build a Convolutional Nueral Network  model for image classification.  The model will probably overfit but we will use data augmentation to generate new samples and increase the accuracy of our model. "
   ]
  },
  {
   "cell_type": "code",
   "execution_count": 1,
   "id": "1acfa501-b43b-4e46-a946-8cb5c1a418c6",
   "metadata": {},
   "outputs": [],
   "source": [
    "import matplotlib.pyplot as plt\n",
    "import numpy as np\n",
    "import cv2\n",
    "import os\n",
    "import PIL #Python image library\n",
    "import tensorflow as tf\n",
    "\n",
    "from tensorflow import keras\n",
    "from tensorflow.keras import layers\n",
    "from tensorflow.keras.models import Sequential"
   ]
  },
  {
   "cell_type": "markdown",
   "id": "2fc7e6f8-6cb7-48fa-8526-1f29ce5b5fc8",
   "metadata": {},
   "source": [
    "### Load the Dataset"
   ]
  },
  {
   "cell_type": "code",
   "execution_count": 11,
   "id": "63848382-5649-4002-99ef-2921cf69e2ca",
   "metadata": {},
   "outputs": [
    {
     "name": "stdout",
     "output_type": "stream",
     "text": [
      "Downloading data from https://storage.googleapis.com/download.tensorflow.org/example_images/flower_photos.tgz\n",
      "228818944/228813984 [==============================] - 3s 0us/step\n",
      "228827136/228813984 [==============================] - 3s 0us/step\n"
     ]
    }
   ],
   "source": [
    "\"\"\"\n",
    "get_file()-specify a dataset\n",
    "cache_dir-where you want to store dataset.  put in current directory or datasets\n",
    "\"\"\"\n",
    "\n",
    "dataset_url = \"https://storage.googleapis.com/download.tensorflow.org/example_images/flower_photos.tgz\"\n",
    "data_dir = tf.keras.utils.get_file('flower_photos', origin=dataset_url,  cache_dir='../Deep_learning_ex/datasets', untar=True)"
   ]
  },
  {
   "cell_type": "code",
   "execution_count": 12,
   "id": "836e0693-7faa-451f-9866-93e997f34204",
   "metadata": {},
   "outputs": [
    {
     "data": {
      "text/plain": [
       "'../Deep_learning_ex/datasets/datasets/flower_photos'"
      ]
     },
     "execution_count": 12,
     "metadata": {},
     "output_type": "execute_result"
    }
   ],
   "source": [
    "data_dir"
   ]
  },
  {
   "cell_type": "code",
   "execution_count": 13,
   "id": "0e2a9bf6-992a-4aa8-9381-a018503ab3b4",
   "metadata": {},
   "outputs": [
    {
     "data": {
      "text/plain": [
       "PosixPath('../Deep_learning_ex/datasets/datasets/flower_photos')"
      ]
     },
     "execution_count": 13,
     "metadata": {},
     "output_type": "execute_result"
    }
   ],
   "source": [
    "\"\"\"\n",
    "convert the data directory into pathlib\n",
    "converts images into numpy array\n",
    "OS path object\n",
    "\"\"\"\n",
    "import pathlib\n",
    "\n",
    "data_dir = pathlib.Path(data_dir)\n",
    "data_dir"
   ]
  },
  {
   "cell_type": "code",
   "execution_count": 14,
   "id": "01480109-4ea5-497c-a27e-39df5b7db835",
   "metadata": {},
   "outputs": [
    {
     "data": {
      "text/plain": [
       "3670"
      ]
     },
     "execution_count": 14,
     "metadata": {},
     "output_type": "execute_result"
    }
   ],
   "source": [
    "#get all images w/extension jpg\n",
    "image_count = list(data_dir.glob('*/*.jpg'))\n",
    "len(image_count)"
   ]
  },
  {
   "cell_type": "code",
   "execution_count": 6,
   "id": "73e17563-72e4-427c-9a8b-073b2c84efbf",
   "metadata": {},
   "outputs": [
    {
     "data": {
      "text/plain": [
       "[PosixPath('/tmp/.keras/datasets/flower_photos/roses/16209331331_343c899d38.jpg'),\n",
       " PosixPath('/tmp/.keras/datasets/flower_photos/roses/5777669976_a205f61e5b.jpg'),\n",
       " PosixPath('/tmp/.keras/datasets/flower_photos/roses/4860145119_b1c3cbaa4e_n.jpg'),\n",
       " PosixPath('/tmp/.keras/datasets/flower_photos/roses/15011625580_7974c44bce.jpg'),\n",
       " PosixPath('/tmp/.keras/datasets/flower_photos/roses/17953368844_be3d18cf30_m.jpg')]"
      ]
     },
     "execution_count": 6,
     "metadata": {},
     "output_type": "execute_result"
    }
   ],
   "source": [
    "roses = list(data_dir.glob('roses/*'))\n",
    "roses[:5]"
   ]
  },
  {
   "cell_type": "code",
   "execution_count": null,
   "id": "2c0834b4-a009-4ad2-a8d5-974599dd7009",
   "metadata": {},
   "outputs": [],
   "source": []
  }
 ],
 "metadata": {
  "kernelspec": {
   "display_name": "Python 3",
   "language": "python",
   "name": "python3"
  },
  "language_info": {
   "codemirror_mode": {
    "name": "ipython",
    "version": 3
   },
   "file_extension": ".py",
   "mimetype": "text/x-python",
   "name": "python",
   "nbconvert_exporter": "python",
   "pygments_lexer": "ipython3",
   "version": "3.9.12"
  }
 },
 "nbformat": 4,
 "nbformat_minor": 5
}
