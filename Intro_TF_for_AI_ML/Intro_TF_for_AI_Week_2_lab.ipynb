{
  "nbformat": 4,
  "nbformat_minor": 0,
  "metadata": {
    "colab": {
      "name": "Intro_TF_for_AI_Week_2_lab.ipynb",
      "provenance": [],
      "collapsed_sections": []
    },
    "kernelspec": {
      "name": "python3",
      "display_name": "Python 3"
    },
    "language_info": {
      "name": "python"
    }
  },
  "cells": [
    {
      "cell_type": "code",
      "execution_count": 1,
      "metadata": {
        "colab": {
          "base_uri": "https://localhost:8080/"
        },
        "id": "e35U4NWk2xLk",
        "outputId": "6115a9ea-ce74-40b6-b1f1-dc221e5cc545"
      },
      "outputs": [
        {
          "output_type": "stream",
          "name": "stdout",
          "text": [
            "TensorFlow version: 2.8.0\n"
          ]
        }
      ],
      "source": [
        "import tensorflow as tf\n",
        "from tensorflow import keras\n",
        "print(\"TensorFlow version:\", tf.__version__)"
      ]
    },
    {
      "cell_type": "code",
      "source": [
        "fashion_mnist = tf.keras.datasets.fashion_mnist\n",
        "(train_images, train_labels), (test_images, test_labels) = fashion_mnist.load_data()"
      ],
      "metadata": {
        "id": "zzvBeIKZ3B4p"
      },
      "execution_count": 2,
      "outputs": []
    },
    {
      "cell_type": "code",
      "source": [
        "\"\"\"\n",
        "60,000 of hte 70,000 are used to train the network. Then 10,000 ones that it hasn't previously seen can be used to test \n",
        "  how good or how bad it's performing.\n",
        "train is a boot, but label is a number 9\n",
        "  Use number to avoid bais, instead of labeling with words\n",
        "immage is represented as a 28 x 28 array of grayscales\n",
        "\n",
        "3 layers\n",
        "important: first and last layers\n",
        "Flattens take 28 by 28 square and turns it into a simple linear array\n",
        "Hidden layer has a 128 neurons in it.\n",
        "\n",
        "last has 10 neurons in it b/c we have 10 classes of closthes in dataset.\n",
        "create neural network that gives computers basic computervision capabilties to recognize items of clothing\n",
        "\"\"\"\n",
        "model = keras.Sequential([\n",
        "  keras.layers.Flatten(input_shape=(28,28)), #this is the shape we should expect data to be in\n",
        "  keras.layers.Dense(128, activation=tf.nn.relu), \n",
        "  keras.layers.Dense(10, activation=tf.nn.softmax)                         \n",
        "    ])"
      ],
      "metadata": {
        "id": "cKLIQbZE3inJ"
      },
      "execution_count": 3,
      "outputs": []
    },
    {
      "cell_type": "code",
      "source": [
        "\"\"\"\n",
        "data for a particular image has grid from 0 to 255 with pixel grayscale values\n",
        "\"\"\"\n",
        "import numpy as np\n",
        "import matplotlib.pyplot as plt\n",
        "%matplotlib inline"
      ],
      "metadata": {
        "id": "_-BDWzB-3iwC"
      },
      "execution_count": 4,
      "outputs": []
    },
    {
      "cell_type": "code",
      "source": [
        "\"\"\"\n",
        "pixel numbers 0 to 255\n",
        "image has values from 0 to 255\n",
        "\"\"\"\n",
        "\n",
        "index = 42\n",
        "\n",
        "#set number of charaters per row when printing\n",
        "np.set_printoptions(linewidth=320)\n",
        "\n",
        "#print label and image\n",
        "print(f'Label: {train_labels[index]}')\n",
        "print(f'\\nImage Pixel Array:\\n {train_images[index]}')\n",
        "\n",
        "#visualize image\n",
        "plt.imshow(train_images[index], cmap='Greys')"
      ],
      "metadata": {
        "colab": {
          "base_uri": "https://localhost:8080/",
          "height": 809
        },
        "id": "BWEmQxSK3i3g",
        "outputId": "96eb59a3-0f10-43ac-ddab-b4b403ebe9f0"
      },
      "execution_count": 5,
      "outputs": [
        {
          "output_type": "stream",
          "name": "stdout",
          "text": [
            "Label: 9\n",
            "\n",
            "Image Pixel Array:\n",
            " [[  0   0   0   0   0   0   0   0   0   0   0   0   0   0   0   0   0   0   0   0   0   0   0   0   0   0   0   0]\n",
            " [  0   0   0   0   0   0   0   0   0   0   0   0   0   0   0   0   0   0   0   0   0   0   0   0   0   0   0   0]\n",
            " [  0   0   0   0   0   0   0   0   0   0   0   0   0   0   0   0   0   0   0   0   0   0   0   0   0   0   0   0]\n",
            " [  0   0   0   0   0   0   0   0   0   0   0   0   0   0   0   0   0   0   0   0   0   0   0   0   0   0   0   0]\n",
            " [  0   0   0   0   0   0   0   0   0   0   0   0   0   0   0   0   0   0   0   0   0   0   0   0   0   0   0   0]\n",
            " [  0   0   0   0   0   0   0   0   0   0   0   0   0   0   0   0  82 187  26   0   0   0   0   0   0   0   0   0]\n",
            " [  0   0   0   0   0   0   0   0   0   1   0   0   1   0   0 179 240 237 255 240 139  83  64  43  60  54   0   1]\n",
            " [  0   0   0   0   0   0   0   0   0   1   0   0   1   0  58 239 222 234 238 246 252 254 255 248 255 187   0   0]\n",
            " [  0   0   0   0   0   0   0   0   0   0   2   3   0   0 194 239 226 237 235 232 230 234 234 233 249 171   0   0]\n",
            " [  0   0   0   0   0   0   0   0   0   1   1   0   0  10 255 226 242 239 238 239 240 239 242 238 248 192   0   0]\n",
            " [  0   0   0   0   0   0   0   0   0   0   0   0   0 172 245 229 240 241 240 241 243 243 241 227 250 209   0   0]\n",
            " [  0   0   0   0   0   0   0   0   0   6   5   0  62 255 230 236 239 241 242 241 242 242 238 238 242 253   0   0]\n",
            " [  0   0   0   0   0   0   0   0   0   3   0   0 255 235 228 244 241 241 244 243 243 244 243 239 235 255  22   0]\n",
            " [  0   0   0   0   0   0   0   0   0   0   0 246 228 220 245 243 237 241 242 242 242 243 239 237 235 253 106   0]\n",
            " [  0   0   3   4   4   2   1   0   0  18 243 228 231 241 243 237 238 242 241 240 240 240 235 237 236 246 234   0]\n",
            " [  1   0   0   0   0   0   0   0  22 255 238 227 238 239 237 241 241 237 236 238 239 239 239 239 239 237 255   0]\n",
            " [  0   0   0   0   0  25  83 168 255 225 225 235 228 230 227 225 227 231 232 237 240 236 238 239 239 235 251  62]\n",
            " [  0 165 225 220 224 255 255 233 229 223 227 228 231 232 235 237 233 230 228 230 233 232 235 233 234 235 255  58]\n",
            " [ 52 251 221 226 227 225 225 225 226 226 225 227 231 229 232 239 245 250 251 252 254 254 252 254 252 235 255   0]\n",
            " [ 31 208 230 233 233 237 236 236 241 235 241 247 251 254 242 236 233 227 219 202 193 189 186 181 171 165 190  42]\n",
            " [ 77 199 172 188 199 202 218 219 220 229 234 222 213 209 207 210 203 184 152 171 165 162 162 167 168 157 192  78]\n",
            " [  0  45 101 140 159 174 182 186 185 188 195 197 188 175 133  70  19   0   0 209 231 218 222 224 227 217 229  93]\n",
            " [  0   0   0   0   0   0   2  24  37  45  32  18  11   0   0   0   0   0   0  72  51  53  37  34  29  31   5   0]\n",
            " [  0   0   0   0   0   0   0   0   0   0   0   0   0   0   0   0   0   0   0   0   0   0   0   0   0   0   0   0]\n",
            " [  0   0   0   0   0   0   0   0   0   0   0   0   0   0   0   0   0   0   0   0   0   0   0   0   0   0   0   0]\n",
            " [  0   0   0   0   0   0   0   0   0   0   0   0   0   0   0   0   0   0   0   0   0   0   0   0   0   0   0   0]\n",
            " [  0   0   0   0   0   0   0   0   0   0   0   0   0   0   0   0   0   0   0   0   0   0   0   0   0   0   0   0]\n",
            " [  0   0   0   0   0   0   0   0   0   0   0   0   0   0   0   0   0   0   0   0   0   0   0   0   0   0   0   0]]\n"
          ]
        },
        {
          "output_type": "execute_result",
          "data": {
            "text/plain": [
              "<matplotlib.image.AxesImage at 0x7f78bba52b10>"
            ]
          },
          "metadata": {},
          "execution_count": 5
        },
        {
          "output_type": "display_data",
          "data": {
            "text/plain": [
              "<Figure size 432x288 with 1 Axes>"
            ],
            "image/png": "[encoded data removed]"
          },
          "metadata": {
            "needs_background": "light"
          }
        }
      ]
    },
    {
      "cell_type": "code",
      "source": [
        "\"\"\"\n",
        "neural networks work better with normalized data\n",
        "Sequenrtial- defines a sequence of layers in neural network\n",
        "Flatten- images were a 28 x 28 pixel matrix\n",
        "  Flatten takes square and turns it into a 1D array\n",
        "  Dense-adds a layer of neurons\n",
        "Each layer of neurons needs and activation function to tell them what to do.\n",
        "\n",
        "Relu- it only passes values 0 or greater to the next layer in network.\n",
        "softmax- takes a list of values and sclaes threse so the sum of all elements will be equal to 1.\n",
        "  When applied ot model outputs think of scaled values as the probability for that class\n",
        "  ie, in this case having the highest value at index=4 means that the model is most confident that the inpout clothing images is a coat.\n",
        "\n",
        "\"\"\"\n",
        "train_images = train_images / 255.0\n",
        "test_images = test_images / 255.0"
      ],
      "metadata": {
        "id": "mhFNGRJP3i8C"
      },
      "execution_count": 6,
      "outputs": []
    },
    {
      "cell_type": "code",
      "source": [
        "model = keras.Sequential([\n",
        "  keras.layers.Flatten(input_shape=(28,28)), #this is the shape we should expect data to be in\n",
        "  keras.layers.Dense(128, activation=tf.nn.relu), \n",
        "  keras.layers.Dense(10, activation=tf.nn.softmax)                         \n",
        "    ])"
      ],
      "metadata": {
        "id": "ARvXM68J_TQ_"
      },
      "execution_count": 7,
      "outputs": []
    },
    {
      "cell_type": "code",
      "source": [
        "# Declare sample inputs and convert to a tensor\n",
        "inputs = np.array([[1.0, 3.0, 4.0, 2.0]])\n",
        "inputs = tf.convert_to_tensor(inputs)\n",
        "print(f'input to softmax function: {inputs.numpy()}')\n",
        "\n",
        "# Feed the inputs to a softmax activation function\n",
        "outputs = tf.keras.activations.softmax(inputs)\n",
        "print(f'output of softmax function: {outputs.numpy()}')\n",
        "\n",
        "# Get the sum of all values after the softmax\n",
        "sum = tf.reduce_sum(outputs)\n",
        "print(f'sum of outputs: {sum}')\n",
        "\n",
        "# Get the index with highest value\n",
        "prediction = np.argmax(outputs)\n",
        "print(f'class with highest probability: {prediction}')"
      ],
      "metadata": {
        "colab": {
          "base_uri": "https://localhost:8080/"
        },
        "id": "XrYUDkMm_Tas",
        "outputId": "3c37c666-35a1-40ba-ccd3-558e69bbd840"
      },
      "execution_count": 8,
      "outputs": [
        {
          "output_type": "stream",
          "name": "stdout",
          "text": [
            "input to softmax function: [[1. 3. 4. 2.]]\n",
            "output of softmax function: [[0.0320586  0.23688282 0.64391426 0.08714432]]\n",
            "sum of outputs: 1.0\n",
            "class with highest probability: 2\n"
          ]
        }
      ]
    },
    {
      "cell_type": "code",
      "source": [
        "\"\"\"\n",
        "model is defined above\n",
        "Now build it.  compile the model with optimizer and loss function \n",
        "train it by calling model.fit() asking model to fit your training data to your training labels.\n",
        "  It will figure out the relationship between the training data and its actual labels so in the future if you have inputs that looks \n",
        "  like the training data, then it can predict what the label for that input is.\n",
        "\n",
        "Once it's done training -- you should see an accuracy value at the end of the final epoch, like 0.9098. This tells you that your \n",
        "  neural network is about 90% accurate in classifying the training data.  It figured out a pattern match between the image and the labels\n",
        "   that worked 91% of the time. It was only trained for 5 epochs and done quite quickly.\n",
        "\n",
        "\n",
        "\"\"\"\n",
        "model.compile(optimizer = tf.optimizers.Adam(),\n",
        "              loss = 'sparse_categorical_crossentropy',\n",
        "              metrics=['accuracy'])\n",
        "\n",
        "model.fit(train_images, train_labels, epochs=5)"
      ],
      "metadata": {
        "colab": {
          "base_uri": "https://localhost:8080/"
        },
        "id": "0oY1iAT__Th3",
        "outputId": "920aff8d-49d9-4f40-e588-db42ff5ed524"
      },
      "execution_count": 9,
      "outputs": [
        {
          "output_type": "stream",
          "name": "stdout",
          "text": [
            "Epoch 1/5\n",
            "1875/1875 [==============================] - 13s 6ms/step - loss: 0.4988 - accuracy: 0.8246\n",
            "Epoch 2/5\n",
            "1875/1875 [==============================] - 9s 5ms/step - loss: 0.3761 - accuracy: 0.8634\n",
            "Epoch 3/5\n",
            "1875/1875 [==============================] - 5s 3ms/step - loss: 0.3383 - accuracy: 0.8774\n",
            "Epoch 4/5\n",
            "1875/1875 [==============================] - 5s 2ms/step - loss: 0.3128 - accuracy: 0.8851\n",
            "Epoch 5/5\n",
            "1875/1875 [==============================] - 5s 3ms/step - loss: 0.2937 - accuracy: 0.8910\n"
          ]
        },
        {
          "output_type": "execute_result",
          "data": {
            "text/plain": [
              "<keras.callbacks.History at 0x7f78bb5b2690>"
            ]
          },
          "metadata": {},
          "execution_count": 9
        }
      ]
    },
    {
      "cell_type": "code",
      "source": [
        "\"\"\"\n",
        "But how would it work with unseen data? That's why we have the test images and labels. We can call model.evaluate() with this \n",
        "test dataset as inputs and it will report back the loss and accuracy of the model\n",
        "accuracy here to be about 0.88 which means it was 88% accurate on the entire test set. It probably would not do as well with unseen data \n",
        "  as it did with data it was trained on!\n",
        "\"\"\"\n",
        "# Evaluate the model on unseen data\n",
        "model.evaluate(test_images, test_labels)"
      ],
      "metadata": {
        "colab": {
          "base_uri": "https://localhost:8080/"
        },
        "id": "xaVpIi7kD4aV",
        "outputId": "c233851b-05bc-4838-ad15-395869787792"
      },
      "execution_count": 10,
      "outputs": [
        {
          "output_type": "stream",
          "name": "stdout",
          "text": [
            "313/313 [==============================] - 1s 3ms/step - loss: 0.3572 - accuracy: 0.8708\n"
          ]
        },
        {
          "output_type": "execute_result",
          "data": {
            "text/plain": [
              "[0.3571934103965759, 0.8708000183105469]"
            ]
          },
          "metadata": {},
          "execution_count": 10
        }
      ]
    },
    {
      "cell_type": "code",
      "source": [
        "#the 1st image in dataset is boot, which is # 9\n",
        "index = 0\n",
        "\n",
        "#visualize image\n",
        "plt.imshow(train_images[index], cmap='Greys')"
      ],
      "metadata": {
        "colab": {
          "base_uri": "https://localhost:8080/",
          "height": 282
        },
        "id": "sbiMpvQWkMAt",
        "outputId": "3bdf7ed4-e711-44c9-d52f-bbda476fb26a"
      },
      "execution_count": 11,
      "outputs": [
        {
          "output_type": "execute_result",
          "data": {
            "text/plain": [
              "<matplotlib.image.AxesImage at 0x7f78b9b1aa10>"
            ]
          },
          "metadata": {},
          "execution_count": 11
        },
        {
          "output_type": "display_data",
          "data": {
            "text/plain": [
              "<Figure size 432x288 with 1 Axes>"
            ],
            "image/png": "[encoded data removed]"
          },
          "metadata": {
            "needs_background": "light"
          }
        }
      ]
    },
    {
      "cell_type": "code",
      "source": [
        "classifications = model.predict(test_images)\n",
        "\n",
        "print(classifications[0])"
      ],
      "metadata": {
        "id": "i7qQMlT7ERAC",
        "colab": {
          "base_uri": "https://localhost:8080/"
        },
        "outputId": "81fe93ef-84cd-46d9-d2d6-c05d7703b980"
      },
      "execution_count": 12,
      "outputs": [
        {
          "output_type": "stream",
          "name": "stdout",
          "text": [
            "[7.7765135e-06 1.0555954e-07 4.9533424e-05 2.8136881e-06 2.0271684e-06 2.6616558e-02 1.3319732e-05 1.2158559e-02 1.3995515e-04 9.6100932e-01]\n"
          ]
        }
      ]
    },
    {
      "cell_type": "code",
      "source": [
        "\"\"\"\n",
        "These numbers are a probability that the value being classified is the corresponding value (https://github.com/zalandoresearch/fashion-mnist#labels), \n",
        "i.e. the first value in the list is the probability that the image is '0' (T-shirt/top), the next is a '1' (Trouser) etc. \n",
        "Notice that they are all VERY LOW probabilities. For index 9 (Ankle boot), the probability was in the 90's, \n",
        "i.e. the neural network is telling us that the image is most likely an ankle boot.\n",
        "\n",
        "Label\tDescription\n",
        "0\tT-shirt/top\n",
        "1\tTrouser\n",
        "2\tPullover\n",
        "3\tDress\n",
        "4\tCoat\n",
        "5\tSandal\n",
        "6\tShirt\n",
        "7\tSneaker\n",
        "8\tBag\n",
        "9\tAnkle boot\n",
        "\"\"\"\n",
        "\n",
        "print(test_labels[0])"
      ],
      "metadata": {
        "colab": {
          "base_uri": "https://localhost:8080/"
        },
        "id": "CWFX3fR3gfmx",
        "outputId": "68b55714-64fa-46b9-b8f8-336a60e03651"
      },
      "execution_count": 13,
      "outputs": [
        {
          "output_type": "stream",
          "name": "stdout",
          "text": [
            "9\n"
          ]
        }
      ]
    },
    {
      "cell_type": "code",
      "source": [
        "#the 1st image in dataset is boot, which is # 9\n",
        "index = 0\n",
        "\n",
        "#visualize image\n",
        "plt.imshow(train_images[index], cmap='Greys')"
      ],
      "metadata": {
        "colab": {
          "base_uri": "https://localhost:8080/",
          "height": 282
        },
        "id": "1DbwGGgAgfq0",
        "outputId": "bdcb4f9f-cd48-4716-fc67-6d956ac063ad"
      },
      "execution_count": 14,
      "outputs": [
        {
          "output_type": "execute_result",
          "data": {
            "text/plain": [
              "<matplotlib.image.AxesImage at 0x7f78bb3e7dd0>"
            ]
          },
          "metadata": {},
          "execution_count": 14
        },
        {
          "output_type": "display_data",
          "data": {
            "text/plain": [
              "<Figure size 432x288 with 1 Axes>"
            ],
            "image/png": "[encoded data removed]"
          },
          "metadata": {
            "needs_background": "light"
          }
        }
      ]
    },
    {
      "cell_type": "code",
      "source": [
        "classifications1 = model.predict(test_images)\n",
        "print(classifications1[0])"
      ],
      "metadata": {
        "colab": {
          "base_uri": "https://localhost:8080/"
        },
        "id": "Lr8GoLl9gfvx",
        "outputId": "e8154802-c241-4153-fcd7-f364a00ff72e"
      },
      "execution_count": 15,
      "outputs": [
        {
          "output_type": "stream",
          "name": "stdout",
          "text": [
            "[7.7765135e-06 1.0555954e-07 4.9533424e-05 2.8136881e-06 2.0271684e-06 2.6616558e-02 1.3319732e-05 1.2158559e-02 1.3995515e-04 9.6100932e-01]\n"
          ]
        }
      ]
    },
    {
      "cell_type": "code",
      "source": [
        "print(test_labels[0])"
      ],
      "metadata": {
        "id": "zjvun2KuuQ0C",
        "outputId": "0d63dc95-2846-4c05-f48f-9997104dbaa6",
        "colab": {
          "base_uri": "https://localhost:8080/"
        }
      },
      "execution_count": 16,
      "outputs": [
        {
          "output_type": "stream",
          "name": "stdout",
          "text": [
            "9\n"
          ]
        }
      ]
    },
    {
      "cell_type": "code",
      "source": [
        "index = 1\n",
        "\n",
        "#visualize image\n",
        "plt.imshow(train_images[index], cmap='Greys')"
      ],
      "metadata": {
        "colab": {
          "base_uri": "https://localhost:8080/",
          "height": 282
        },
        "id": "Uvhq-gVpqo_D",
        "outputId": "a21988e6-a595-42c7-eea8-28ec1637fdc1"
      },
      "execution_count": 17,
      "outputs": [
        {
          "output_type": "execute_result",
          "data": {
            "text/plain": [
              "<matplotlib.image.AxesImage at 0x7f78bb35f950>"
            ]
          },
          "metadata": {},
          "execution_count": 17
        },
        {
          "output_type": "display_data",
          "data": {
            "text/plain": [
              "<Figure size 432x288 with 1 Axes>"
            ],
            "image/png": "[encoded data removed]"
          },
          "metadata": {
            "needs_background": "light"
          }
        }
      ]
    },
    {
      "cell_type": "code",
      "source": [
        "classifications1 = model.predict(test_images)\n",
        "print(classifications1[1])"
      ],
      "metadata": {
        "colab": {
          "base_uri": "https://localhost:8080/"
        },
        "id": "htkLqSsuqQgo",
        "outputId": "084a2e14-9b8f-4e38-ce91-fa0470e2eb54"
      },
      "execution_count": 18,
      "outputs": [
        {
          "output_type": "stream",
          "name": "stdout",
          "text": [
            "[3.0606639e-06 1.1202924e-08 9.9676055e-01 4.4967541e-09 2.6390827e-03 1.0114782e-12 5.9731642e-04 7.6079339e-15 1.5601577e-09 8.4637028e-13]\n"
          ]
        }
      ]
    },
    {
      "cell_type": "code",
      "source": [
        "print(test_labels[1])"
      ],
      "metadata": {
        "colab": {
          "base_uri": "https://localhost:8080/"
        },
        "id": "6oM94CgjqQmS",
        "outputId": "d4383186-0d6e-49dd-c94f-2e3cc3a00dc7"
      },
      "execution_count": 19,
      "outputs": [
        {
          "output_type": "stream",
          "name": "stdout",
          "text": [
            "2\n"
          ]
        }
      ]
    },
    {
      "cell_type": "code",
      "source": [
        "index = 2\n",
        "\n",
        "#visualize image\n",
        "plt.imshow(train_images[index], cmap='Greys')"
      ],
      "metadata": {
        "colab": {
          "base_uri": "https://localhost:8080/",
          "height": 282
        },
        "id": "pQircOJJqQqS",
        "outputId": "85941bfe-7fe5-409f-e184-41d199de4b72"
      },
      "execution_count": 20,
      "outputs": [
        {
          "output_type": "execute_result",
          "data": {
            "text/plain": [
              "<matplotlib.image.AxesImage at 0x7f78bb2d0950>"
            ]
          },
          "metadata": {},
          "execution_count": 20
        },
        {
          "output_type": "display_data",
          "data": {
            "text/plain": [
              "<Figure size 432x288 with 1 Axes>"
            ],
            "image/png": "[encoded data removed]"
          },
          "metadata": {
            "needs_background": "light"
          }
        }
      ]
    },
    {
      "cell_type": "code",
      "source": [
        "classifications1 = model.predict(test_images)\n",
        "print(classifications1[2])"
      ],
      "metadata": {
        "colab": {
          "base_uri": "https://localhost:8080/"
        },
        "id": "2pi9ZOEHqQuc",
        "outputId": "43d5fae8-cbb1-4d82-a1c6-8f119cb9aed0"
      },
      "execution_count": 21,
      "outputs": [
        {
          "output_type": "stream",
          "name": "stdout",
          "text": [
            "[8.3334908e-07 9.9999905e-01 2.8100637e-09 9.2971902e-08 7.8810940e-09 4.1699825e-13 4.2117967e-09 2.4836565e-15 1.3842286e-11 4.5586629e-12]\n"
          ]
        }
      ]
    },
    {
      "cell_type": "code",
      "source": [
        "print(test_labels[2])"
      ],
      "metadata": {
        "colab": {
          "base_uri": "https://localhost:8080/"
        },
        "id": "pyvKVDwesRWx",
        "outputId": "8d7d9060-0201-4865-a641-d646c3f174b6"
      },
      "execution_count": 22,
      "outputs": [
        {
          "output_type": "stream",
          "name": "stdout",
          "text": [
            "1\n"
          ]
        }
      ]
    },
    {
      "cell_type": "code",
      "source": [
        "index = 42\n",
        "\n",
        "#visualize image\n",
        "plt.imshow(train_images[index], cmap='Greys')"
      ],
      "metadata": {
        "colab": {
          "base_uri": "https://localhost:8080/",
          "height": 282
        },
        "id": "ZTJGoeglsfIQ",
        "outputId": "8b730e58-3fdf-4af3-b838-ded5b41290ce"
      },
      "execution_count": 23,
      "outputs": [
        {
          "output_type": "execute_result",
          "data": {
            "text/plain": [
              "<matplotlib.image.AxesImage at 0x7f78bb2b9a50>"
            ]
          },
          "metadata": {},
          "execution_count": 23
        },
        {
          "output_type": "display_data",
          "data": {
            "text/plain": [
              "<Figure size 432x288 with 1 Axes>"
            ],
            "image/png": "[encoded data removed]"
          },
          "metadata": {
            "needs_background": "light"
          }
        }
      ]
    },
    {
      "cell_type": "code",
      "source": [
        "classifications1 = model.predict(test_images)\n",
        "print(classifications1[42])"
      ],
      "metadata": {
        "colab": {
          "base_uri": "https://localhost:8080/"
        },
        "id": "n4mB3hl9sfRi",
        "outputId": "3b0874c5-a381-42a6-fc9b-09a28ab42670"
      },
      "execution_count": 24,
      "outputs": [
        {
          "output_type": "stream",
          "name": "stdout",
          "text": [
            "[1.5529688e-01 2.1024702e-02 1.7800479e-03 7.0729241e-02 4.1175154e-03 3.9075917e-06 7.4694371e-01 5.3344655e-07 1.0336971e-04 6.5188644e-08]\n"
          ]
        }
      ]
    },
    {
      "cell_type": "code",
      "source": [
        "print(test_labels[42])"
      ],
      "metadata": {
        "colab": {
          "base_uri": "https://localhost:8080/"
        },
        "id": "T3ki6TTvsfXH",
        "outputId": "2e281922-5f03-464f-cb99-72bec576a503"
      },
      "execution_count": 25,
      "outputs": [
        {
          "output_type": "stream",
          "name": "stdout",
          "text": [
            "3\n"
          ]
        }
      ]
    },
    {
      "cell_type": "code",
      "source": [
        "index = 1\n",
        "\n",
        "#visualize image\n",
        "plt.imshow(train_images[index], cmap='Greys')"
      ],
      "metadata": {
        "colab": {
          "base_uri": "https://localhost:8080/",
          "height": 282
        },
        "id": "96p187PcsfbN",
        "outputId": "100184b8-83f4-4b19-ccae-36aec6cbf99f"
      },
      "execution_count": 26,
      "outputs": [
        {
          "output_type": "execute_result",
          "data": {
            "text/plain": [
              "<matplotlib.image.AxesImage at 0x7f78bb222b90>"
            ]
          },
          "metadata": {},
          "execution_count": 26
        },
        {
          "output_type": "display_data",
          "data": {
            "text/plain": [
              "<Figure size 432x288 with 1 Axes>"
            ],
            "image/png": "[encoded data removed]"
          },
          "metadata": {
            "needs_background": "light"
          }
        }
      ]
    },
    {
      "cell_type": "code",
      "source": [
        "classifications1 = model.predict(test_images)\n",
        "print(classifications1[5])"
      ],
      "metadata": {
        "colab": {
          "base_uri": "https://localhost:8080/"
        },
        "id": "THmmrV4ntdEi",
        "outputId": "41f0275f-58f7-4d05-f43a-d17e4bc74b79"
      },
      "execution_count": 27,
      "outputs": [
        {
          "output_type": "stream",
          "name": "stdout",
          "text": [
            "[1.5556614e-04 9.9983668e-01 4.6099734e-07 1.1921585e-06 1.0270788e-06 9.5266084e-10 5.0949639e-06 3.4942541e-12 2.9447860e-09 6.4994338e-10]\n"
          ]
        }
      ]
    },
    {
      "cell_type": "code",
      "source": [
        "print(test_labels[5])"
      ],
      "metadata": {
        "colab": {
          "base_uri": "https://localhost:8080/"
        },
        "id": "VAzdoA6ctdIh",
        "outputId": "382b6f7e-ad48-4601-bc1a-b5f9c170f9ae"
      },
      "execution_count": 28,
      "outputs": [
        {
          "output_type": "stream",
          "name": "stdout",
          "text": [
            "1\n"
          ]
        }
      ]
    },
    {
      "cell_type": "code",
      "source": [
        "classifications1 = model.predict(test_images)\n",
        "print(classifications1[116])"
      ],
      "metadata": {
        "colab": {
          "base_uri": "https://localhost:8080/"
        },
        "id": "eVqVnquotdMC",
        "outputId": "aace21f7-8cf2-4938-9631-f1e4ab531d46"
      },
      "execution_count": 29,
      "outputs": [
        {
          "output_type": "stream",
          "name": "stdout",
          "text": [
            "[1.9896431e-06 2.3150022e-09 6.4038555e-05 1.4813993e-07 7.3058192e-07 4.6994110e-06 3.1828888e-05 7.4753102e-06 9.9987090e-01 1.8121102e-05]\n"
          ]
        }
      ]
    },
    {
      "cell_type": "code",
      "source": [
        "print(test_labels[116])"
      ],
      "metadata": {
        "colab": {
          "base_uri": "https://localhost:8080/"
        },
        "id": "tmBGw618tdPj",
        "outputId": "0365aaa2-2f54-4e3a-b80c-5770c3eaaf49"
      },
      "execution_count": 30,
      "outputs": [
        {
          "output_type": "stream",
          "name": "stdout",
          "text": [
            "8\n"
          ]
        }
      ]
    },
    {
      "cell_type": "code",
      "source": [
        "\"\"\"\n",
        "first layer in your network should be the same shape as your data. Right now our data is 28x28 images, and 28 layers of 28 neurons \n",
        "  would be infeasible\n",
        "we add the Flatten() layer at the begining, when arrays are loaded into the model later, they'll automatically be flattened for us.\n",
        "\"\"\"\n",
        "\n",
        "\n",
        "model = tf.keras.models.Sequential([tf.keras.layers.Flatten(),\n",
        "                                    tf.keras.layers.Dense(1024, activation=tf.nn.relu), # Try experimenting with this layer\n",
        "                                    tf.keras.layers.Dense(10, activation=tf.nn.softmax)])\n",
        "\n",
        "model.compile(optimizer = 'adam',\n",
        "              loss = 'sparse_categorical_crossentropy',\n",
        "              metrics=['accuracy'])\n",
        "\n",
        "model.fit(train_images, train_labels, epochs=5)\n",
        "\n",
        "model.evaluate(test_images, test_labels)\n",
        "\n",
        "classifications = model.predict(test_images)\n",
        "print('---------------------')\n",
        "print(classifications[1])\n",
        "print(test_labels[1])"
      ],
      "metadata": {
        "colab": {
          "base_uri": "https://localhost:8080/"
        },
        "id": "HbNzeVRFu9Tx",
        "outputId": "bdd812e7-ff7d-4f8f-ab58-2b99d93c1019"
      },
      "execution_count": 31,
      "outputs": [
        {
          "output_type": "stream",
          "name": "stdout",
          "text": [
            "Epoch 1/5\n",
            "1875/1875 [==============================] - 17s 9ms/step - loss: 0.4703 - accuracy: 0.8313\n",
            "Epoch 2/5\n",
            "1875/1875 [==============================] - 19s 10ms/step - loss: 0.3598 - accuracy: 0.8683\n",
            "Epoch 3/5\n",
            "1875/1875 [==============================] - 17s 9ms/step - loss: 0.3211 - accuracy: 0.8817\n",
            "Epoch 4/5\n",
            "1875/1875 [==============================] - 18s 9ms/step - loss: 0.2965 - accuracy: 0.8897\n",
            "Epoch 5/5\n",
            "1875/1875 [==============================] - 17s 9ms/step - loss: 0.2794 - accuracy: 0.8960\n",
            "313/313 [==============================] - 3s 8ms/step - loss: 0.3476 - accuracy: 0.8773\n",
            "---------------------\n",
            "[1.8693107e-05 1.1604104e-12 9.9927837e-01 2.7513569e-10 2.0906806e-04 4.4099884e-12 4.9386034e-04 1.0139813e-15 4.3877376e-12 3.9411022e-12]\n",
            "2\n"
          ]
        }
      ]
    },
    {
      "cell_type": "code",
      "source": [
        "\n",
        "model = tf.keras.models.Sequential([tf.keras.layers.Flatten(),\n",
        "                                    tf.keras.layers.Dense(1024, activation=tf.nn.relu), # Try experimenting with this layer\n",
        "                                    tf.keras.layers.Dense(256, activation=tf.nn.relu),\n",
        "                                    tf.keras.layers.Dense(10, activation=tf.nn.softmax)])\n",
        "\n",
        "model.compile(optimizer = 'adam',\n",
        "              loss = 'sparse_categorical_crossentropy',\n",
        "              metrics=['accuracy'])\n",
        "\n",
        "model.fit(train_images, train_labels, epochs=5)\n",
        "print('--------------')\n",
        "\n",
        "print(model.evaluate(test_images, test_labels))\n",
        "\n",
        "classifications = model.predict(test_images)\n",
        "print('---------------------')\n",
        "print(classifications[1])\n",
        "print(test_labels[1])"
      ],
      "metadata": {
        "colab": {
          "base_uri": "https://localhost:8080/"
        },
        "id": "-OTpsFcUu9aZ",
        "outputId": "4924aaf9-8b73-41f7-d8ac-ee0e59db828b"
      },
      "execution_count": 32,
      "outputs": [
        {
          "output_type": "stream",
          "name": "stdout",
          "text": [
            "Epoch 1/5\n",
            "1875/1875 [==============================] - 25s 13ms/step - loss: 0.4698 - accuracy: 0.8290\n",
            "Epoch 2/5\n",
            "1875/1875 [==============================] - 23s 12ms/step - loss: 0.3548 - accuracy: 0.8689\n",
            "Epoch 3/5\n",
            "1875/1875 [==============================] - 25s 14ms/step - loss: 0.3196 - accuracy: 0.8814\n",
            "Epoch 4/5\n",
            "1875/1875 [==============================] - 24s 13ms/step - loss: 0.2951 - accuracy: 0.8901\n",
            "Epoch 5/5\n",
            "1875/1875 [==============================] - 26s 14ms/step - loss: 0.2762 - accuracy: 0.8969\n",
            "--------------\n",
            "313/313 [==============================] - 3s 7ms/step - loss: 0.3757 - accuracy: 0.8626\n",
            "[0.3756866753101349, 0.8626000285148621]\n",
            "---------------------\n",
            "[3.3382326e-05 2.9674287e-11 9.7917205e-01 2.5279135e-08 8.4434701e-03 7.9413565e-15 1.2351068e-02 1.6125836e-16 3.1998804e-09 1.3920650e-13]\n",
            "2\n"
          ]
        }
      ]
    },
    {
      "cell_type": "code",
      "source": [
        "class myCallback(tf.keras.callbacks.Callback):\n",
        "  def on_epoch_end(self, epoch, logs={}):\n",
        "    if(logs.get('accuracy') >= 0.87): # Experiment with changing this value\n",
        "      print(\"\\nReached 87% accuracy so cancelling training!\")\n",
        "      self.model.stop_training = True\n",
        "\n",
        "callbacks = myCallback()\n",
        "\n",
        "model = tf.keras.models.Sequential([\n",
        "  tf.keras.layers.Flatten(),\n",
        "  tf.keras.layers.Dense(512, activation=tf.nn.relu),\n",
        "  tf.keras.layers.Dense(10, activation=tf.nn.softmax)\n",
        "])\n",
        "model.compile(optimizer='adam', loss='sparse_categorical_crossentropy', metrics=['accuracy'])\n",
        "model.fit(train_images, train_labels, epochs=5, callbacks=[callbacks])\n",
        "\n",
        "print('--------------')\n",
        "\n",
        "print(model.evaluate(test_images, test_labels))\n",
        "\n",
        "classifications = model.predict(test_images)\n",
        "print('---------------------')\n",
        "print(classifications[112])\n",
        "print(test_labels[112])"
      ],
      "metadata": {
        "colab": {
          "base_uri": "https://localhost:8080/"
        },
        "id": "cLHFt9ZUu9ey",
        "outputId": "3e9dd5ac-7342-4cd6-f54f-3b05b592f859"
      },
      "execution_count": 33,
      "outputs": [
        {
          "output_type": "stream",
          "name": "stdout",
          "text": [
            "Epoch 1/5\n",
            "1875/1875 [==============================] - 9s 5ms/step - loss: 0.4737 - accuracy: 0.8304\n",
            "Epoch 2/5\n",
            "1875/1875 [==============================] - 10s 5ms/step - loss: 0.3584 - accuracy: 0.8686\n",
            "Epoch 3/5\n",
            "1875/1875 [==============================] - ETA: 0s - loss: 0.3226 - accuracy: 0.8808\n",
            "Reached 87% accuracy so cancelling training!\n",
            "1875/1875 [==============================] - 11s 6ms/step - loss: 0.3226 - accuracy: 0.8808\n",
            "--------------\n",
            "313/313 [==============================] - 1s 3ms/step - loss: 0.3642 - accuracy: 0.8650\n",
            "[0.3641548454761505, 0.8650000095367432]\n",
            "---------------------\n",
            "[1.4674994e-06 2.3282273e-07 6.0306490e-08 4.1670287e-07 2.1497783e-07 1.6991647e-03 1.9680384e-07 9.9824947e-01 3.7719965e-05 1.0917149e-05]\n",
            "7\n"
          ]
        }
      ]
    },
    {
      "cell_type": "code",
      "source": [
        ""
      ],
      "metadata": {
        "id": "zIQOoBibu9iu"
      },
      "execution_count": 33,
      "outputs": []
    }
  ]
}