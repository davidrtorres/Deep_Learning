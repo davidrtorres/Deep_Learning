{
  "nbformat": 4,
  "nbformat_minor": 0,
  "metadata": {
    "colab": {
      "name": "C1_W2_lab_1_beyond_hello_world.ipynb",
      "provenance": [],
      "collapsed_sections": []
    },
    "kernelspec": {
      "name": "python3",
      "display_name": "Python 3"
    },
    "language_info": {
      "name": "python"
    }
  },
  "cells": [
    {
      "cell_type": "code",
      "execution_count": null,
      "metadata": {
        "colab": {
          "base_uri": "https://localhost:8080/"
        },
        "id": "e35U4NWk2xLk",
        "outputId": "66ce60ee-6e6f-4a02-af4c-ccbeb4f0e133"
      },
      "outputs": [
        {
          "output_type": "stream",
          "name": "stdout",
          "text": [
            "TensorFlow version: 2.8.0\n"
          ]
        }
      ],
      "source": [
        "import tensorflow as tf\n",
        "from tensorflow import keras\n",
        "print(\"TensorFlow version:\", tf.__version__)"
      ]
    },
    {
      "cell_type": "code",
      "source": [
        "fashion_mnist = tf.keras.datasets.fashion_mnist\n",
        "(train_images, train_labels), (test_images, test_labels) = fashion_mnist.load_data()"
      ],
      "metadata": {
        "id": "zzvBeIKZ3B4p"
      },
      "execution_count": null,
      "outputs": []
    },
    {
      "cell_type": "code",
      "source": [
        "\"\"\"\n",
        "60,000 of hte 70,000 are used to train the network. Then 10,000 ones that it hasn't previously seen can be used to test \n",
        "  how good or how bad it's performing.\n",
        "train is a boot, but label is a number 9\n",
        "  Use number to avoid bais, instead of labeling with words\n",
        "immage is represented as a 28 x 28 array of grayscales\n",
        "\n",
        "3 layers\n",
        "important: first and last layers\n",
        "Flattens take 28 by 28 square and turns it into a simple linear array\n",
        "Hidden layer has a 128 neurons in it.\n",
        "\n",
        "last has 10 neurons in it b/c we have 10 classes of closthes in dataset.\n",
        "create neural network that gives computers basic computervision capabilties to recognize items of clothing\n",
        "\"\"\"\n",
        "model = keras.Sequential([\n",
        "  keras.layers.Flatten(input_shape=(28,28)), #this is the shape we should expect data to be in\n",
        "  keras.layers.Dense(128, activation=tf.nn.relu), \n",
        "  keras.layers.Dense(10, activation=tf.nn.softmax)                         \n",
        "    ])"
      ],
      "metadata": {
        "id": "cKLIQbZE3inJ"
      },
      "execution_count": null,
      "outputs": []
    },
    {
      "cell_type": "code",
      "source": [
        "\"\"\"\n",
        "data for a particular image has grid from 0 to 255 with pixel grayscale values\n",
        "\"\"\"\n",
        "import numpy as np\n",
        "import matplotlib.pyplot as plt\n",
        "%matplotlib inline"
      ],
      "metadata": {
        "id": "_-BDWzB-3iwC"
      },
      "execution_count": null,
      "outputs": []
    },
    {
      "cell_type": "code",
      "source": [
        "\"\"\"\n",
        "pixel numbers 0 to 255\n",
        "image has values from 0 to 255\n",
        "\"\"\"\n",
        "\n",
        "index = 42\n",
        "\n",
        "#set number of charaters per row when printing\n",
        "np.set_printoptions(linewidth=320)\n",
        "\n",
        "#print label and image\n",
        "print(f'Label: {train_labels[index]}')\n",
        "print(f'\\nImage Pixel Array:\\n {train_images[index]}')\n",
        "\n",
        "#visualize image\n",
        "plt.imshow(train_images[index], cmap='Greys')"
      ],
      "metadata": {
        "colab": {
          "base_uri": "https://localhost:8080/",
          "height": 836
        },
        "id": "BWEmQxSK3i3g",
        "outputId": "b9fc25a3-043f-4c6d-efc5-f8471f707489"
      },
      "execution_count": null,
      "outputs": [
        {
          "output_type": "stream",
          "name": "stdout",
          "text": [
            "Label: 9\n",
            "\n",
            "Image Pixel Array:\n",
            " [[  0   0   0   0   0   0   0   0   0   0   0   0   0   0   0   0   0   0   0   0   0   0   0   0   0   0   0   0]\n",
            " [  0   0   0   0   0   0   0   0   0   0   0   0   0   0   0   0   0   0   0   0   0   0   0   0   0   0   0   0]\n",
            " [  0   0   0   0   0   0   0   0   0   0   0   0   0   0   0   0   0   0   0   0   0   0   0   0   0   0   0   0]\n",
            " [  0   0   0   0   0   0   0   0   0   0   0   0   0   0   0   0   0   0   0   0   0   0   0   0   0   0   0   0]\n",
            " [  0   0   0   0   0   0   0   0   0   0   0   0   0   0   0   0   0   0   0   0   0   0   0   0   0   0   0   0]\n",
            " [  0   0   0   0   0   0   0   0   0   0   0   0   0   0   0   0  82 187  26   0   0   0   0   0   0   0   0   0]\n",
            " [  0   0   0   0   0   0   0   0   0   1   0   0   1   0   0 179 240 237 255 240 139  83  64  43  60  54   0   1]\n",
            " [  0   0   0   0   0   0   0   0   0   1   0   0   1   0  58 239 222 234 238 246 252 254 255 248 255 187   0   0]\n",
            " [  0   0   0   0   0   0   0   0   0   0   2   3   0   0 194 239 226 237 235 232 230 234 234 233 249 171   0   0]\n",
            " [  0   0   0   0   0   0   0   0   0   1   1   0   0  10 255 226 242 239 238 239 240 239 242 238 248 192   0   0]\n",
            " [  0   0   0   0   0   0   0   0   0   0   0   0   0 172 245 229 240 241 240 241 243 243 241 227 250 209   0   0]\n",
            " [  0   0   0   0   0   0   0   0   0   6   5   0  62 255 230 236 239 241 242 241 242 242 238 238 242 253   0   0]\n",
            " [  0   0   0   0   0   0   0   0   0   3   0   0 255 235 228 244 241 241 244 243 243 244 243 239 235 255  22   0]\n",
            " [  0   0   0   0   0   0   0   0   0   0   0 246 228 220 245 243 237 241 242 242 242 243 239 237 235 253 106   0]\n",
            " [  0   0   3   4   4   2   1   0   0  18 243 228 231 241 243 237 238 242 241 240 240 240 235 237 236 246 234   0]\n",
            " [  1   0   0   0   0   0   0   0  22 255 238 227 238 239 237 241 241 237 236 238 239 239 239 239 239 237 255   0]\n",
            " [  0   0   0   0   0  25  83 168 255 225 225 235 228 230 227 225 227 231 232 237 240 236 238 239 239 235 251  62]\n",
            " [  0 165 225 220 224 255 255 233 229 223 227 228 231 232 235 237 233 230 228 230 233 232 235 233 234 235 255  58]\n",
            " [ 52 251 221 226 227 225 225 225 226 226 225 227 231 229 232 239 245 250 251 252 254 254 252 254 252 235 255   0]\n",
            " [ 31 208 230 233 233 237 236 236 241 235 241 247 251 254 242 236 233 227 219 202 193 189 186 181 171 165 190  42]\n",
            " [ 77 199 172 188 199 202 218 219 220 229 234 222 213 209 207 210 203 184 152 171 165 162 162 167 168 157 192  78]\n",
            " [  0  45 101 140 159 174 182 186 185 188 195 197 188 175 133  70  19   0   0 209 231 218 222 224 227 217 229  93]\n",
            " [  0   0   0   0   0   0   2  24  37  45  32  18  11   0   0   0   0   0   0  72  51  53  37  34  29  31   5   0]\n",
            " [  0   0   0   0   0   0   0   0   0   0   0   0   0   0   0   0   0   0   0   0   0   0   0   0   0   0   0   0]\n",
            " [  0   0   0   0   0   0   0   0   0   0   0   0   0   0   0   0   0   0   0   0   0   0   0   0   0   0   0   0]\n",
            " [  0   0   0   0   0   0   0   0   0   0   0   0   0   0   0   0   0   0   0   0   0   0   0   0   0   0   0   0]\n",
            " [  0   0   0   0   0   0   0   0   0   0   0   0   0   0   0   0   0   0   0   0   0   0   0   0   0   0   0   0]\n",
            " [  0   0   0   0   0   0   0   0   0   0   0   0   0   0   0   0   0   0   0   0   0   0   0   0   0   0   0   0]]\n"
          ]
        },
        {
          "output_type": "execute_result",
          "data": {
            "text/plain": [
              "<matplotlib.image.AxesImage at 0x7f527b712e50>"
            ]
          },
          "metadata": {},
          "execution_count": 5
        },
        {
          "output_type": "display_data",
          "data": {
            "text/plain": [
              "<Figure size 432x288 with 1 Axes>"
            ],
            "image/png": "[encoded data removed]"
          },
          "metadata": {
            "needs_background": "light"
          }
        }
      ]
    },
    {
      "cell_type": "code",
      "source": [
        "\"\"\"\n",
        "neural networks work better with normalized data\n",
        "Sequenrtial- defines a sequence of layers in neural network\n",
        "Flatten- images were a 28 x 28 pixel matrix\n",
        "  Flatten takes square and turns it into a 1D array\n",
        "  Dense-adds a layer of neurons\n",
        "Each layer of neurons needs and activation function to tell them what to do.\n",
        "\n",
        "Relu- it only passes values 0 or greater to the next layer in network.\n",
        "softmax- takes a list of values and sclaes threse so the sum of all elements will be equal to 1.\n",
        "  When applied ot model outputs think of scaled values as the probability for that class\n",
        "  ie, in this case having the highest value at index=4 means that the model is most confident that the inpout clothing images is a coat.\n",
        "\n",
        "\"\"\"\n",
        "train_images = train_images / 255.0\n",
        "test_images = test_images / 255.0"
      ],
      "metadata": {
        "id": "mhFNGRJP3i8C"
      },
      "execution_count": null,
      "outputs": []
    },
    {
      "cell_type": "code",
      "source": [
        "model = keras.Sequential([\n",
        "  keras.layers.Flatten(input_shape=(28,28)), #this is the shape we should expect data to be in\n",
        "  keras.layers.Dense(128, activation=tf.nn.relu), \n",
        "  keras.layers.Dense(10, activation=tf.nn.softmax)                         \n",
        "    ])"
      ],
      "metadata": {
        "id": "ARvXM68J_TQ_"
      },
      "execution_count": null,
      "outputs": []
    },
    {
      "cell_type": "code",
      "source": [
        "# Declare sample inputs and convert to a tensor\n",
        "inputs = np.array([[1.0, 3.0, 4.0, 2.0]])\n",
        "inputs = tf.convert_to_tensor(inputs)\n",
        "print(f'input to softmax function: {inputs.numpy()}')\n",
        "\n",
        "# Feed the inputs to a softmax activation function\n",
        "outputs = tf.keras.activations.softmax(inputs)\n",
        "print(f'output of softmax function: {outputs.numpy()}')\n",
        "\n",
        "# Get the sum of all values after the softmax\n",
        "sum = tf.reduce_sum(outputs)\n",
        "print(f'sum of outputs: {sum}')\n",
        "\n",
        "# Get the index with highest value\n",
        "prediction = np.argmax(outputs)\n",
        "print(f'class with highest probability: {prediction}')"
      ],
      "metadata": {
        "colab": {
          "base_uri": "https://localhost:8080/"
        },
        "id": "XrYUDkMm_Tas",
        "outputId": "57674e4c-6c7b-4789-a79c-bdf6d952dcfa"
      },
      "execution_count": null,
      "outputs": [
        {
          "output_type": "stream",
          "name": "stdout",
          "text": [
            "input to softmax function: [[1. 3. 4. 2.]]\n",
            "output of softmax function: [[0.0320586  0.23688282 0.64391426 0.08714432]]\n",
            "sum of outputs: 1.0\n",
            "class with highest probability: 2\n"
          ]
        }
      ]
    },
    {
      "cell_type": "code",
      "source": [
        "\"\"\"\n",
        "model is defined above\n",
        "Now build it.  compile the model with optimizer and loss function \n",
        "train it by calling model.fit() asking model to fit your training data to your training labels.\n",
        "  It will figure out the relationship between the training data and its actual labels so in the future if you have inputs that looks \n",
        "  like the training data, then it can predict what the label for that input is.\n",
        "\n",
        "Once it's done training -- you should see an accuracy value at the end of the final epoch, like 0.9098. This tells you that your \n",
        "  neural network is about 90% accurate in classifying the training data.  It figured out a pattern match between the image and the labels\n",
        "   that worked 91% of the time. It was only trained for 5 epochs and done quite quickly.\n",
        "\n",
        "Guessing the relationship between the images and their labels\n",
        "\"\"\"\n",
        "model.compile(optimizer = tf.optimizers.Adam(),\n",
        "              loss = 'sparse_categorical_crossentropy',\n",
        "              metrics=['accuracy'])\n",
        "\n",
        "model.fit(train_images, train_labels, epochs=5)"
      ],
      "metadata": {
        "colab": {
          "base_uri": "https://localhost:8080/"
        },
        "id": "0oY1iAT__Th3",
        "outputId": "c7426b1b-add0-4f07-e4d4-6014963aa2a4"
      },
      "execution_count": null,
      "outputs": [
        {
          "output_type": "stream",
          "name": "stdout",
          "text": [
            "Epoch 1/5\n",
            "1875/1875 [==============================] - 11s 6ms/step - loss: 0.4977 - accuracy: 0.8249\n",
            "Epoch 2/5\n",
            "1875/1875 [==============================] - 14s 7ms/step - loss: 0.3720 - accuracy: 0.8665\n",
            "Epoch 3/5\n",
            "1875/1875 [==============================] - 11s 6ms/step - loss: 0.3331 - accuracy: 0.8787\n",
            "Epoch 4/5\n",
            "1875/1875 [==============================] - 5s 3ms/step - loss: 0.3123 - accuracy: 0.8853\n",
            "Epoch 5/5\n",
            "1875/1875 [==============================] - 6s 3ms/step - loss: 0.2947 - accuracy: 0.8911\n"
          ]
        },
        {
          "output_type": "execute_result",
          "data": {
            "text/plain": [
              "<keras.callbacks.History at 0x7f527b182150>"
            ]
          },
          "metadata": {},
          "execution_count": 9
        }
      ]
    },
    {
      "cell_type": "code",
      "source": [
        "\"\"\"\n",
        "But how would it work with unseen data? That's why we have the test images and labels. We can call model.evaluate() with this \n",
        "test dataset as inputs and it will report back the loss and accuracy of the model\n",
        "accuracy here to be about 0.88 which means it was 88% accurate on the entire test set. It probably would not do as well with unseen data \n",
        "  as it did with data it was trained on!\n",
        "\"\"\"\n",
        "# Evaluate the model on unseen data\n",
        "model.evaluate(test_images, test_labels)"
      ],
      "metadata": {
        "colab": {
          "base_uri": "https://localhost:8080/"
        },
        "id": "xaVpIi7kD4aV",
        "outputId": "0d943795-2841-4852-f5ad-2181ff51acec"
      },
      "execution_count": null,
      "outputs": [
        {
          "output_type": "stream",
          "name": "stdout",
          "text": [
            "313/313 [==============================] - 2s 4ms/step - loss: 0.3412 - accuracy: 0.8784\n"
          ]
        },
        {
          "output_type": "execute_result",
          "data": {
            "text/plain": [
              "[0.3411562144756317, 0.8784000277519226]"
            ]
          },
          "metadata": {},
          "execution_count": 10
        }
      ]
    },
    {
      "cell_type": "code",
      "source": [
        "#the 1st image in dataset is boot, which is # 9\n",
        "index = 0\n",
        "\n",
        "#visualize image\n",
        "plt.imshow(train_images[index], cmap='Greys')"
      ],
      "metadata": {
        "colab": {
          "base_uri": "https://localhost:8080/",
          "height": 283
        },
        "id": "sbiMpvQWkMAt",
        "outputId": "1dfc86d2-8da1-40e5-a2b4-80e152b16c64"
      },
      "execution_count": null,
      "outputs": [
        {
          "output_type": "execute_result",
          "data": {
            "text/plain": [
              "<matplotlib.image.AxesImage at 0x7f5277ab1750>"
            ]
          },
          "metadata": {},
          "execution_count": 11
        },
        {
          "output_type": "display_data",
          "data": {
            "text/plain": [
              "<Figure size 432x288 with 1 Axes>"
            ],
            "image/png": "[encoded data removed]"
          },
          "metadata": {
            "needs_background": "light"
          }
        }
      ]
    },
    {
      "cell_type": "code",
      "source": [
        "classifications = model.predict(test_images)\n",
        "\n",
        "print(classifications[0])"
      ],
      "metadata": {
        "id": "i7qQMlT7ERAC",
        "colab": {
          "base_uri": "https://localhost:8080/"
        },
        "outputId": "81e4d43f-4cdf-4754-de9f-1a3dcce414c8"
      },
      "execution_count": null,
      "outputs": [
        {
          "output_type": "stream",
          "name": "stdout",
          "text": [
            "[1.7241720e-07 1.5624903e-07 1.8054715e-07 7.2628219e-09 2.5912672e-07 2.4971077e-03 2.3042942e-07 3.9143991e-03 5.8486480e-06 9.9358165e-01]\n"
          ]
        }
      ]
    },
    {
      "cell_type": "code",
      "source": [
        "\"\"\"\n",
        "These numbers are a probability that the value being classified is the corresponding value (https://github.com/zalandoresearch/fashion-mnist#labels), \n",
        "i.e. the first value in the list is the probability that the image is '0' (T-shirt/top), the next is a '1' (Trouser) etc. \n",
        "Notice that they are all VERY LOW probabilities. For index 9 (Ankle boot), the probability was in the 90's, \n",
        "i.e. the neural network is telling us that the image is most likely an ankle boot.\n",
        "\n",
        "Label\tDescription\n",
        "0\tT-shirt/top\n",
        "1\tTrouser\n",
        "2\tPullover\n",
        "3\tDress\n",
        "4\tCoat\n",
        "5\tSandal\n",
        "6\tShirt\n",
        "7\tSneaker\n",
        "8\tBag\n",
        "9\tAnkle boot\n",
        "\"\"\"\n",
        "\n",
        "print(test_labels[0])"
      ],
      "metadata": {
        "colab": {
          "base_uri": "https://localhost:8080/"
        },
        "id": "CWFX3fR3gfmx",
        "outputId": "a8c930da-c66c-4173-9c16-fd1ff5261c68"
      },
      "execution_count": null,
      "outputs": [
        {
          "output_type": "stream",
          "name": "stdout",
          "text": [
            "9\n"
          ]
        }
      ]
    },
    {
      "cell_type": "code",
      "source": [
        "#the 1st image in dataset is boot, which is # 9\n",
        "index = 0\n",
        "\n",
        "#visualize image\n",
        "plt.imshow(train_images[index], cmap='Greys')"
      ],
      "metadata": {
        "colab": {
          "base_uri": "https://localhost:8080/",
          "height": 283
        },
        "id": "1DbwGGgAgfq0",
        "outputId": "93d8ad5f-6753-4796-dbbd-11d7542a3a5c"
      },
      "execution_count": null,
      "outputs": [
        {
          "output_type": "execute_result",
          "data": {
            "text/plain": [
              "<matplotlib.image.AxesImage at 0x7f527b0ac4d0>"
            ]
          },
          "metadata": {},
          "execution_count": 14
        },
        {
          "output_type": "display_data",
          "data": {
            "text/plain": [
              "<Figure size 432x288 with 1 Axes>"
            ],
            "image/png": "[encoded data removed]"
          },
          "metadata": {
            "needs_background": "light"
          }
        }
      ]
    },
    {
      "cell_type": "code",
      "source": [
        "classifications1 = model.predict(test_images)\n",
        "print(classifications1[0])"
      ],
      "metadata": {
        "colab": {
          "base_uri": "https://localhost:8080/"
        },
        "id": "Lr8GoLl9gfvx",
        "outputId": "aac203d5-b0a6-44fd-e74b-b5fb316a2a5e"
      },
      "execution_count": null,
      "outputs": [
        {
          "output_type": "stream",
          "name": "stdout",
          "text": [
            "[1.7241720e-07 1.5624903e-07 1.8054715e-07 7.2628219e-09 2.5912672e-07 2.4971077e-03 2.3042942e-07 3.9143991e-03 5.8486480e-06 9.9358165e-01]\n"
          ]
        }
      ]
    },
    {
      "cell_type": "code",
      "source": [
        "print(test_labels[0])"
      ],
      "metadata": {
        "id": "zjvun2KuuQ0C",
        "outputId": "b13eaf42-66f5-4996-a216-472f33184295",
        "colab": {
          "base_uri": "https://localhost:8080/"
        }
      },
      "execution_count": null,
      "outputs": [
        {
          "output_type": "stream",
          "name": "stdout",
          "text": [
            "9\n"
          ]
        }
      ]
    },
    {
      "cell_type": "code",
      "source": [
        "index = 1\n",
        "\n",
        "#visualize image\n",
        "plt.imshow(train_images[index], cmap='Greys')"
      ],
      "metadata": {
        "colab": {
          "base_uri": "https://localhost:8080/",
          "height": 283
        },
        "id": "Uvhq-gVpqo_D",
        "outputId": "8960cc7b-1848-4dea-8870-9091ac23d3a1"
      },
      "execution_count": null,
      "outputs": [
        {
          "output_type": "execute_result",
          "data": {
            "text/plain": [
              "<matplotlib.image.AxesImage at 0x7f527b01af50>"
            ]
          },
          "metadata": {},
          "execution_count": 17
        },
        {
          "output_type": "display_data",
          "data": {
            "text/plain": [
              "<Figure size 432x288 with 1 Axes>"
            ],
            "image/png": "[encoded data removed]"
          },
          "metadata": {
            "needs_background": "light"
          }
        }
      ]
    },
    {
      "cell_type": "code",
      "source": [
        "classifications1 = model.predict(test_images)\n",
        "print(classifications1[1])"
      ],
      "metadata": {
        "colab": {
          "base_uri": "https://localhost:8080/"
        },
        "id": "htkLqSsuqQgo",
        "outputId": "b7cd46c8-1466-4773-e598-960dca95efa7"
      },
      "execution_count": null,
      "outputs": [
        {
          "output_type": "stream",
          "name": "stdout",
          "text": [
            "[4.3866075e-05 1.5199961e-10 9.9421859e-01 2.8203832e-08 3.0463426e-03 6.2662039e-08 2.6910761e-03 2.4918801e-13 9.5174553e-09 1.6972674e-13]\n"
          ]
        }
      ]
    },
    {
      "cell_type": "code",
      "source": [
        "print(test_labels[1])"
      ],
      "metadata": {
        "colab": {
          "base_uri": "https://localhost:8080/"
        },
        "id": "6oM94CgjqQmS",
        "outputId": "31f3a7d0-e5db-45d6-cfd3-506598d8d30b"
      },
      "execution_count": null,
      "outputs": [
        {
          "output_type": "stream",
          "name": "stdout",
          "text": [
            "2\n"
          ]
        }
      ]
    },
    {
      "cell_type": "code",
      "source": [
        "index = 2\n",
        "\n",
        "#visualize image\n",
        "plt.imshow(train_images[index], cmap='Greys')"
      ],
      "metadata": {
        "colab": {
          "base_uri": "https://localhost:8080/",
          "height": 283
        },
        "id": "pQircOJJqQqS",
        "outputId": "085b1159-e859-48b0-b0d4-428290f5cc14"
      },
      "execution_count": null,
      "outputs": [
        {
          "output_type": "execute_result",
          "data": {
            "text/plain": [
              "<matplotlib.image.AxesImage at 0x7f527afeee10>"
            ]
          },
          "metadata": {},
          "execution_count": 20
        },
        {
          "output_type": "display_data",
          "data": {
            "text/plain": [
              "<Figure size 432x288 with 1 Axes>"
            ],
            "image/png": "[encoded data removed]"
          },
          "metadata": {
            "needs_background": "light"
          }
        }
      ]
    },
    {
      "cell_type": "code",
      "source": [
        "classifications1 = model.predict(test_images)\n",
        "print(classifications1[2])"
      ],
      "metadata": {
        "colab": {
          "base_uri": "https://localhost:8080/"
        },
        "id": "2pi9ZOEHqQuc",
        "outputId": "047003b1-cde1-4799-e3ec-d20af4bfdce9"
      },
      "execution_count": null,
      "outputs": [
        {
          "output_type": "stream",
          "name": "stdout",
          "text": [
            "[2.3389867e-07 9.9999952e-01 2.7766555e-08 2.4183350e-07 2.2058904e-08 1.5644378e-11 4.7952109e-10 1.3288558e-19 2.1501866e-10 1.5097446e-16]\n"
          ]
        }
      ]
    },
    {
      "cell_type": "code",
      "source": [
        "print(test_labels[2])"
      ],
      "metadata": {
        "colab": {
          "base_uri": "https://localhost:8080/"
        },
        "id": "pyvKVDwesRWx",
        "outputId": "a735f1a9-d1f3-46e0-a8ff-d32cf0b4030d"
      },
      "execution_count": null,
      "outputs": [
        {
          "output_type": "stream",
          "name": "stdout",
          "text": [
            "1\n"
          ]
        }
      ]
    },
    {
      "cell_type": "code",
      "source": [
        "index = 42\n",
        "\n",
        "#visualize image\n",
        "plt.imshow(train_images[index], cmap='Greys')"
      ],
      "metadata": {
        "colab": {
          "base_uri": "https://localhost:8080/",
          "height": 283
        },
        "id": "ZTJGoeglsfIQ",
        "outputId": "82544928-cbef-4bc6-ea99-1f3e256c21fb"
      },
      "execution_count": null,
      "outputs": [
        {
          "output_type": "execute_result",
          "data": {
            "text/plain": [
              "<matplotlib.image.AxesImage at 0x7f527aef5e50>"
            ]
          },
          "metadata": {},
          "execution_count": 23
        },
        {
          "output_type": "display_data",
          "data": {
            "text/plain": [
              "<Figure size 432x288 with 1 Axes>"
            ],
            "image/png": "[encoded data removed]"
          },
          "metadata": {
            "needs_background": "light"
          }
        }
      ]
    },
    {
      "cell_type": "code",
      "source": [
        "classifications1 = model.predict(test_images)\n",
        "print(classifications1[42])"
      ],
      "metadata": {
        "colab": {
          "base_uri": "https://localhost:8080/"
        },
        "id": "n4mB3hl9sfRi",
        "outputId": "e27493fe-e210-4b3f-e273-9b78b624a7f2"
      },
      "execution_count": null,
      "outputs": [
        {
          "output_type": "stream",
          "name": "stdout",
          "text": [
            "[1.9423646e-01 3.0783305e-03 9.2973402e-03 8.8157095e-02 3.7335724e-02 2.1255016e-07 6.6757786e-01 1.6097962e-08 3.1678236e-04 1.6656529e-07]\n"
          ]
        }
      ]
    },
    {
      "cell_type": "code",
      "source": [
        "print(test_labels[42])"
      ],
      "metadata": {
        "colab": {
          "base_uri": "https://localhost:8080/"
        },
        "id": "T3ki6TTvsfXH",
        "outputId": "8d5ed71b-139a-4364-ec0f-af6bec8de74a"
      },
      "execution_count": null,
      "outputs": [
        {
          "output_type": "stream",
          "name": "stdout",
          "text": [
            "3\n"
          ]
        }
      ]
    },
    {
      "cell_type": "code",
      "source": [
        "index = 1\n",
        "\n",
        "#visualize image\n",
        "plt.imshow(train_images[index], cmap='Greys')"
      ],
      "metadata": {
        "colab": {
          "base_uri": "https://localhost:8080/",
          "height": 283
        },
        "id": "96p187PcsfbN",
        "outputId": "8a902598-30db-4298-d5c7-f7ca05ba68e4"
      },
      "execution_count": null,
      "outputs": [
        {
          "output_type": "execute_result",
          "data": {
            "text/plain": [
              "<matplotlib.image.AxesImage at 0x7f527aee0ed0>"
            ]
          },
          "metadata": {},
          "execution_count": 26
        },
        {
          "output_type": "display_data",
          "data": {
            "text/plain": [
              "<Figure size 432x288 with 1 Axes>"
            ],
            "image/png": "[encoded data removed]"
          },
          "metadata": {
            "needs_background": "light"
          }
        }
      ]
    },
    {
      "cell_type": "code",
      "source": [
        "classifications1 = model.predict(test_images)\n",
        "print(classifications1[5])"
      ],
      "metadata": {
        "colab": {
          "base_uri": "https://localhost:8080/"
        },
        "id": "THmmrV4ntdEi",
        "outputId": "e3231643-1d45-47f1-d3ad-91a9fc9e4981"
      },
      "execution_count": null,
      "outputs": [
        {
          "output_type": "stream",
          "name": "stdout",
          "text": [
            "[1.98586509e-04 9.99746859e-01 1.75862151e-05 1.52747107e-05 1.29702175e-05 4.01926172e-08 8.69613268e-06 7.78674900e-16 1.58822075e-08 8.16805499e-13]\n"
          ]
        }
      ]
    },
    {
      "cell_type": "code",
      "source": [
        "print(test_labels[5])"
      ],
      "metadata": {
        "colab": {
          "base_uri": "https://localhost:8080/"
        },
        "id": "VAzdoA6ctdIh",
        "outputId": "ed9ae9e9-73f3-492a-e313-cc84e92e83c5"
      },
      "execution_count": null,
      "outputs": [
        {
          "output_type": "stream",
          "name": "stdout",
          "text": [
            "1\n"
          ]
        }
      ]
    },
    {
      "cell_type": "code",
      "source": [
        "classifications1 = model.predict(test_images)\n",
        "print(classifications1[116])"
      ],
      "metadata": {
        "colab": {
          "base_uri": "https://localhost:8080/"
        },
        "id": "eVqVnquotdMC",
        "outputId": "3d69c4a4-0bb5-4a0f-a80f-a5cb5b0f26f4"
      },
      "execution_count": null,
      "outputs": [
        {
          "output_type": "stream",
          "name": "stdout",
          "text": [
            "[1.2241976e-04 4.8049687e-06 5.7697995e-05 4.0925729e-06 2.5898760e-05 6.0375846e-06 3.7969783e-04 2.5329005e-06 9.9939179e-01 4.9514565e-06]\n"
          ]
        }
      ]
    },
    {
      "cell_type": "code",
      "source": [
        "print(test_labels[116])"
      ],
      "metadata": {
        "colab": {
          "base_uri": "https://localhost:8080/"
        },
        "id": "tmBGw618tdPj",
        "outputId": "a456703b-454e-4567-8dc1-70577f2ed832"
      },
      "execution_count": null,
      "outputs": [
        {
          "output_type": "stream",
          "name": "stdout",
          "text": [
            "8\n"
          ]
        }
      ]
    },
    {
      "cell_type": "code",
      "source": [
        "\"\"\"\n",
        "first layer in your network should be the same shape as your data. Right now our data is 28x28 images, and 28 layers of 28 neurons \n",
        "  would be infeasible\n",
        "we add the Flatten() layer at the begining, when arrays are loaded into the model later, they'll automatically be flattened for us.\n",
        "\"\"\"\n",
        "\n",
        "\n",
        "model = tf.keras.models.Sequential([tf.keras.layers.Flatten(),\n",
        "                                    tf.keras.layers.Dense(1024, activation=tf.nn.relu), # Try experimenting with this layer\n",
        "                                    tf.keras.layers.Dense(10, activation=tf.nn.softmax)])\n",
        "\n",
        "model.compile(optimizer = 'adam',\n",
        "              loss = 'sparse_categorical_crossentropy',\n",
        "              metrics=['accuracy'])\n",
        "\n",
        "model.fit(train_images, train_labels, epochs=5)\n",
        "\n",
        "model.evaluate(test_images, test_labels)\n",
        "\n",
        "classifications = model.predict(test_images)\n",
        "print('---------------------')\n",
        "print(classifications[1])\n",
        "print(test_labels[1])"
      ],
      "metadata": {
        "colab": {
          "base_uri": "https://localhost:8080/"
        },
        "id": "HbNzeVRFu9Tx",
        "outputId": "fb9232f2-373d-44fc-c9ab-7552585b72c2"
      },
      "execution_count": null,
      "outputs": [
        {
          "output_type": "stream",
          "name": "stdout",
          "text": [
            "Epoch 1/5\n",
            "1875/1875 [==============================] - 18s 9ms/step - loss: 0.4740 - accuracy: 0.8290\n",
            "Epoch 2/5\n",
            "1875/1875 [==============================] - 21s 11ms/step - loss: 0.3567 - accuracy: 0.8687\n",
            "Epoch 3/5\n",
            "1875/1875 [==============================] - 20s 11ms/step - loss: 0.3220 - accuracy: 0.8814\n",
            "Epoch 4/5\n",
            "1875/1875 [==============================] - 19s 10ms/step - loss: 0.2958 - accuracy: 0.8904\n",
            "Epoch 5/5\n",
            "1875/1875 [==============================] - 23s 12ms/step - loss: 0.2771 - accuracy: 0.8970\n",
            "313/313 [==============================] - 1s 4ms/step - loss: 0.3396 - accuracy: 0.8776\n",
            "---------------------\n",
            "[1.8152090e-04 1.3882657e-11 9.9572408e-01 1.3447291e-08 1.1880553e-03 8.9981573e-12 2.9064070e-03 1.6683456e-14 3.5708538e-08 5.4841170e-10]\n",
            "2\n"
          ]
        }
      ]
    },
    {
      "cell_type": "code",
      "source": [
        "\n",
        "model = tf.keras.models.Sequential([tf.keras.layers.Flatten(),\n",
        "                                    tf.keras.layers.Dense(1024, activation=tf.nn.relu), # Try experimenting with this layer\n",
        "                                    tf.keras.layers.Dense(256, activation=tf.nn.relu),\n",
        "                                    tf.keras.layers.Dense(10, activation=tf.nn.softmax)])\n",
        "\n",
        "model.compile(optimizer = 'adam',\n",
        "              loss = 'sparse_categorical_crossentropy',\n",
        "              metrics=['accuracy'])\n",
        "\n",
        "model.fit(train_images, train_labels, epochs=5)\n",
        "print('--------------')\n",
        "\n",
        "print(model.evaluate(test_images, test_labels))\n",
        "\n",
        "classifications = model.predict(test_images)\n",
        "print('---------------------')\n",
        "print(classifications[1])\n",
        "print(test_labels[1])"
      ],
      "metadata": {
        "colab": {
          "base_uri": "https://localhost:8080/"
        },
        "id": "-OTpsFcUu9aZ",
        "outputId": "ec5c3389-c34e-490f-dc38-37ec2f4903ff"
      },
      "execution_count": null,
      "outputs": [
        {
          "output_type": "stream",
          "name": "stdout",
          "text": [
            "Epoch 1/5\n",
            "1875/1875 [==============================] - 29s 15ms/step - loss: 0.4696 - accuracy: 0.8285\n",
            "Epoch 2/5\n",
            "1875/1875 [==============================] - 30s 16ms/step - loss: 0.3523 - accuracy: 0.8708\n",
            "Epoch 3/5\n",
            "1875/1875 [==============================] - 29s 16ms/step - loss: 0.3172 - accuracy: 0.8814\n",
            "Epoch 4/5\n",
            "1875/1875 [==============================] - 29s 15ms/step - loss: 0.2924 - accuracy: 0.8912\n",
            "Epoch 5/5\n",
            "1875/1875 [==============================] - 29s 15ms/step - loss: 0.2774 - accuracy: 0.8970\n",
            "--------------\n",
            "313/313 [==============================] - 2s 5ms/step - loss: 0.3550 - accuracy: 0.8670\n",
            "[0.3550398647785187, 0.8669999837875366]\n",
            "---------------------\n",
            "[1.8164780e-04 7.2950541e-11 9.9143523e-01 9.4069357e-09 6.7958697e-03 3.0885339e-13 1.5872238e-03 2.5602538e-14 4.5990425e-09 4.5946488e-13]\n",
            "2\n"
          ]
        }
      ]
    },
    {
      "cell_type": "code",
      "source": [
        "\"\"\"\n",
        "How can I stop training when I reach a point that I want to be at?\n",
        "training loop support callback so in every epoch you can callback to a code function,\n",
        "    check the metrics and if they're what you want then you can cancel trainng at that point.\n",
        "\n",
        "model.fit() - executes the training loop\n",
        "Gets called by the callback whenever the epoch ends\n",
        "Instantiantiate the class just created with: callbacks = myCallback()\n",
        "In model.fit() use callback parameter and pass it the instance of the class which is callbacks     \n",
        "\n",
        "\n",
        "\"\"\"\n",
        "\n",
        "\n",
        "class myCallback(tf.keras.callbacks.Callback):\n",
        "  def on_epoch_end(self, epoch, logs={}):\n",
        "    if(logs.get('accuracy') >= 0.87): # Experiment with changing this value\n",
        "      print(\"\\nReached 87% accuracy so cancelling training!\")\n",
        "      self.model.stop_training = True\n",
        "\n",
        "callbacks = myCallback()\n",
        "\n",
        "model = tf.keras.models.Sequential([\n",
        "  tf.keras.layers.Flatten(),\n",
        "  tf.keras.layers.Dense(512, activation=tf.nn.relu),\n",
        "  tf.keras.layers.Dense(10, activation=tf.nn.softmax)\n",
        "])\n",
        "model.compile(optimizer='adam', loss='sparse_categorical_crossentropy', metrics=['accuracy'])\n",
        "model.fit(train_images, train_labels, epochs=5, callbacks=[callbacks])\n",
        "\n",
        "print('--------------')\n",
        "\n",
        "print(model.evaluate(test_images, test_labels))\n",
        "\n",
        "classifications = model.predict(test_images)\n",
        "print('---------------------')\n",
        "print(classifications[112])\n",
        "print(test_labels[112])"
      ],
      "metadata": {
        "colab": {
          "base_uri": "https://localhost:8080/"
        },
        "id": "cLHFt9ZUu9ey",
        "outputId": "98e1999b-6045-48a3-e9b0-c2a4540504ac"
      },
      "execution_count": null,
      "outputs": [
        {
          "output_type": "stream",
          "name": "stdout",
          "text": [
            "Epoch 1/5\n",
            "1875/1875 [==============================] - 12s 6ms/step - loss: 0.4734 - accuracy: 0.8304\n",
            "Epoch 2/5\n",
            "1874/1875 [============================>.] - ETA: 0s - loss: 0.3568 - accuracy: 0.8702\n",
            "Reached 87% accuracy so cancelling training!\n",
            "1875/1875 [==============================] - 11s 6ms/step - loss: 0.3568 - accuracy: 0.8702\n",
            "--------------\n",
            "313/313 [==============================] - 1s 3ms/step - loss: 0.3624 - accuracy: 0.8713\n",
            "[0.3624347746372223, 0.8712999820709229]\n",
            "---------------------\n",
            "[7.7137895e-07 8.6187704e-08 7.3410541e-07 9.7275336e-07 4.5916320e-07 2.2704762e-03 2.2293243e-07 9.9768579e-01 2.8769102e-05 1.1744264e-05]\n",
            "7\n"
          ]
        }
      ]
    },
    {
      "cell_type": "code",
      "source": [
        ""
      ],
      "metadata": {
        "id": "zIQOoBibu9iu"
      },
      "execution_count": null,
      "outputs": []
    }
  ]
}